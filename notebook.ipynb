{
 "cells": [
  {
   "cell_type": "markdown",
   "metadata": {},
   "source": [
    "# 4. Command Line Question"
   ]
  },
  {
   "cell_type": "markdown",
   "metadata": {},
   "source": [
    "The executable script file and the output screen can be found in the repository under the name CommandLine.sh and CommandLine.png. Below I put the text of the file for easier reading and understanding."
   ]
  },
  {
   "cell_type": "markdown",
   "metadata": {},
   "source": [
    "```bash\n",
    "#!/bin/bash\n",
    "input_file=\"vodclickstream_uk_movies_03.csv\"\n",
    "\n",
    "# 1. What is the most-watched Netflix title?\n",
    "# group by the uniques titles and count the number of occurrences, saving them in a txt file\n",
    "awk -F ',' '{print $4}' $input_file | sort | uniq -c | sort -nr > title_count.txt\n",
    "# get the title from the txt file\n",
    "most_watched_title=$(head -n 1 title_count.txt | awk '{$1=\"\"; print $0}' | sed 's/^ *//')\n",
    "echo \"Most watched title: $most_watched_title\"\n",
    "\n",
    "# 2. The average time of subsequent clicks on Netflix.com\n",
    "# filtering the duration tha has to be >= 0.0 and saving the values in a new file\n",
    "awk -F ',' '{ if ($3 >= 0.0) print $0 }' $input_file > filtered_duration.csv\n",
    "# the sum of duration (column 3) and the average of them\n",
    "avg_duration=$(awk -F ',' '{print $3}' filtered_duration.csv | awk '{sum += $1} END {print sum/NR}')\n",
    "# convert the duration from seconds to minutes\n",
    "avg_min=$(awk -v avg_duration=\"$avg_duration\" 'BEGIN { avg_min = avg_duration / 60; printf \"%.2f\\n\", avg_min }')\n",
    "# print the result\n",
    "echo \"Average duration of subsequent clicks: $avg_min minutes\"\n",
    "\n",
    "# 3. ID of the user that has spent the most time on Netflix\n",
    "# group by the user_id and sum the duration time of each user, then sorting them and saving them in a txt file\n",
    "awk -F ',' 'NR>1 { sum[$NF] += $3 } END { for (i in sum) print i, sum[i] }' filtered_duration.csv | sort -k2,2nr > sorted_users.txt\n",
    "# get the user_id from the txt file\n",
    "high_time_user=$(head -n 1 sorted_users.txt | awk '{print $1}')\n",
    "echo \"The user that has spent the most time on Netflix: $high_time_user\"\n",
    "```"
   ]
  },
  {
   "cell_type": "markdown",
   "metadata": {},
   "source": [
    "1. To get the most watched Netflix title, we first grouped by each title in the dataset, then counted each time this appeared and saved the results in descending order in a new file, called ```title_count.txt```. At the end we extracted the first title of the file previusly created.\n",
    "2. The average time of subsequent clicks on Netflix, we interpreted it as the average of all the duration times in the column 'duration' of the dataset, since it represents how much time the user stayed on the title, so each value corresponds to one click. Sais this, we filtered the dataset taking into account only the durations that are not negative, then summed all the remaining and took the average. Finally we converted the result from seconds to minutes.\n",
    "3. The id of the user that has spent the most time on netflix has been extracted by first grouping the dataset by each user id, then summing the durations of each one and sorting them in descending order in a file, called ```sorted_users.txt```. At the end we extracted the first user in the file just created."
   ]
  },
  {
   "cell_type": "markdown",
   "metadata": {},
   "source": [
    "The following are the results"
   ]
  },
  {
   "cell_type": "markdown",
   "metadata": {},
   "source": [
    "![CommandLine](CommandLine.png)"
   ]
  },
  {
   "cell_type": "markdown",
   "metadata": {},
   "source": [
    "# 5. Algorithmic Question"
   ]
  },
  {
   "cell_type": "markdown",
   "metadata": {},
   "source": [
    "Federico was given an initial personal score of when he enrolled *S*, which changes every time he takes an exam.\\\n",
    "Every of the exams he has to take is assigned a mark *p*.\\\n",
    "Once he has chosen an exam, his score becomes equal to the mark **S = p**, and at the same time, the scoring system changes:\n",
    "- If he takes an \"easy\" exam (the score of the exam being less than his score), every other exam's mark is increased by\n",
    "the quantity **$S-p$**.\n",
    "- If he takes a \"hard\" exam (the score of the exam is greater than his score), every other exam's mark is decreased by\n",
    "the quantity **$p-S$**.\n",
    "- The exam score can't be negative, so if in any update a mark goes below zero it must be collapsed to zero.\n",
    "\n",
    "He wants to know which is the highest score possible he could get.\n"
   ]
  },
  {
   "cell_type": "code",
   "execution_count": 1,
   "metadata": {},
   "outputs": [],
   "source": [
    "import itertools"
   ]
  },
  {
   "cell_type": "code",
   "execution_count": 2,
   "metadata": {},
   "outputs": [],
   "source": [
    "def FedericosScore(S, marks, p):\n",
    "\n",
    "    copy_marks = marks.copy()                                             # O(n)\n",
    "\n",
    "    if len(copy_marks) == 1:   # base case                                # O(1)\n",
    "        return copy_marks[0]                                              \n",
    "\n",
    "    if p <= S: # easy exam                                                # O(1)\n",
    "        copy_marks.pop(0)                                                 # O(n)\n",
    "        copy_marks = [x+(S-p) if x+(S-p)>=0 else 0 for x in copy_marks]   # O(n) \n",
    "        S = p                                                             # O(1)\n",
    "\n",
    "    else: # hard exam                                                     # O(n)\n",
    "        copy_marks.pop(0)\n",
    "        copy_marks = [x-(p-S) if x-(p-S) >= 0 else 0 for x in copy_marks] #O(n) \n",
    "        S = p\n",
    "        \n",
    "    return FedericosScore(S, copy_marks, copy_marks[0])                   # O(n) \n"
   ]
  },
  {
   "cell_type": "code",
   "execution_count": 4,
   "metadata": {},
   "outputs": [
    {
     "name": "stdout",
     "output_type": "stream",
     "text": [
      "The highest score Federico can get is: 11 with this oder: [7, 1, 5]\n"
     ]
    }
   ],
   "source": [
    "# input 1\n",
    "S = 8\n",
    "marks = [5, 7, 1]\n",
    "\n",
    "permutations = [list(x) for x in itertools.permutations(marks, len(marks))] # all the possible permutations of the exams O(n!)\n",
    "\n",
    "scores = {}\n",
    "for permu in permutations:\n",
    "    scores[FedericosScore(S=S, marks=permu, p=permu[0])] = permu\n",
    "max_s = max(scores.keys())\n",
    "print(f'The highest score Federico can get is: {max_s} with this oder: {scores[max_s]}')"
   ]
  },
  {
   "cell_type": "code",
   "execution_count": 5,
   "metadata": {},
   "outputs": [
    {
     "name": "stdout",
     "output_type": "stream",
     "text": [
      "The highest score Federico can get is: 44 with this order: [27, 21, 32, 18, 24]\n"
     ]
    }
   ],
   "source": [
    "# input 2\n",
    "S = 25\n",
    "marks = [18, 24, 21, 32, 27]\n",
    "\n",
    "#FedericosScore(S, marks, marks[0])\n",
    "\n",
    "permutations = [list(x) for x in itertools.permutations(marks, len(marks))] # all the possible permutations of the exams \n",
    "\n",
    "scores = {}\n",
    "for permu in permutations:\n",
    "    scores[FedericosScore(S=S, marks=permu, p=permu[0])] = permu\n",
    "max_s = max(scores.keys())\n",
    "print(f'The highest score Federico can get is: {max_s} with this order: {scores[max_s]}')"
   ]
  },
  {
   "cell_type": "code",
   "execution_count": null,
   "metadata": {},
   "outputs": [],
   "source": [
    "# input 3\n",
    "S = 30\n",
    "marks = [13, 27, 41, 59, 28, 33, 39, 19, 52, 48, 55, 79]\n",
    "\n",
    "permutations = [list(x) for x in itertools.permutations(marks, len(marks))] # all the possible permutations of the exams \n",
    "\n",
    "# memory exceeded\n",
    "\n",
    "scores = {}\n",
    "for permu in permutations:\n",
    "    scores[FedericosScore(S=S, marks=permu, p=permu[0])] = permu\n",
    "max_s = max(scores.keys())\n",
    "print(f'The highest score Federico can get is: {max_s} with this order: {scores[max_s]}')"
   ]
  },
  {
   "cell_type": "markdown",
   "metadata": {},
   "source": [
    "The idea behind this initial solution is to have a function, ```FedrericosScore```, that takes in input:\n",
    "- ```S```: the initial score of the student\n",
    "- ```marks```: the list of the exams' marks\n",
    "- ```p```: the first exam's mark\n",
    "\n",
    "Then, since the student can choose the order of the esams he can take, we compute all the possible $n!$ permutations of the exams and give them in input, one by one, to the function.\\\n",
    "The result will be stored in a dictionary with keys the score and as vaulues the specific permutation that will make the student obstain that final score.\\\n",
    "Finally, we take the maximum score, out of the dictionary's keys, and its associated value; in this way the student will know in which order he has to take its exams in order to obtain the maximum score possible.\n",
    "\n",
    "time complexity of the function:\\\n",
    "Assuming $n$ is the lenght of the ```marks``` list\n",
    "- ```copy_marks``` has a $O(n)$\n",
    "- ```if len(copy_marks) == 1``` has a constant time $O(1)$\n",
    "- ```if p <= S:``` has a total complexity of $O(n)$, since it has to pop the first element, shifting all the others, and in the list comprehension has to iterate on all the elements of the list.\n",
    "- ```else:``` has a total complexity of $O(n)$ for the same reason above.\n",
    "- ```return FedericosScore``` has a time complexity of $T(n-1)$ in the worst case, since depends on the number of elements left in the list.\n",
    "\n",
    "So the function has a quadratic time complexity of $O(n^2)$, because the overall time complexity results in $T(n) = T(n-1) + O(n)$\\\n",
    "Then it has to be applied $n!$ times, for each one of the permutations of the list, so at the end the whole algorithm will have a complexity of $O(n^2 \\cdot n!)$\n",
    "\n",
    "This can't be sustainbable, since is highly memory-comsuming computing all the $n!$ permutations of a list as $n$ grows; for this reason this method doesn't work on the ```intput 3``` since has $n=12$ elements and all its permutations will be $479.001.600$. "
   ]
  },
  {
   "cell_type": "markdown",
   "metadata": {},
   "source": [
    "## Optimization"
   ]
  },
  {
   "cell_type": "code",
   "execution_count": 7,
   "metadata": {},
   "outputs": [],
   "source": [
    "def Federicos_score_opt(S, marks):\n",
    "\n",
    "    if len(marks) == 0:                                                                # O(1)     \n",
    "        return S                                                                       # O(1)     \n",
    "    \n",
    "    maxScore = 0  # keep track of the maximum score Federico can achieve               # O(1)\n",
    "    for i, mark in enumerate(marks):                                                   # O(n) \n",
    "        update_marks = marks[:i] + marks[i+1:] # don't consider the current exam       # O(n) \n",
    "        newScore = mark                                                                # O(1)\n",
    "        if mark <= S: # esasy exam                                                     # O(1)\n",
    "            update_marks = [x+(S-mark) if x+(S-mark)>=0 else 0 for x in update_marks]  # O(n)\n",
    "        else: # hard exam\n",
    "            update_marks = [x-(mark-S) if x-(mark-S)>=0 else 0 for x in update_marks]  # O(n)\n",
    "\n",
    "        # comparing the current maxScore with the result of the recursive call.\n",
    "        maxScore = max(maxScore, Federicos_score_opt(newScore, update_marks))          # O(n-1)\n",
    "    return maxScore"
   ]
  },
  {
   "cell_type": "code",
   "execution_count": 8,
   "metadata": {},
   "outputs": [
    {
     "name": "stdout",
     "output_type": "stream",
     "text": [
      "Output 1: 11\n"
     ]
    }
   ],
   "source": [
    "# input 1\n",
    "S_1 = 8\n",
    "p_1 = [5, 7, 1]\n",
    "result_1 = Federicos_score_opt(S_1, p_1)\n",
    "print(\"Output 1:\", result_1)"
   ]
  },
  {
   "cell_type": "code",
   "execution_count": 12,
   "metadata": {},
   "outputs": [
    {
     "name": "stdout",
     "output_type": "stream",
     "text": [
      "Output 2: 44\n"
     ]
    }
   ],
   "source": [
    "S_2 = 25\n",
    "p_2 = [18, 24, 21, 32, 27]\n",
    "result_2 = Federicos_score_opt(S_2, p_2)\n",
    "print(\"Output 2:\", result_2)"
   ]
  },
  {
   "cell_type": "code",
   "execution_count": 11,
   "metadata": {},
   "outputs": [
    {
     "name": "stdout",
     "output_type": "stream",
     "text": [
      "Output 3: 109\n"
     ]
    }
   ],
   "source": [
    "S_3 = 30\n",
    "p_3 = [13, 27, 41, 59, 28, 33, 39, 19, 52, 48, 55, 79]\n",
    "result_3 = Federicos_score_opt(S_3, p_3)\n",
    "print(\"Output 3:\", result_3)\n",
    "\n",
    "# took 16 mins"
   ]
  },
  {
   "cell_type": "markdown",
   "metadata": {},
   "source": [
    "In this solution we don't have to explicitally compute all the possible permutations of the exams, because the optimized function explores all possible combinations of the exams recursivly and eventually finds the combination that guarantees the highest score possible by exploring different paths for each exam in the list. \n",
    "\n",
    "Time complexity of the function:\\\n",
    "Assuming $n$ is the lenght of the ```marks``` list\n",
    "- ```if len(copy_marks) == 1``` has a constant time $O(1)$\n",
    "- ```for i, mark in enumerate(marks)``` has a linear time of $O(n)$ because we iterate through all the exams\n",
    "- ```update_marks = marks[:i] + marks[i + 1:]``` has a linear time complexity $O(n)$ since we're performing a list slicing\n",
    "- ```if mark <= S``` loop has a total complexity of $O(n)$ since the list comprehension inside explores all the elements in the list\n",
    "- ```else``` loop has the complexity of $O(n)$ for the same reason above\n",
    "- ```maxScore = max(maxScore, Federicos_score_opt(newScore, update_marks))``` has a time complexity of $T(n-1)$ in the worst case, since depends on the number of elements left in the list.\n",
    "\n",
    "Since the recursive call of the function is inside the loop of complexity $O(n^2)$, this significantly contributes to the overall complexity of the function, that is $O(n^3)$.\\\n",
    "This is an improvement in respect to the previus algorithm, both on time complexity and memory complexity, since we're now able to actually see a result for the exam's list of the third input."
   ]
  },
  {
   "cell_type": "markdown",
   "metadata": {},
   "source": [
    "# ChatGPT optimization implementation "
   ]
  },
  {
   "cell_type": "code",
   "execution_count": 31,
   "metadata": {},
   "outputs": [],
   "source": [
    "def Federicos_score_chatGPT(S, marks, store={}):\n",
    "    if len(marks) == 0:\n",
    "        return S\n",
    "\n",
    "    if (S, tuple(marks)) in store:\n",
    "        return store[(S, tuple(marks))]\n",
    "\n",
    "    maxScore = 0\n",
    "    for i, mark in enumerate(marks):\n",
    "        update_marks = marks[:i] + marks[i + 1:]\n",
    "        newScore = mark\n",
    "        if mark <= S:\n",
    "            update_marks = [x + (S - mark) if x + (S - mark) >= 0 else 0 for x in update_marks]\n",
    "        else:\n",
    "            update_marks = [x - (mark - S) if x - (mark - S) >= 0 else 0 for x in update_marks]\n",
    "\n",
    "        maxScore = max(maxScore, Federicos_score_chatGPT(newScore, update_marks, store))\n",
    "\n",
    "    store[(S, tuple(marks))] = maxScore\n",
    "    return maxScore\n"
   ]
  },
  {
   "cell_type": "code",
   "execution_count": 32,
   "metadata": {},
   "outputs": [
    {
     "name": "stdout",
     "output_type": "stream",
     "text": [
      "Output 1: 11\n"
     ]
    }
   ],
   "source": [
    "# input 1\n",
    "S_1 = 8\n",
    "p_1 = [5, 7, 1]\n",
    "result_1 = Federicos_score_chatGPT(8, [5,7,1])\n",
    "print(\"Output 1:\", result_1)"
   ]
  },
  {
   "cell_type": "code",
   "execution_count": 29,
   "metadata": {},
   "outputs": [
    {
     "name": "stdout",
     "output_type": "stream",
     "text": [
      "Output 2: 44\n"
     ]
    }
   ],
   "source": [
    "S_2 = 25\n",
    "p_2 = [18, 24, 21, 32, 27]\n",
    "result_2 = Federicos_score_chatGPT(S_2, p_2)\n",
    "print(\"Output 2:\", result_2)"
   ]
  },
  {
   "cell_type": "code",
   "execution_count": 30,
   "metadata": {},
   "outputs": [
    {
     "name": "stdout",
     "output_type": "stream",
     "text": [
      "Output 3: 109\n"
     ]
    }
   ],
   "source": [
    "S_3 = 30\n",
    "p_3 = [13, 27, 41, 59, 28, 33, 39, 19, 52, 48, 55, 79]\n",
    "result_3 = Federicos_score_chatGPT(S_3, p_3)\n",
    "print(\"Output 3:\", result_3)\n",
    "\n",
    "# took 2.5 seconds"
   ]
  },
  {
   "cell_type": "markdown",
   "metadata": {},
   "source": [
    "Optimization Approach:\n",
    "\n",
    "- **Memoization**: Introduced a memoization dictionary (```store```) to store previously computed results for combinations of ```S``` and ```marks```. This prevents redundant calculations by checking if a specific combination has been encountered before. If so, it retrieves the result from memo instead of recomputing it.\n",
    "\n",
    "- **Avoidance of Recomputation**: By storing and retrieving results from the ```store``` dictionary, the function bypasses the need to recompute solutions for the same combination of ```S``` and ```marks```. This significantly reduces the number of recursive calls and computations required, leading to a more efficient algorithm overall.\n",
    "\n",
    "This optimization effectively reduces the time complexity of the algorithm from $O(n^3)$ to $O(n^2)$ by avoiding redundant computations through memoization."
   ]
  }
 ],
 "metadata": {
  "kernelspec": {
   "display_name": "Python 3",
   "language": "python",
   "name": "python3"
  },
  "language_info": {
   "codemirror_mode": {
    "name": "ipython",
    "version": 3
   },
   "file_extension": ".py",
   "mimetype": "text/x-python",
   "name": "python",
   "nbconvert_exporter": "python",
   "pygments_lexer": "ipython3",
   "version": "3.11.7"
  }
 },
 "nbformat": 4,
 "nbformat_minor": 2
}
