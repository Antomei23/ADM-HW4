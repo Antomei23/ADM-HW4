{
 "cells": [
  {
   "cell_type": "markdown",
   "metadata": {},
   "source": [
    "# Homework 4 - Recommendation systems and clustering everywhere"
   ]
  },
  {
   "cell_type": "markdown",
   "metadata": {},
   "source": [
    "## Part 1: Recommendation system"
   ]
  },
  {
   "cell_type": "markdown",
   "metadata": {},
   "source": [
    "1.1 Analyzing e fixing stuff"
   ]
  },
  {
   "cell_type": "code",
   "execution_count": 1,
   "metadata": {},
   "outputs": [],
   "source": [
    "# Import libraries\n",
    "import numpy as np\n",
    "import pandas as pd\n",
    "import re\n",
    "import matplotlib as mpl\n",
    "import matplotlib.pyplot as plt\n",
    "import time # used to measure computational time\n",
    "from pyspark import SparkContext, SparkConf # used for MapReduce\n",
    "from pyspark.sql import SparkSession # used for MapReduce\n",
    "from scipy.stats import chi2_contingency # used to perform the chi-squared test\n",
    "from sklearn.preprocessing import StandardScaler # used for normalization\n",
    "from sklearn.preprocessing import LabelEncoder # used for categorical features preprocessing\n",
    "from sklearn.decomposition import PCA # used for dimensionality reduction (PCA)\n",
    "from sklearn.cluster import KMeans # used as baseline to compare custom kmeans\n",
    "from kmodes.kprototypes import KPrototypes # suggested by chatgpt\n",
    "from sklearn.metrics import silhouette_score # used to calculate silhouette score\n",
    "from tqdm.auto import tqdm # Used for progress bar\n",
    "from functools import reduce # Used in kmeans++ to filter out selected centroids\n",
    "from pyspark.sql.functions import lit # Used in kmeans++ to filter out selected centroids\n",
    "import warnings # Used to suppress FutureWarnings derived from pyspark modules\n",
    "warnings.filterwarnings(\"ignore\", category=FutureWarning)"
   ]
  },
  {
   "cell_type": "code",
   "execution_count": null,
   "metadata": {},
   "outputs": [],
   "source": [
    "# Initialize Spark session, leveraging all available cores\n",
    "conf = SparkConf().setAppName('ADM_HW4_G17')\\\n",
    "                  .setMaster('local[*]')\\\n",
    "                  .set('spark.ui.showConsoleProgress', False) # Hide the default progress bar\n",
    "sc = SparkContext(conf=conf)\n",
    "spark = SparkSession(sc)\n",
    "sc.setLogLevel('ERROR') # Change log level to suppress warnings raised if the cores of computer are not enough"
   ]
  },
  {
   "cell_type": "code",
   "execution_count": 3,
   "metadata": {},
   "outputs": [],
   "source": [
    "tsv_path = \"vodclickstream_uk_movies_03.csv\"\n",
    "\n",
    "Netflix = pd.read_csv(tsv_path)"
   ]
  },
  {
   "cell_type": "code",
   "execution_count": 5,
   "metadata": {},
   "outputs": [
    {
     "name": "stdout",
     "output_type": "stream",
     "text": [
      "<class 'pandas.core.frame.DataFrame'>\n",
      "RangeIndex: 671736 entries, 0 to 671735\n",
      "Data columns (total 8 columns):\n",
      " #   Column        Non-Null Count   Dtype  \n",
      "---  ------        --------------   -----  \n",
      " 0   Unnamed: 0    671736 non-null  int64  \n",
      " 1   datetime      671736 non-null  object \n",
      " 2   duration      671736 non-null  float64\n",
      " 3   title         671736 non-null  object \n",
      " 4   genres        671736 non-null  object \n",
      " 5   release_date  671736 non-null  object \n",
      " 6   movie_id      671736 non-null  object \n",
      " 7   user_id       671736 non-null  object \n",
      "dtypes: float64(1), int64(1), object(6)\n",
      "memory usage: 41.0+ MB\n"
     ]
    }
   ],
   "source": [
    "Netflix.info()"
   ]
  },
  {
   "cell_type": "markdown",
   "metadata": {},
   "source": [
    "We want to change datetime in this way, we can work with this data"
   ]
  },
  {
   "cell_type": "code",
   "execution_count": 6,
   "metadata": {},
   "outputs": [],
   "source": [
    "Netflix.datetime = pd.to_datetime(Netflix.datetime)\n",
    "Netflix.release_date = pd.to_datetime(Netflix.release_date, errors='coerce')"
   ]
  },
  {
   "cell_type": "markdown",
   "metadata": {},
   "source": [
    "We Will use an LSH algorithm and to use it we need shingles, so we will change he \"genres\" features in a way taìhat we can access to each genre "
   ]
  },
  {
   "cell_type": "code",
   "execution_count": 7,
   "metadata": {},
   "outputs": [],
   "source": [
    "Netflix.genres.apply(lambda row: row.split(','))\n",
    "Netflix['genres_list'] = ''\n",
    "Netflix['genres_list'] = Netflix.genres.apply(lambda row: [word.strip() for word in row.split(',')])"
   ]
  },
  {
   "cell_type": "code",
   "execution_count": 8,
   "metadata": {},
   "outputs": [
    {
     "data": {
      "text/html": [
       "<div>\n",
       "<style scoped>\n",
       "    .dataframe tbody tr th:only-of-type {\n",
       "        vertical-align: middle;\n",
       "    }\n",
       "\n",
       "    .dataframe tbody tr th {\n",
       "        vertical-align: top;\n",
       "    }\n",
       "\n",
       "    .dataframe thead th {\n",
       "        text-align: right;\n",
       "    }\n",
       "</style>\n",
       "<table border=\"1\" class=\"dataframe\">\n",
       "  <thead>\n",
       "    <tr style=\"text-align: right;\">\n",
       "      <th></th>\n",
       "      <th>user_id</th>\n",
       "      <th>title</th>\n",
       "      <th>genres</th>\n",
       "      <th>clicks</th>\n",
       "    </tr>\n",
       "  </thead>\n",
       "  <tbody>\n",
       "    <tr>\n",
       "      <th>0</th>\n",
       "      <td>00004e2862</td>\n",
       "      <td>Hannibal</td>\n",
       "      <td>Crime, Drama, Thriller</td>\n",
       "      <td>1</td>\n",
       "    </tr>\n",
       "    <tr>\n",
       "      <th>6</th>\n",
       "      <td>000052a0a0</td>\n",
       "      <td>Looper</td>\n",
       "      <td>Action, Drama, Sci-Fi, Thriller</td>\n",
       "      <td>9</td>\n",
       "    </tr>\n",
       "    <tr>\n",
       "      <th>3</th>\n",
       "      <td>000052a0a0</td>\n",
       "      <td>Frailty</td>\n",
       "      <td>Crime, Drama, Thriller</td>\n",
       "      <td>3</td>\n",
       "    </tr>\n",
       "    <tr>\n",
       "      <th>5</th>\n",
       "      <td>000052a0a0</td>\n",
       "      <td>Jumanji</td>\n",
       "      <td>Adventure, Comedy, Family, Fantasy</td>\n",
       "      <td>3</td>\n",
       "    </tr>\n",
       "    <tr>\n",
       "      <th>7</th>\n",
       "      <td>000052a0a0</td>\n",
       "      <td>Resident Evil</td>\n",
       "      <td>Action, Horror, Sci-Fi</td>\n",
       "      <td>2</td>\n",
       "    </tr>\n",
       "  </tbody>\n",
       "</table>\n",
       "</div>"
      ],
      "text/plain": [
       "      user_id          title                              genres  clicks\n",
       "0  00004e2862       Hannibal              Crime, Drama, Thriller       1\n",
       "6  000052a0a0         Looper     Action, Drama, Sci-Fi, Thriller       9\n",
       "3  000052a0a0        Frailty              Crime, Drama, Thriller       3\n",
       "5  000052a0a0        Jumanji  Adventure, Comedy, Family, Fantasy       3\n",
       "7  000052a0a0  Resident Evil              Action, Horror, Sci-Fi       2"
      ]
     },
     "execution_count": 8,
     "metadata": {},
     "output_type": "execute_result"
    }
   ],
   "source": [
    "#We add the clicks feature to know how many time each user watched that film, in this way we don't lose the info of which film\n",
    "#each user wathced a lot of times\n",
    "Netflix['clicks'] = 1\n",
    "user_clicks = Netflix.groupby(['user_id', 'title', 'genres']).size().reset_index(name='clicks')\n",
    "\n",
    "# Sort the DataFrame by clicks in descending order for each user\n",
    "user_clicks_sorted = user_clicks.sort_values(by=['user_id', 'clicks'], ascending=[True, False])\n",
    "\n",
    "# Group by user_id and take the top 10 movies for each user\n",
    "top_10_movies_per_user = user_clicks_sorted.groupby('user_id').head(10)\n",
    "\n",
    "# Display the result (title, genres_list, and clicks of the top 10 movies for each user)\n",
    "top_10_movies_per_user[['user_id', 'title', 'genres', 'clicks']].head()"
   ]
  },
  {
   "cell_type": "markdown",
   "metadata": {},
   "source": [
    "we want a matrix that remind which genre each user watched"
   ]
  },
  {
   "cell_type": "code",
   "execution_count": 9,
   "metadata": {},
   "outputs": [],
   "source": [
    "all_genres = set(genre for genres_list in Netflix['genres_list'] for genre in genres_list)# avoid doubles\n",
    "all_genres=list(all_genres)\n",
    "all_user_ids = Netflix['user_id'].unique()\n",
    "matrix2 = pd.DataFrame(0, index=all_genres, columns=all_user_ids)\n",
    "\n",
    "# We put a 1 if the user saw a film of that type\n",
    "for index, row in Netflix.iterrows():\n",
    "    user_id = row['user_id']\n",
    "    genres_list = row['genres_list']\n",
    "    matrix2.loc[genres_list, user_id] = 1\n",
    "\n",
    "#matrix2"
   ]
  },
  {
   "cell_type": "markdown",
   "metadata": {},
   "source": [
    "1.2 Minhash Signatures"
   ]
  },
  {
   "cell_type": "markdown",
   "metadata": {},
   "source": [
    "We want to simulate the permutation od the rows, to do it we use an hash function that we will be fixed after the start of the procedure. this is a procedure that we need to create a signature Matrix, also To reduce the number of calculation and comparison we want to create a signature matrix and divide this in band, we will use numpy to speed-up all the procedure"
   ]
  },
  {
   "cell_type": "code",
   "execution_count": 10,
   "metadata": {},
   "outputs": [],
   "source": [
    "def hash_function(x,m,a,b):\n",
    "  p=31\n",
    "  c=((a*x+b)%p)\n",
    "  return(c)\n"
   ]
  },
  {
   "cell_type": "code",
   "execution_count": 27,
   "metadata": {},
   "outputs": [],
   "source": [
    "import random\n",
    "import numpy as np\n",
    "import pandas as pd\n",
    "\n",
    "k = 19\n",
    "num_rows = matrix2.shape[0]\n",
    "\n",
    "#we choose the parameter of the hash formula\n",
    "a = [random.randint(1, 100) for _ in range(k+1)]\n",
    "b = [random.randint(1, 100) for _ in range(k+1)]\n",
    "#initialization of the signature matrix\n",
    "Signature_hash = np.full((k+1, len(all_user_ids)), 10000)\n",
    "m=-1#temporary number that we need because the resulting matrix will be a numpy\n",
    "for j in all_genres:\n",
    "    m+=1\n",
    "    s=-1 #same reason of m\n",
    "    for h in all_user_ids:\n",
    "        s+=1\n",
    "        if matrix2.loc[j, h] == 1:\n",
    "\n",
    "          for i in range(k+1):\n",
    "            #we choosed to keep the min value, like in the paper that was proposed in the HW\n",
    "            Signature_hash[i,s]=min(hash_function(m,113,a[i],b[i]),Signature_hash[i,s])\n",
    "\n",
    "\n",
    "\n",
    "#Signature_hash\n",
    "#to work again with the user_ids we want the matrix like a Dataframe\n",
    "Signature_hash_df = pd.DataFrame(Signature_hash, index=range(k+1), columns=all_user_ids)"
   ]
  },
  {
   "cell_type": "markdown",
   "metadata": {},
   "source": [
    "1.3 LSH Algorithm"
   ]
  },
  {
   "cell_type": "markdown",
   "metadata": {},
   "source": [
    "The LSH is the combination of the following passages, now the important thing is in how many buckets we want to divide the users. We used this parameters for the buckets, bands because after we tried a lot we found that this was a good compromise for to obtain a good solution in a good amount of time"
   ]
  },
  {
   "cell_type": "code",
   "execution_count": 28,
   "metadata": {},
   "outputs": [],
   "source": [
    "#Band\n",
    "#we want to divide the band to reduce the number of comparison, we know that more rows will mean an higher\n",
    "#precision but we will have an higher cost of calculation\n",
    "rows_per_band = 5\n",
    "num_bands = k // rows_per_band\n",
    "\n",
    "buckets = {}\n",
    "\n",
    "for band_index in range(num_bands+1):\n",
    "  n = [random.randint(1, 100) for _ in range(rows_per_band+1)]\n",
    "\n",
    "  for i in all_user_ids:\n",
    "    hash_values=0\n",
    "    # isolatung the column and the rows\n",
    "    start_row = band_index * rows_per_band\n",
    "    end_row = ((band_index + 1) * rows_per_band)-1\n",
    "    v=Signature_hash_df.loc[start_row:end_row,i]\n",
    "    #we hash again this value and we will use it like a key for a dictionary, in this\n",
    "    #way we can divide the users, the users in the same bucket will be more similar\n",
    "    for g in range(len(v)):\n",
    "      hash_values+=v[g+band_index * rows_per_band]*n[g]\n",
    "    hash_values=hash_values%41\n",
    "    if hash_values not in buckets:\n",
    "      buckets[hash_values] = []\n",
    "    buckets[hash_values].append(i)"
   ]
  },
  {
   "cell_type": "markdown",
   "metadata": {},
   "source": [
    "We will calculate the Similarity with the Jaccard Similarity,\n",
    "so number of buckets were both users are present divided by the number of buckets where it is present alone"
   ]
  },
  {
   "cell_type": "code",
   "execution_count": 29,
   "metadata": {},
   "outputs": [],
   "source": [
    "def similarity(user1, user2):\n",
    "\n",
    "    counter=0#we need this to calculate in how many buckets that they are present\n",
    "    key=buckets.keys()\n",
    "    for s in key:\n",
    "      if user1 in buckets[s] and user2 in buckets[s]:\n",
    "        counter+=1\n",
    "    similarity_value=counter/(num_bands+1)\n",
    "\n",
    "    return similarity_value\n"
   ]
  },
  {
   "cell_type": "markdown",
   "metadata": {},
   "source": [
    "To find the 2 user more similar to one we will use the function described before iterating it on all the users of the same buckets"
   ]
  },
  {
   "cell_type": "code",
   "execution_count": 30,
   "metadata": {},
   "outputs": [],
   "source": [
    "def two_most_similar(user):\n",
    "    v = []\n",
    "    key=buckets.keys()\n",
    "    for k in key:\n",
    "        if user in buckets[k]:\n",
    "            # We don't want to calculate the similarity with each other user, but only with the users of the same bucket\n",
    "            for h in buckets[k]:\n",
    "                if h != user:\n",
    "                    sim = similarity(user, h)\n",
    "                    v.append((h, sim))\n",
    "\n",
    "    # Ordering with the higher similarity\n",
    "    v=list(set(v))\n",
    "    sorted_list = sorted(v, key=lambda x: x[1], reverse=True)\n",
    "\n",
    "    # We need only the best 2\n",
    "    best = sorted_list[:2]\n",
    "\n",
    "    return best"
   ]
  },
  {
   "cell_type": "code",
   "execution_count": 31,
   "metadata": {},
   "outputs": [],
   "source": [
    "def Raccomandation(user):\n",
    "  #2 temporary variable\n",
    "  clicks1=[]\n",
    "  clicks2=[]\n",
    "\n",
    "  best=two_most_similar(user)#finding the most 2 similar users to the one we are searching\n",
    "  users,sim=zip(*best)\n",
    "  users_list=list(users)\n",
    "  #we take the film for each user\n",
    "  movies_for_user1 = top_10_movies_per_user.loc[top_10_movies_per_user['user_id'] == users_list[0], 'title']\n",
    "  movies_for_user2 = top_10_movies_per_user.loc[top_10_movies_per_user['user_id'] == users_list[1], 'title']\n",
    " #first we want the movies that they have in common\n",
    "  tip=list(set(movies_for_user1).intersection(set(movies_for_user2)))\n",
    "\n",
    "  if len(tip)<5: #if we haven't enough film\n",
    "\n",
    "    temp_v = set(movies_for_user1) - set(tip) #we take the film that are diffirent for fist user\n",
    "    temp_v = pd.Series(list(temp_v))\n",
    "    #the following passages are to order in base of clicks\n",
    "    for g in temp_v:\n",
    "      clicks1.append(top_10_movies_per_user.loc[(top_10_movies_per_user['user_id'] == users_list[0]) & (top_10_movies_per_user['title'] == g),'clicks'].values)\n",
    "    temp=zip(temp_v,clicks1)\n",
    "    best_df = pd.DataFrame(temp, columns=['title', 'clicks'])\n",
    "    best = best_df.sort_values(by='clicks', ascending=False).head(5)\n",
    "    a=5-len(tip) #a indicates the film that i am missing\n",
    "    if a<= len(best): #now we have enough films\n",
    "      raccomandation=best[:a]\n",
    "      titles=raccomandation['title'].tolist()\n",
    "      final=tip+titles\n",
    "    else: #we still haven't enough films\n",
    "      titles=best['title'].tolist()\n",
    "      final = list(tip) + list(titles)\n",
    "       #we repeat the same process that we did for the first user to the second user\n",
    "      temp_2 = list(set(movies_for_user2) - set(tip))\n",
    "\n",
    "      for g in temp_2:\n",
    "        clicks2.append(top_10_movies_per_user.loc[(top_10_movies_per_user['user_id'] == users_list[1]) & (top_10_movies_per_user['title'] == g),'clicks'].values)\n",
    "      temp=zip(temp_2,clicks2)\n",
    "      best_df = pd.DataFrame(temp, columns=['title', 'clicks'])\n",
    "      best = best_df.sort_values(by='clicks', ascending=False)\n",
    "      a=5-len(final)\n",
    "      raccomandation=best[:a] \n",
    "\n",
    "      titles2=raccomandation['title'].tolist()\n",
    "      final=final+titles2\n",
    "\n",
    "\n",
    "  elif len(tip)>6: #we have too much film , so we order for the click and then take only the best one\n",
    "    for h in tip:\n",
    "      clicks.append(top_10_movies_per_user.loc[(top_10_movies_per_user['user_id'] == users_list[0]) & (top_10_movies_per_user['title'] == h), 'clicks']+top_10_movies_per_user.loc[(top_10_movies_per_user['user_id'] == users_list[1])& (top_10_movies_per_user['title'] == h), 'clicks'])\n",
    "    temp=zip(tip,clicks)\n",
    "    best_df = pd.DataFrame(temp, columns=['title', 'clicks'])\n",
    "    best = best_df.sort_values(by='clicks', ascending=False).head(5)\n",
    "    titles=best['title'].tolist()\n",
    "    final = list(tip) + list(titles)\n",
    "\n",
    "  return(final)\n"
   ]
  },
  {
   "cell_type": "code",
   "execution_count": 32,
   "metadata": {},
   "outputs": [
    {
     "data": {
      "text/plain": [
       "['Christmas Inheritance',\n",
       " 'A Christmas Prince',\n",
       " 'Fallen',\n",
       " 'Budapest',\n",
       " 'Deadly Scholars']"
      ]
     },
     "execution_count": 32,
     "metadata": {},
     "output_type": "execute_result"
    }
   ],
   "source": [
    "Query=Raccomandation('2428de4ee1')\n",
    "Query"
   ]
  },
  {
   "cell_type": "markdown",
   "id": "4760600c",
   "metadata": {},
   "source": [
    "## Part 2: Grouping Users together!"
   ]
  },
  {
   "cell_type": "markdown",
   "id": "4a2d158f",
   "metadata": {},
   "source": [
    "In this part, multiple **clustering** algorithms will be explored with the objective of grouping Netflix users on basis of their similarity. Several stages are required to do so. "
   ]
  },
  {
   "cell_type": "markdown",
   "id": "028d1fe2",
   "metadata": {},
   "source": [
    "### 2.1: Feature Engineering"
   ]
  },
  {
   "cell_type": "markdown",
   "id": "14e11a1a",
   "metadata": {},
   "source": [
    "Sometimes, the features (variables, fields) are not given in a dataset but can be created from it; this is known as **feature engineering**.  \n",
    "In this case, the dataset provided contains informations (such as user_id, title of movie, etc.) about every interaction on the platform between 2017 and 2019. The following code is used to preprocess it and build a new dataset where each row is associated to a unique user, storing informations about their behaviour in 15 features (5 mandatory, 10 arbitrary)."
   ]
  },
  {
   "cell_type": "code",
   "execution_count": 5,
   "id": "5ec86a61",
   "metadata": {},
   "outputs": [
    {
     "data": {
      "text/plain": [
       "(606422, 7)"
      ]
     },
     "metadata": {},
     "output_type": "display_data"
    },
    {
     "data": {
      "text/html": [
       "<div>\n",
       "<style scoped>\n",
       "    .dataframe tbody tr th:only-of-type {\n",
       "        vertical-align: middle;\n",
       "    }\n",
       "\n",
       "    .dataframe tbody tr th {\n",
       "        vertical-align: top;\n",
       "    }\n",
       "\n",
       "    .dataframe thead th {\n",
       "        text-align: right;\n",
       "    }\n",
       "</style>\n",
       "<table border=\"1\" class=\"dataframe\">\n",
       "  <thead>\n",
       "    <tr style=\"text-align: right;\">\n",
       "      <th></th>\n",
       "      <th>datetime</th>\n",
       "      <th>duration</th>\n",
       "      <th>title</th>\n",
       "      <th>genres</th>\n",
       "      <th>release_date</th>\n",
       "      <th>movie_id</th>\n",
       "      <th>user_id</th>\n",
       "    </tr>\n",
       "  </thead>\n",
       "  <tbody>\n",
       "    <tr>\n",
       "      <th>58773</th>\n",
       "      <td>2017-01-01 01:15:09</td>\n",
       "      <td>0.0</td>\n",
       "      <td>Angus, Thongs and Perfect Snogging</td>\n",
       "      <td>[Comedy,  Drama,  Romance]</td>\n",
       "      <td>2008-07-25</td>\n",
       "      <td>26bd5987e8</td>\n",
       "      <td>1dea19f6fe</td>\n",
       "    </tr>\n",
       "    <tr>\n",
       "      <th>58774</th>\n",
       "      <td>2017-01-01 13:56:02</td>\n",
       "      <td>0.0</td>\n",
       "      <td>The Curse of Sleeping Beauty</td>\n",
       "      <td>[Fantasy,  Horror,  Mystery,  Thriller]</td>\n",
       "      <td>2016-06-02</td>\n",
       "      <td>f26ed2675e</td>\n",
       "      <td>544dcbc510</td>\n",
       "    </tr>\n",
       "    <tr>\n",
       "      <th>58775</th>\n",
       "      <td>2017-01-01 15:17:47</td>\n",
       "      <td>10530.0</td>\n",
       "      <td>London Has Fallen</td>\n",
       "      <td>[Action,  Thriller]</td>\n",
       "      <td>2016-03-04</td>\n",
       "      <td>f77e500e7a</td>\n",
       "      <td>7cbcc791bf</td>\n",
       "    </tr>\n",
       "    <tr>\n",
       "      <th>58776</th>\n",
       "      <td>2017-01-01 16:04:13</td>\n",
       "      <td>49.0</td>\n",
       "      <td>Vendetta</td>\n",
       "      <td>[Action,  Drama]</td>\n",
       "      <td>2015-06-12</td>\n",
       "      <td>c74aec7673</td>\n",
       "      <td>ebf43c36b6</td>\n",
       "    </tr>\n",
       "    <tr>\n",
       "      <th>58777</th>\n",
       "      <td>2017-01-01 19:16:37</td>\n",
       "      <td>0.0</td>\n",
       "      <td>The SpongeBob SquarePants Movie</td>\n",
       "      <td>[Animation,  Action,  Adventure,  Comedy,  Fam...</td>\n",
       "      <td>2004-11-19</td>\n",
       "      <td>a80d6fc2aa</td>\n",
       "      <td>a57c992287</td>\n",
       "    </tr>\n",
       "  </tbody>\n",
       "</table>\n",
       "</div>"
      ],
      "text/plain": [
       "                 datetime  duration                               title  \\\n",
       "58773 2017-01-01 01:15:09       0.0  Angus, Thongs and Perfect Snogging   \n",
       "58774 2017-01-01 13:56:02       0.0        The Curse of Sleeping Beauty   \n",
       "58775 2017-01-01 15:17:47   10530.0                   London Has Fallen   \n",
       "58776 2017-01-01 16:04:13      49.0                            Vendetta   \n",
       "58777 2017-01-01 19:16:37       0.0     The SpongeBob SquarePants Movie   \n",
       "\n",
       "                                                  genres release_date  \\\n",
       "58773                         [Comedy,  Drama,  Romance]   2008-07-25   \n",
       "58774            [Fantasy,  Horror,  Mystery,  Thriller]   2016-06-02   \n",
       "58775                                [Action,  Thriller]   2016-03-04   \n",
       "58776                                   [Action,  Drama]   2015-06-12   \n",
       "58777  [Animation,  Action,  Adventure,  Comedy,  Fam...   2004-11-19   \n",
       "\n",
       "         movie_id     user_id  \n",
       "58773  26bd5987e8  1dea19f6fe  \n",
       "58774  f26ed2675e  544dcbc510  \n",
       "58775  f77e500e7a  7cbcc791bf  \n",
       "58776  c74aec7673  ebf43c36b6  \n",
       "58777  a80d6fc2aa  a57c992287  "
      ]
     },
     "metadata": {},
     "output_type": "display_data"
    }
   ],
   "source": [
    "# Re-import original dataset\n",
    "df = pd.read_csv(tsv_path)\n",
    "\n",
    "# Preprocess release_date (drop NA)\n",
    "df['release_date'] = df['release_date'].replace('NOT AVAILABLE', np.nan)\n",
    "df = df.dropna(subset = ['release_date'])\n",
    "# Preprocess duration (remove rows where duration < 0)\n",
    "df = df[df.duration >= 0]\n",
    "# Preprocess datetime (change its type)\n",
    "df['datetime'] = pd.to_datetime(df['datetime'])\n",
    "# Remove duplicates\n",
    "df = df.drop_duplicates()\n",
    "# Preprocess genres (make sure that it's a list of genres instead of a string)\n",
    "df['genres'] = df['genres'].astype(str)\n",
    "df['genres'] = df['genres'].apply(lambda x: x.split(','))\n",
    "\n",
    "\n",
    "# Display the preprocessed dataset\n",
    "display(df.shape)\n",
    "display(df.head())"
   ]
  },
  {
   "cell_type": "code",
   "execution_count": 6,
   "id": "b689e4af",
   "metadata": {},
   "outputs": [],
   "source": [
    "# Create the new dataframe, which will store data for each user\n",
    "df_processed = pd.DataFrame(df.user_id.unique(), columns = ['user_id'])"
   ]
  },
  {
   "cell_type": "markdown",
   "id": "f4c7e259",
   "metadata": {},
   "source": [
    "#### Mandatory Features"
   ]
  },
  {
   "cell_type": "markdown",
   "id": "7383c08f",
   "metadata": {},
   "source": [
    "a) **Favourite genre**: the genre on which the user spent the most time"
   ]
  },
  {
   "cell_type": "code",
   "execution_count": 7,
   "id": "c835dc1f",
   "metadata": {},
   "outputs": [
    {
     "data": {
      "text/html": [
       "<div>\n",
       "<style scoped>\n",
       "    .dataframe tbody tr th:only-of-type {\n",
       "        vertical-align: middle;\n",
       "    }\n",
       "\n",
       "    .dataframe tbody tr th {\n",
       "        vertical-align: top;\n",
       "    }\n",
       "\n",
       "    .dataframe thead th {\n",
       "        text-align: right;\n",
       "    }\n",
       "</style>\n",
       "<table border=\"1\" class=\"dataframe\">\n",
       "  <thead>\n",
       "    <tr style=\"text-align: right;\">\n",
       "      <th></th>\n",
       "      <th>user_id</th>\n",
       "      <th>favourite_genre</th>\n",
       "    </tr>\n",
       "  </thead>\n",
       "  <tbody>\n",
       "    <tr>\n",
       "      <th>0</th>\n",
       "      <td>1dea19f6fe</td>\n",
       "      <td>Drama</td>\n",
       "    </tr>\n",
       "    <tr>\n",
       "      <th>1</th>\n",
       "      <td>544dcbc510</td>\n",
       "      <td>Fantasy</td>\n",
       "    </tr>\n",
       "    <tr>\n",
       "      <th>2</th>\n",
       "      <td>7cbcc791bf</td>\n",
       "      <td>Thriller</td>\n",
       "    </tr>\n",
       "    <tr>\n",
       "      <th>3</th>\n",
       "      <td>ebf43c36b6</td>\n",
       "      <td>Action</td>\n",
       "    </tr>\n",
       "    <tr>\n",
       "      <th>4</th>\n",
       "      <td>a57c992287</td>\n",
       "      <td>Drama</td>\n",
       "    </tr>\n",
       "  </tbody>\n",
       "</table>\n",
       "</div>"
      ],
      "text/plain": [
       "      user_id favourite_genre\n",
       "0  1dea19f6fe           Drama\n",
       "1  544dcbc510         Fantasy\n",
       "2  7cbcc791bf        Thriller\n",
       "3  ebf43c36b6          Action\n",
       "4  a57c992287           Drama"
      ]
     },
     "metadata": {},
     "output_type": "display_data"
    }
   ],
   "source": [
    "# Explode the 'genres' column into multiple rows and calculate the time every user spent on each genre\n",
    "grouped_df = df.explode('genres').groupby(['user_id', 'genres'], as_index = False).aggregate({'duration':'sum'})\n",
    "\n",
    "# Take the most viewed genre for each user\n",
    "idx = grouped_df.groupby('user_id')['duration'].idxmax()\n",
    "result = grouped_df.loc[idx][['user_id', 'genres', 'duration']].reset_index(drop=True)\n",
    "result = result.rename(columns={'genres': 'favourite_genre'})\n",
    "\n",
    "# Preprocess the categories, as some of them have got a blank space at the start of the string\n",
    "orig_cat = result.favourite_genre.unique().astype(str)\n",
    "right_cat = np.char.lstrip(result.favourite_genre.unique().astype(str))\n",
    "d = {}\n",
    "for a, b in zip(orig_cat, right_cat):\n",
    "    d[a] = b\n",
    "    \n",
    "result['favourite_genre'] = result['favourite_genre'].map(d)\n",
    "\n",
    "# Re-categorize the variable to get a lower number of categories\n",
    "genres_recat = {'Fantasy':'Fantasy', 'Thriller':'Thriller', 'Action':'Action', 'Drama':'Drama', 'Romance':'Romance',\n",
    "                'Horror':'Horror', 'Adventure':'Adventure', 'Family':'Comedy', 'War':'War', 'Comedy':'Comedy',\n",
    "                'Sci-Fi':'Sci-Fi', 'Documentary':'Documentary', 'Mystery':'Mystery', 'Animation':'Comedy', 'Crime':'Crime',\n",
    "                'Western':'Western', 'Biography':'Documentary', 'Sport':'Sport', 'Music':'Music', 'History': 'Documentary',\n",
    "                'NOT AVAILABLE':'NOT AVAILABLE', 'Short':'Documentary', 'Musical':'Comedy', 'News':'Documentary', 'Film-Noir':'Crime',\n",
    "                'Reality-TV':'Comedy', 'Talk-Show':'Documentary'}\n",
    "result['favourite_genre'] = result['favourite_genre'].map(genres_recat)\n",
    "\n",
    "# Merge the 'favourite_genre' column back into the original DataFrame\n",
    "df_processed = pd.merge(df_processed, result[['user_id', 'favourite_genre']], on='user_id', how='left')\n",
    "\n",
    "# Display the updated DataFrame\n",
    "display(df_processed.head())"
   ]
  },
  {
   "cell_type": "markdown",
   "id": "2f32fea9",
   "metadata": {},
   "source": [
    "b) **Average click duration**: how much time each user spent on a movie on average"
   ]
  },
  {
   "cell_type": "code",
   "execution_count": 8,
   "id": "6c546b8b",
   "metadata": {
    "scrolled": true
   },
   "outputs": [
    {
     "data": {
      "text/html": [
       "<div>\n",
       "<style scoped>\n",
       "    .dataframe tbody tr th:only-of-type {\n",
       "        vertical-align: middle;\n",
       "    }\n",
       "\n",
       "    .dataframe tbody tr th {\n",
       "        vertical-align: top;\n",
       "    }\n",
       "\n",
       "    .dataframe thead th {\n",
       "        text-align: right;\n",
       "    }\n",
       "</style>\n",
       "<table border=\"1\" class=\"dataframe\">\n",
       "  <thead>\n",
       "    <tr style=\"text-align: right;\">\n",
       "      <th></th>\n",
       "      <th>user_id</th>\n",
       "      <th>favourite_genre</th>\n",
       "      <th>avg_click_duration</th>\n",
       "    </tr>\n",
       "  </thead>\n",
       "  <tbody>\n",
       "    <tr>\n",
       "      <th>1</th>\n",
       "      <td>544dcbc510</td>\n",
       "      <td>Fantasy</td>\n",
       "      <td>1864.500000</td>\n",
       "    </tr>\n",
       "    <tr>\n",
       "      <th>2</th>\n",
       "      <td>7cbcc791bf</td>\n",
       "      <td>Thriller</td>\n",
       "      <td>4218.666667</td>\n",
       "    </tr>\n",
       "    <tr>\n",
       "      <th>3</th>\n",
       "      <td>ebf43c36b6</td>\n",
       "      <td>Action</td>\n",
       "      <td>1883.533333</td>\n",
       "    </tr>\n",
       "    <tr>\n",
       "      <th>4</th>\n",
       "      <td>a57c992287</td>\n",
       "      <td>Drama</td>\n",
       "      <td>4033.130435</td>\n",
       "    </tr>\n",
       "    <tr>\n",
       "      <th>5</th>\n",
       "      <td>c5bf4f3f57</td>\n",
       "      <td>Action</td>\n",
       "      <td>2185.285714</td>\n",
       "    </tr>\n",
       "  </tbody>\n",
       "</table>\n",
       "</div>"
      ],
      "text/plain": [
       "      user_id favourite_genre  avg_click_duration\n",
       "1  544dcbc510         Fantasy         1864.500000\n",
       "2  7cbcc791bf        Thriller         4218.666667\n",
       "3  ebf43c36b6          Action         1883.533333\n",
       "4  a57c992287           Drama         4033.130435\n",
       "5  c5bf4f3f57          Action         2185.285714"
      ]
     },
     "metadata": {},
     "output_type": "display_data"
    }
   ],
   "source": [
    "# groups the rows by user and calculates the average duration of click for every user\n",
    "df_processed = df_processed.merge(df.groupby(['user_id'], as_index = False).duration.mean(), left_on='user_id', right_on = 'user_id', how='left')\n",
    "df_processed = df_processed.rename(columns = {'duration':'avg_click_duration'})\n",
    "\n",
    "# Filter out users with an average click duration of 0 (they didn't watch anything)\n",
    "df_processed = df_processed[df_processed['avg_click_duration'] > 0]\n",
    "\n",
    "# Display the updated DataFrame\n",
    "display(df_processed.head())"
   ]
  },
  {
   "cell_type": "markdown",
   "id": "751dc999",
   "metadata": {},
   "source": [
    "c) **Time of the day**: when the user spent the most time on the platform (the time spent is tracked through the duration of the clicks)"
   ]
  },
  {
   "cell_type": "code",
   "execution_count": 9,
   "id": "5e25d40c",
   "metadata": {},
   "outputs": [
    {
     "data": {
      "text/html": [
       "<div>\n",
       "<style scoped>\n",
       "    .dataframe tbody tr th:only-of-type {\n",
       "        vertical-align: middle;\n",
       "    }\n",
       "\n",
       "    .dataframe tbody tr th {\n",
       "        vertical-align: top;\n",
       "    }\n",
       "\n",
       "    .dataframe thead th {\n",
       "        text-align: right;\n",
       "    }\n",
       "</style>\n",
       "<table border=\"1\" class=\"dataframe\">\n",
       "  <thead>\n",
       "    <tr style=\"text-align: right;\">\n",
       "      <th></th>\n",
       "      <th>user_id</th>\n",
       "      <th>favourite_genre</th>\n",
       "      <th>avg_click_duration</th>\n",
       "      <th>time_of_day</th>\n",
       "    </tr>\n",
       "  </thead>\n",
       "  <tbody>\n",
       "    <tr>\n",
       "      <th>0</th>\n",
       "      <td>544dcbc510</td>\n",
       "      <td>Fantasy</td>\n",
       "      <td>1864.500000</td>\n",
       "      <td>Evening</td>\n",
       "    </tr>\n",
       "    <tr>\n",
       "      <th>1</th>\n",
       "      <td>7cbcc791bf</td>\n",
       "      <td>Thriller</td>\n",
       "      <td>4218.666667</td>\n",
       "      <td>Afternoon</td>\n",
       "    </tr>\n",
       "    <tr>\n",
       "      <th>2</th>\n",
       "      <td>ebf43c36b6</td>\n",
       "      <td>Action</td>\n",
       "      <td>1883.533333</td>\n",
       "      <td>Afternoon</td>\n",
       "    </tr>\n",
       "    <tr>\n",
       "      <th>3</th>\n",
       "      <td>a57c992287</td>\n",
       "      <td>Drama</td>\n",
       "      <td>4033.130435</td>\n",
       "      <td>Afternoon</td>\n",
       "    </tr>\n",
       "    <tr>\n",
       "      <th>4</th>\n",
       "      <td>c5bf4f3f57</td>\n",
       "      <td>Action</td>\n",
       "      <td>2185.285714</td>\n",
       "      <td>Afternoon</td>\n",
       "    </tr>\n",
       "  </tbody>\n",
       "</table>\n",
       "</div>"
      ],
      "text/plain": [
       "      user_id favourite_genre  avg_click_duration time_of_day\n",
       "0  544dcbc510         Fantasy         1864.500000     Evening\n",
       "1  7cbcc791bf        Thriller         4218.666667   Afternoon\n",
       "2  ebf43c36b6          Action         1883.533333   Afternoon\n",
       "3  a57c992287           Drama         4033.130435   Afternoon\n",
       "4  c5bf4f3f57          Action         2185.285714   Afternoon"
      ]
     },
     "metadata": {},
     "output_type": "display_data"
    }
   ],
   "source": [
    "# Create bins and labels for morning, afternoon, evening and night, then assign one label to each row\n",
    "bins = [0, 6, 12, 18, 24]\n",
    "labels = ['Night', 'Morning', 'Afternoon', 'Evening']\n",
    "df['time_of_day'] = pd.cut(df['datetime'].dt.hour, bins=bins, labels=labels, include_lowest=True)\n",
    "\n",
    "# Group by 'user_id' and 'time_of_day', then calculate the time spent in each time slot for each user\n",
    "user_time_of_day_stats = df.groupby(['user_id', 'time_of_day'], observed=False, as_index = False)['duration'].sum()\n",
    "\n",
    "# Find the time slot with the maximum total duration for each user\n",
    "max_duration_per_user = user_time_of_day_stats.loc[user_time_of_day_stats.groupby('user_id')['duration'].idxmax()]\n",
    "\n",
    "df_processed = pd.merge(df_processed, max_duration_per_user[['user_id', 'time_of_day']], on='user_id', how='left')\n",
    "\n",
    "# Display the updated DataFrame\n",
    "display(df_processed.head())"
   ]
  },
  {
   "cell_type": "markdown",
   "id": "dd75bc22",
   "metadata": {},
   "source": [
    "d) **Old movie lover**: if the user spent more time on old content (released before 2010)"
   ]
  },
  {
   "cell_type": "code",
   "execution_count": 10,
   "id": "a507447c",
   "metadata": {},
   "outputs": [],
   "source": [
    "# Aggregate function to check if a user prefers old or recent stuff\n",
    "def agg_vintage(g):\n",
    "    # pick the release year of every movie watched by a user\n",
    "    year = np.array(np.char.split(g.release_date.to_numpy().astype(str), '-').tolist(), dtype = np.int32)\n",
    "    # calculate the total duration for old and recent films watched by the user\n",
    "    duration_old = g.duration[year[:,0] <= 2010].sum()\n",
    "    duration_recent = g.duration[year[:,0] > 2010].sum()\n",
    "    return pd.Series({'vintage': 1 if duration_old >= duration_recent else 0 })"
   ]
  },
  {
   "cell_type": "code",
   "execution_count": 11,
   "id": "ee14179c",
   "metadata": {},
   "outputs": [
    {
     "data": {
      "text/html": [
       "<div>\n",
       "<style scoped>\n",
       "    .dataframe tbody tr th:only-of-type {\n",
       "        vertical-align: middle;\n",
       "    }\n",
       "\n",
       "    .dataframe tbody tr th {\n",
       "        vertical-align: top;\n",
       "    }\n",
       "\n",
       "    .dataframe thead th {\n",
       "        text-align: right;\n",
       "    }\n",
       "</style>\n",
       "<table border=\"1\" class=\"dataframe\">\n",
       "  <thead>\n",
       "    <tr style=\"text-align: right;\">\n",
       "      <th></th>\n",
       "      <th>user_id</th>\n",
       "      <th>favourite_genre</th>\n",
       "      <th>avg_click_duration</th>\n",
       "      <th>time_of_day</th>\n",
       "      <th>vintage</th>\n",
       "    </tr>\n",
       "  </thead>\n",
       "  <tbody>\n",
       "    <tr>\n",
       "      <th>0</th>\n",
       "      <td>544dcbc510</td>\n",
       "      <td>Fantasy</td>\n",
       "      <td>1864.500000</td>\n",
       "      <td>Evening</td>\n",
       "      <td>1</td>\n",
       "    </tr>\n",
       "    <tr>\n",
       "      <th>1</th>\n",
       "      <td>7cbcc791bf</td>\n",
       "      <td>Thriller</td>\n",
       "      <td>4218.666667</td>\n",
       "      <td>Afternoon</td>\n",
       "      <td>0</td>\n",
       "    </tr>\n",
       "    <tr>\n",
       "      <th>2</th>\n",
       "      <td>ebf43c36b6</td>\n",
       "      <td>Action</td>\n",
       "      <td>1883.533333</td>\n",
       "      <td>Afternoon</td>\n",
       "      <td>0</td>\n",
       "    </tr>\n",
       "    <tr>\n",
       "      <th>3</th>\n",
       "      <td>a57c992287</td>\n",
       "      <td>Drama</td>\n",
       "      <td>4033.130435</td>\n",
       "      <td>Afternoon</td>\n",
       "      <td>0</td>\n",
       "    </tr>\n",
       "    <tr>\n",
       "      <th>4</th>\n",
       "      <td>c5bf4f3f57</td>\n",
       "      <td>Action</td>\n",
       "      <td>2185.285714</td>\n",
       "      <td>Afternoon</td>\n",
       "      <td>0</td>\n",
       "    </tr>\n",
       "  </tbody>\n",
       "</table>\n",
       "</div>"
      ],
      "text/plain": [
       "      user_id favourite_genre  avg_click_duration time_of_day  vintage\n",
       "0  544dcbc510         Fantasy         1864.500000     Evening        1\n",
       "1  7cbcc791bf        Thriller         4218.666667   Afternoon        0\n",
       "2  ebf43c36b6          Action         1883.533333   Afternoon        0\n",
       "3  a57c992287           Drama         4033.130435   Afternoon        0\n",
       "4  c5bf4f3f57          Action         2185.285714   Afternoon        0"
      ]
     },
     "metadata": {},
     "output_type": "display_data"
    }
   ],
   "source": [
    "# group by user and apply the custom function \"agg_vintage\" to check if a user prefers old or recent stuff\n",
    "df_processed = df_processed.merge(df.groupby(['user_id'], as_index = False).apply(agg_vintage), left_on='user_id', right_on = 'user_id', how = 'left')\n",
    "\n",
    "# Display the updated DataFrame\n",
    "display(df_processed.head())"
   ]
  },
  {
   "cell_type": "markdown",
   "id": "842775d1",
   "metadata": {},
   "source": [
    "e) **Average time spent a day**: how much time the user spent a day, on average, on the platform (considering only the days he logs in)"
   ]
  },
  {
   "cell_type": "code",
   "execution_count": 12,
   "id": "65232c20",
   "metadata": {},
   "outputs": [
    {
     "data": {
      "text/html": [
       "<div>\n",
       "<style scoped>\n",
       "    .dataframe tbody tr th:only-of-type {\n",
       "        vertical-align: middle;\n",
       "    }\n",
       "\n",
       "    .dataframe tbody tr th {\n",
       "        vertical-align: top;\n",
       "    }\n",
       "\n",
       "    .dataframe thead th {\n",
       "        text-align: right;\n",
       "    }\n",
       "</style>\n",
       "<table border=\"1\" class=\"dataframe\">\n",
       "  <thead>\n",
       "    <tr style=\"text-align: right;\">\n",
       "      <th></th>\n",
       "      <th>user_id</th>\n",
       "      <th>favourite_genre</th>\n",
       "      <th>avg_click_duration</th>\n",
       "      <th>time_of_day</th>\n",
       "      <th>vintage</th>\n",
       "      <th>avg_day_duration</th>\n",
       "    </tr>\n",
       "  </thead>\n",
       "  <tbody>\n",
       "    <tr>\n",
       "      <th>0</th>\n",
       "      <td>544dcbc510</td>\n",
       "      <td>Fantasy</td>\n",
       "      <td>1864.500000</td>\n",
       "      <td>Evening</td>\n",
       "      <td>1</td>\n",
       "      <td>18645.000000</td>\n",
       "    </tr>\n",
       "    <tr>\n",
       "      <th>1</th>\n",
       "      <td>7cbcc791bf</td>\n",
       "      <td>Thriller</td>\n",
       "      <td>4218.666667</td>\n",
       "      <td>Afternoon</td>\n",
       "      <td>0</td>\n",
       "      <td>8437.333333</td>\n",
       "    </tr>\n",
       "    <tr>\n",
       "      <th>2</th>\n",
       "      <td>ebf43c36b6</td>\n",
       "      <td>Action</td>\n",
       "      <td>1883.533333</td>\n",
       "      <td>Afternoon</td>\n",
       "      <td>0</td>\n",
       "      <td>9417.666667</td>\n",
       "    </tr>\n",
       "    <tr>\n",
       "      <th>3</th>\n",
       "      <td>a57c992287</td>\n",
       "      <td>Drama</td>\n",
       "      <td>4033.130435</td>\n",
       "      <td>Afternoon</td>\n",
       "      <td>0</td>\n",
       "      <td>7730.166667</td>\n",
       "    </tr>\n",
       "    <tr>\n",
       "      <th>4</th>\n",
       "      <td>c5bf4f3f57</td>\n",
       "      <td>Action</td>\n",
       "      <td>2185.285714</td>\n",
       "      <td>Afternoon</td>\n",
       "      <td>0</td>\n",
       "      <td>3824.250000</td>\n",
       "    </tr>\n",
       "  </tbody>\n",
       "</table>\n",
       "</div>"
      ],
      "text/plain": [
       "      user_id favourite_genre  avg_click_duration time_of_day  vintage  \\\n",
       "0  544dcbc510         Fantasy         1864.500000     Evening        1   \n",
       "1  7cbcc791bf        Thriller         4218.666667   Afternoon        0   \n",
       "2  ebf43c36b6          Action         1883.533333   Afternoon        0   \n",
       "3  a57c992287           Drama         4033.130435   Afternoon        0   \n",
       "4  c5bf4f3f57          Action         2185.285714   Afternoon        0   \n",
       "\n",
       "   avg_day_duration  \n",
       "0      18645.000000  \n",
       "1       8437.333333  \n",
       "2       9417.666667  \n",
       "3       7730.166667  \n",
       "4       3824.250000  "
      ]
     },
     "metadata": {},
     "output_type": "display_data"
    }
   ],
   "source": [
    "# Group by 'user_id' and date (excluding time), then calculate the total duration spent on each day by each user\n",
    "df['date'] = df['datetime'].dt.date\n",
    "user_date_stats = df.groupby(['user_id', 'date'], as_index = False).aggregate({'duration':'sum'})\n",
    "\n",
    "# Calculate the average time spent per day for each user\n",
    "average_time_per_day = user_date_stats.groupby('user_id', as_index = False).aggregate({'duration':'mean'})\n",
    "average_time_per_day.columns = ['user_id', 'avg_day_duration'] \n",
    "\n",
    "df_processed = pd.merge(df_processed, average_time_per_day[['user_id', 'avg_day_duration']], on='user_id', how='left')\n",
    "\n",
    "# Display the updated DataFrame\n",
    "display(df_processed.head())"
   ]
  },
  {
   "cell_type": "markdown",
   "id": "ee82d045",
   "metadata": {},
   "source": [
    "#### Arbitrary Features"
   ]
  },
  {
   "cell_type": "markdown",
   "id": "84758406",
   "metadata": {},
   "source": [
    "1. **Standard Deviation of time spent a day**: how much the time spent a day by the user is variable"
   ]
  },
  {
   "cell_type": "code",
   "execution_count": 13,
   "id": "3fd93fe5",
   "metadata": {},
   "outputs": [
    {
     "data": {
      "text/html": [
       "<div>\n",
       "<style scoped>\n",
       "    .dataframe tbody tr th:only-of-type {\n",
       "        vertical-align: middle;\n",
       "    }\n",
       "\n",
       "    .dataframe tbody tr th {\n",
       "        vertical-align: top;\n",
       "    }\n",
       "\n",
       "    .dataframe thead th {\n",
       "        text-align: right;\n",
       "    }\n",
       "</style>\n",
       "<table border=\"1\" class=\"dataframe\">\n",
       "  <thead>\n",
       "    <tr style=\"text-align: right;\">\n",
       "      <th></th>\n",
       "      <th>user_id</th>\n",
       "      <th>favourite_genre</th>\n",
       "      <th>avg_click_duration</th>\n",
       "      <th>time_of_day</th>\n",
       "      <th>vintage</th>\n",
       "      <th>avg_day_duration</th>\n",
       "      <th>std_day_duration</th>\n",
       "    </tr>\n",
       "  </thead>\n",
       "  <tbody>\n",
       "    <tr>\n",
       "      <th>0</th>\n",
       "      <td>544dcbc510</td>\n",
       "      <td>Fantasy</td>\n",
       "      <td>1864.500000</td>\n",
       "      <td>Evening</td>\n",
       "      <td>1</td>\n",
       "      <td>18645.000000</td>\n",
       "      <td>0.000000</td>\n",
       "    </tr>\n",
       "    <tr>\n",
       "      <th>1</th>\n",
       "      <td>7cbcc791bf</td>\n",
       "      <td>Thriller</td>\n",
       "      <td>4218.666667</td>\n",
       "      <td>Afternoon</td>\n",
       "      <td>0</td>\n",
       "      <td>8437.333333</td>\n",
       "      <td>5239.796306</td>\n",
       "    </tr>\n",
       "    <tr>\n",
       "      <th>2</th>\n",
       "      <td>ebf43c36b6</td>\n",
       "      <td>Action</td>\n",
       "      <td>1883.533333</td>\n",
       "      <td>Afternoon</td>\n",
       "      <td>0</td>\n",
       "      <td>9417.666667</td>\n",
       "      <td>3443.353937</td>\n",
       "    </tr>\n",
       "    <tr>\n",
       "      <th>3</th>\n",
       "      <td>a57c992287</td>\n",
       "      <td>Drama</td>\n",
       "      <td>4033.130435</td>\n",
       "      <td>Afternoon</td>\n",
       "      <td>0</td>\n",
       "      <td>7730.166667</td>\n",
       "      <td>16275.708446</td>\n",
       "    </tr>\n",
       "    <tr>\n",
       "      <th>4</th>\n",
       "      <td>c5bf4f3f57</td>\n",
       "      <td>Action</td>\n",
       "      <td>2185.285714</td>\n",
       "      <td>Afternoon</td>\n",
       "      <td>0</td>\n",
       "      <td>3824.250000</td>\n",
       "      <td>2823.386663</td>\n",
       "    </tr>\n",
       "  </tbody>\n",
       "</table>\n",
       "</div>"
      ],
      "text/plain": [
       "      user_id favourite_genre  avg_click_duration time_of_day  vintage  \\\n",
       "0  544dcbc510         Fantasy         1864.500000     Evening        1   \n",
       "1  7cbcc791bf        Thriller         4218.666667   Afternoon        0   \n",
       "2  ebf43c36b6          Action         1883.533333   Afternoon        0   \n",
       "3  a57c992287           Drama         4033.130435   Afternoon        0   \n",
       "4  c5bf4f3f57          Action         2185.285714   Afternoon        0   \n",
       "\n",
       "   avg_day_duration  std_day_duration  \n",
       "0      18645.000000          0.000000  \n",
       "1       8437.333333       5239.796306  \n",
       "2       9417.666667       3443.353937  \n",
       "3       7730.166667      16275.708446  \n",
       "4       3824.250000       2823.386663  "
      ]
     },
     "metadata": {},
     "output_type": "display_data"
    }
   ],
   "source": [
    "# Leveraging what has been done with the mandatory features,\n",
    "# calculate the standard deviation of time spent per day for each user\n",
    "std_time_per_day = user_date_stats.groupby('user_id', as_index = False).aggregate({'duration':'std'}).fillna(0)\n",
    "std_time_per_day.columns = ['user_id','std_day_duration']\n",
    "# \".fillna(0)\" is used to handle cases where a user has got all interactions in only one day:\n",
    "# the used standard deviation formula assumes 1 degree of freedom by default, \n",
    "# so it returns \"NaN\" for groups with only one observation\n",
    "\n",
    "df_processed = pd.merge(df_processed, std_time_per_day[['user_id', 'std_day_duration']], on='user_id', how='left')\n",
    "\n",
    "# Display the updated DataFrame\n",
    "display(df_processed.head())"
   ]
  },
  {
   "cell_type": "markdown",
   "id": "33f09113",
   "metadata": {},
   "source": [
    "2. **Number of watched genres**: how many genres the user watched at least one time (to capture the diversity of user's tastes in matter of movies and tv series)"
   ]
  },
  {
   "cell_type": "code",
   "execution_count": 14,
   "id": "a29ad4a3",
   "metadata": {},
   "outputs": [
    {
     "data": {
      "text/html": [
       "<div>\n",
       "<style scoped>\n",
       "    .dataframe tbody tr th:only-of-type {\n",
       "        vertical-align: middle;\n",
       "    }\n",
       "\n",
       "    .dataframe tbody tr th {\n",
       "        vertical-align: top;\n",
       "    }\n",
       "\n",
       "    .dataframe thead th {\n",
       "        text-align: right;\n",
       "    }\n",
       "</style>\n",
       "<table border=\"1\" class=\"dataframe\">\n",
       "  <thead>\n",
       "    <tr style=\"text-align: right;\">\n",
       "      <th></th>\n",
       "      <th>user_id</th>\n",
       "      <th>favourite_genre</th>\n",
       "      <th>avg_click_duration</th>\n",
       "      <th>time_of_day</th>\n",
       "      <th>vintage</th>\n",
       "      <th>avg_day_duration</th>\n",
       "      <th>std_day_duration</th>\n",
       "      <th>num_genres_watched</th>\n",
       "    </tr>\n",
       "  </thead>\n",
       "  <tbody>\n",
       "    <tr>\n",
       "      <th>0</th>\n",
       "      <td>544dcbc510</td>\n",
       "      <td>Fantasy</td>\n",
       "      <td>1864.500000</td>\n",
       "      <td>Evening</td>\n",
       "      <td>1</td>\n",
       "      <td>18645.000000</td>\n",
       "      <td>0.000000</td>\n",
       "      <td>5</td>\n",
       "    </tr>\n",
       "    <tr>\n",
       "      <th>1</th>\n",
       "      <td>7cbcc791bf</td>\n",
       "      <td>Thriller</td>\n",
       "      <td>4218.666667</td>\n",
       "      <td>Afternoon</td>\n",
       "      <td>0</td>\n",
       "      <td>8437.333333</td>\n",
       "      <td>5239.796306</td>\n",
       "      <td>8</td>\n",
       "    </tr>\n",
       "    <tr>\n",
       "      <th>2</th>\n",
       "      <td>ebf43c36b6</td>\n",
       "      <td>Action</td>\n",
       "      <td>1883.533333</td>\n",
       "      <td>Afternoon</td>\n",
       "      <td>0</td>\n",
       "      <td>9417.666667</td>\n",
       "      <td>3443.353937</td>\n",
       "      <td>11</td>\n",
       "    </tr>\n",
       "    <tr>\n",
       "      <th>3</th>\n",
       "      <td>a57c992287</td>\n",
       "      <td>Drama</td>\n",
       "      <td>4033.130435</td>\n",
       "      <td>Afternoon</td>\n",
       "      <td>0</td>\n",
       "      <td>7730.166667</td>\n",
       "      <td>16275.708446</td>\n",
       "      <td>16</td>\n",
       "    </tr>\n",
       "    <tr>\n",
       "      <th>4</th>\n",
       "      <td>c5bf4f3f57</td>\n",
       "      <td>Action</td>\n",
       "      <td>2185.285714</td>\n",
       "      <td>Afternoon</td>\n",
       "      <td>0</td>\n",
       "      <td>3824.250000</td>\n",
       "      <td>2823.386663</td>\n",
       "      <td>6</td>\n",
       "    </tr>\n",
       "  </tbody>\n",
       "</table>\n",
       "</div>"
      ],
      "text/plain": [
       "      user_id favourite_genre  avg_click_duration time_of_day  vintage  \\\n",
       "0  544dcbc510         Fantasy         1864.500000     Evening        1   \n",
       "1  7cbcc791bf        Thriller         4218.666667   Afternoon        0   \n",
       "2  ebf43c36b6          Action         1883.533333   Afternoon        0   \n",
       "3  a57c992287           Drama         4033.130435   Afternoon        0   \n",
       "4  c5bf4f3f57          Action         2185.285714   Afternoon        0   \n",
       "\n",
       "   avg_day_duration  std_day_duration  num_genres_watched  \n",
       "0      18645.000000          0.000000                   5  \n",
       "1       8437.333333       5239.796306                   8  \n",
       "2       9417.666667       3443.353937                  11  \n",
       "3       7730.166667      16275.708446                  16  \n",
       "4       3824.250000       2823.386663                   6  "
      ]
     },
     "metadata": {},
     "output_type": "display_data"
    }
   ],
   "source": [
    "# Group by 'user_id' and count the unique genres (count only rows where the duration is > 0)\n",
    "user_genre_counts = df[df.duration > 0].explode('genres').groupby('user_id', as_index = False)['genres'].nunique()\n",
    "user_genre_counts.columns = ['user_id', 'num_genres_watched']\n",
    "\n",
    "df_processed = pd.merge(df_processed, user_genre_counts[['user_id', 'num_genres_watched']], on='user_id', how='left')\n",
    "# Replace NaN values (data relative to users with all interactions of duration 0) with 0\n",
    "df_processed['num_genres_watched'].fillna(value = 0, inplace = True)\n",
    "\n",
    "# Display the updated DataFrame\n",
    "display(df_processed.head())"
   ]
  },
  {
   "cell_type": "markdown",
   "id": "2020d13b",
   "metadata": {},
   "source": [
    "3. **Number of watched movies**: how many movies the user watched at least one time"
   ]
  },
  {
   "cell_type": "code",
   "execution_count": 15,
   "id": "bbb8cf44",
   "metadata": {},
   "outputs": [
    {
     "data": {
      "text/html": [
       "<div>\n",
       "<style scoped>\n",
       "    .dataframe tbody tr th:only-of-type {\n",
       "        vertical-align: middle;\n",
       "    }\n",
       "\n",
       "    .dataframe tbody tr th {\n",
       "        vertical-align: top;\n",
       "    }\n",
       "\n",
       "    .dataframe thead th {\n",
       "        text-align: right;\n",
       "    }\n",
       "</style>\n",
       "<table border=\"1\" class=\"dataframe\">\n",
       "  <thead>\n",
       "    <tr style=\"text-align: right;\">\n",
       "      <th></th>\n",
       "      <th>user_id</th>\n",
       "      <th>favourite_genre</th>\n",
       "      <th>avg_click_duration</th>\n",
       "      <th>time_of_day</th>\n",
       "      <th>vintage</th>\n",
       "      <th>avg_day_duration</th>\n",
       "      <th>std_day_duration</th>\n",
       "      <th>num_genres_watched</th>\n",
       "      <th>num_movies_watched</th>\n",
       "    </tr>\n",
       "  </thead>\n",
       "  <tbody>\n",
       "    <tr>\n",
       "      <th>0</th>\n",
       "      <td>544dcbc510</td>\n",
       "      <td>Fantasy</td>\n",
       "      <td>1864.500000</td>\n",
       "      <td>Evening</td>\n",
       "      <td>1</td>\n",
       "      <td>18645.000000</td>\n",
       "      <td>0.000000</td>\n",
       "      <td>5</td>\n",
       "      <td>2</td>\n",
       "    </tr>\n",
       "    <tr>\n",
       "      <th>1</th>\n",
       "      <td>7cbcc791bf</td>\n",
       "      <td>Thriller</td>\n",
       "      <td>4218.666667</td>\n",
       "      <td>Afternoon</td>\n",
       "      <td>0</td>\n",
       "      <td>8437.333333</td>\n",
       "      <td>5239.796306</td>\n",
       "      <td>8</td>\n",
       "      <td>2</td>\n",
       "    </tr>\n",
       "    <tr>\n",
       "      <th>2</th>\n",
       "      <td>ebf43c36b6</td>\n",
       "      <td>Action</td>\n",
       "      <td>1883.533333</td>\n",
       "      <td>Afternoon</td>\n",
       "      <td>0</td>\n",
       "      <td>9417.666667</td>\n",
       "      <td>3443.353937</td>\n",
       "      <td>11</td>\n",
       "      <td>12</td>\n",
       "    </tr>\n",
       "    <tr>\n",
       "      <th>3</th>\n",
       "      <td>a57c992287</td>\n",
       "      <td>Drama</td>\n",
       "      <td>4033.130435</td>\n",
       "      <td>Afternoon</td>\n",
       "      <td>0</td>\n",
       "      <td>7730.166667</td>\n",
       "      <td>16275.708446</td>\n",
       "      <td>16</td>\n",
       "      <td>8</td>\n",
       "    </tr>\n",
       "    <tr>\n",
       "      <th>4</th>\n",
       "      <td>c5bf4f3f57</td>\n",
       "      <td>Action</td>\n",
       "      <td>2185.285714</td>\n",
       "      <td>Afternoon</td>\n",
       "      <td>0</td>\n",
       "      <td>3824.250000</td>\n",
       "      <td>2823.386663</td>\n",
       "      <td>6</td>\n",
       "      <td>5</td>\n",
       "    </tr>\n",
       "  </tbody>\n",
       "</table>\n",
       "</div>"
      ],
      "text/plain": [
       "      user_id favourite_genre  avg_click_duration time_of_day  vintage  \\\n",
       "0  544dcbc510         Fantasy         1864.500000     Evening        1   \n",
       "1  7cbcc791bf        Thriller         4218.666667   Afternoon        0   \n",
       "2  ebf43c36b6          Action         1883.533333   Afternoon        0   \n",
       "3  a57c992287           Drama         4033.130435   Afternoon        0   \n",
       "4  c5bf4f3f57          Action         2185.285714   Afternoon        0   \n",
       "\n",
       "   avg_day_duration  std_day_duration  num_genres_watched  num_movies_watched  \n",
       "0      18645.000000          0.000000                   5                   2  \n",
       "1       8437.333333       5239.796306                   8                   2  \n",
       "2       9417.666667       3443.353937                  11                  12  \n",
       "3       7730.166667      16275.708446                  16                   8  \n",
       "4       3824.250000       2823.386663                   6                   5  "
      ]
     },
     "metadata": {},
     "output_type": "display_data"
    }
   ],
   "source": [
    "# Group by 'user_id' and count the unique movie ids (count only rows where the duration is > 0)\n",
    "user_movie_counts = df[df.duration > 0].groupby('user_id', as_index = False).movie_id.nunique()\n",
    "user_movie_counts.columns = ['user_id', 'num_movies_watched']\n",
    "\n",
    "df_processed = pd.merge(df_processed, user_movie_counts[['user_id', 'num_movies_watched']], on='user_id', how='left')\n",
    "# Replace NaN values (data relative to users with all interactions of duration 0) with 0\n",
    "df_processed['num_movies_watched'].fillna(value = 0, inplace = True)\n",
    "\n",
    "# Display the updated DataFrame\n",
    "display(df_processed.head())"
   ]
  },
  {
   "cell_type": "markdown",
   "id": "fc8d243f",
   "metadata": {},
   "source": [
    "4. **Favourite Season**: which season of the year the user spent the most time in"
   ]
  },
  {
   "cell_type": "code",
   "execution_count": 16,
   "id": "cd925e9a",
   "metadata": {},
   "outputs": [
    {
     "data": {
      "text/html": [
       "<div>\n",
       "<style scoped>\n",
       "    .dataframe tbody tr th:only-of-type {\n",
       "        vertical-align: middle;\n",
       "    }\n",
       "\n",
       "    .dataframe tbody tr th {\n",
       "        vertical-align: top;\n",
       "    }\n",
       "\n",
       "    .dataframe thead th {\n",
       "        text-align: right;\n",
       "    }\n",
       "</style>\n",
       "<table border=\"1\" class=\"dataframe\">\n",
       "  <thead>\n",
       "    <tr style=\"text-align: right;\">\n",
       "      <th></th>\n",
       "      <th>user_id</th>\n",
       "      <th>favourite_genre</th>\n",
       "      <th>avg_click_duration</th>\n",
       "      <th>time_of_day</th>\n",
       "      <th>vintage</th>\n",
       "      <th>avg_day_duration</th>\n",
       "      <th>std_day_duration</th>\n",
       "      <th>num_genres_watched</th>\n",
       "      <th>num_movies_watched</th>\n",
       "      <th>best_season</th>\n",
       "    </tr>\n",
       "  </thead>\n",
       "  <tbody>\n",
       "    <tr>\n",
       "      <th>0</th>\n",
       "      <td>544dcbc510</td>\n",
       "      <td>Fantasy</td>\n",
       "      <td>1864.500000</td>\n",
       "      <td>Evening</td>\n",
       "      <td>1</td>\n",
       "      <td>18645.000000</td>\n",
       "      <td>0.000000</td>\n",
       "      <td>5</td>\n",
       "      <td>2</td>\n",
       "      <td>1</td>\n",
       "    </tr>\n",
       "    <tr>\n",
       "      <th>1</th>\n",
       "      <td>7cbcc791bf</td>\n",
       "      <td>Thriller</td>\n",
       "      <td>4218.666667</td>\n",
       "      <td>Afternoon</td>\n",
       "      <td>0</td>\n",
       "      <td>8437.333333</td>\n",
       "      <td>5239.796306</td>\n",
       "      <td>8</td>\n",
       "      <td>2</td>\n",
       "      <td>1</td>\n",
       "    </tr>\n",
       "    <tr>\n",
       "      <th>2</th>\n",
       "      <td>ebf43c36b6</td>\n",
       "      <td>Action</td>\n",
       "      <td>1883.533333</td>\n",
       "      <td>Afternoon</td>\n",
       "      <td>0</td>\n",
       "      <td>9417.666667</td>\n",
       "      <td>3443.353937</td>\n",
       "      <td>11</td>\n",
       "      <td>12</td>\n",
       "      <td>1</td>\n",
       "    </tr>\n",
       "    <tr>\n",
       "      <th>3</th>\n",
       "      <td>a57c992287</td>\n",
       "      <td>Drama</td>\n",
       "      <td>4033.130435</td>\n",
       "      <td>Afternoon</td>\n",
       "      <td>0</td>\n",
       "      <td>7730.166667</td>\n",
       "      <td>16275.708446</td>\n",
       "      <td>16</td>\n",
       "      <td>8</td>\n",
       "      <td>1</td>\n",
       "    </tr>\n",
       "    <tr>\n",
       "      <th>4</th>\n",
       "      <td>c5bf4f3f57</td>\n",
       "      <td>Action</td>\n",
       "      <td>2185.285714</td>\n",
       "      <td>Afternoon</td>\n",
       "      <td>0</td>\n",
       "      <td>3824.250000</td>\n",
       "      <td>2823.386663</td>\n",
       "      <td>6</td>\n",
       "      <td>5</td>\n",
       "      <td>1</td>\n",
       "    </tr>\n",
       "  </tbody>\n",
       "</table>\n",
       "</div>"
      ],
      "text/plain": [
       "      user_id favourite_genre  avg_click_duration time_of_day  vintage  \\\n",
       "0  544dcbc510         Fantasy         1864.500000     Evening        1   \n",
       "1  7cbcc791bf        Thriller         4218.666667   Afternoon        0   \n",
       "2  ebf43c36b6          Action         1883.533333   Afternoon        0   \n",
       "3  a57c992287           Drama         4033.130435   Afternoon        0   \n",
       "4  c5bf4f3f57          Action         2185.285714   Afternoon        0   \n",
       "\n",
       "   avg_day_duration  std_day_duration  num_genres_watched  num_movies_watched  \\\n",
       "0      18645.000000          0.000000                   5                   2   \n",
       "1       8437.333333       5239.796306                   8                   2   \n",
       "2       9417.666667       3443.353937                  11                  12   \n",
       "3       7730.166667      16275.708446                  16                   8   \n",
       "4       3824.250000       2823.386663                   6                   5   \n",
       "\n",
       "   best_season  \n",
       "0            1  \n",
       "1            1  \n",
       "2            1  \n",
       "3            1  \n",
       "4            1  "
      ]
     },
     "metadata": {},
     "output_type": "display_data"
    }
   ],
   "source": [
    "# Extract the month from the 'datetime' column\n",
    "df['month'] = df['datetime'].dt.month.astype(int)\n",
    "\n",
    "# Group by 'user_id' and 'month', then count the number of movies and sum the duration for each combination\n",
    "user_month_stats = df[df.duration > 0].groupby(['user_id', 'month']).agg({'title': 'count', 'duration': 'sum'}).reset_index()\n",
    "\n",
    "# Find the month in which each user watched the most movies\n",
    "most_movies_per_month = user_month_stats.groupby('user_id')['title'].idxmax()\n",
    "most_movies_df = user_month_stats.loc[most_movies_per_month]\n",
    "most_movies_df.columns = ['user_id', 'best_season', 'title', 'duration']\n",
    "\n",
    "# Replace month with the associated season\n",
    "most_movies_df['best_season'] = most_movies_df['best_season'].map({12:1,1:1,2:1,3:2,4:2,5:2,6:3,7:3,8:3,9:4,10:4,11:4})\n",
    "\n",
    "df_processed = pd.merge(df_processed, most_movies_df[['user_id', 'best_season']], on='user_id', how='left')\n",
    "# Replace NaN values (data relative to users with all interactions of duration 0) with 0\n",
    "df_processed['best_season'].fillna(value = 0, inplace = True)\n",
    "\n",
    "# Display the updated DataFrame\n",
    "display(df_processed.head())"
   ]
  },
  {
   "cell_type": "markdown",
   "id": "6330753d",
   "metadata": {},
   "source": [
    "5. **Favourite Movie**: which movie the user spent the most time in"
   ]
  },
  {
   "cell_type": "code",
   "execution_count": 17,
   "id": "8fb5b176",
   "metadata": {},
   "outputs": [
    {
     "data": {
      "text/html": [
       "<div>\n",
       "<style scoped>\n",
       "    .dataframe tbody tr th:only-of-type {\n",
       "        vertical-align: middle;\n",
       "    }\n",
       "\n",
       "    .dataframe tbody tr th {\n",
       "        vertical-align: top;\n",
       "    }\n",
       "\n",
       "    .dataframe thead th {\n",
       "        text-align: right;\n",
       "    }\n",
       "</style>\n",
       "<table border=\"1\" class=\"dataframe\">\n",
       "  <thead>\n",
       "    <tr style=\"text-align: right;\">\n",
       "      <th></th>\n",
       "      <th>user_id</th>\n",
       "      <th>favourite_genre</th>\n",
       "      <th>avg_click_duration</th>\n",
       "      <th>time_of_day</th>\n",
       "      <th>vintage</th>\n",
       "      <th>avg_day_duration</th>\n",
       "      <th>std_day_duration</th>\n",
       "      <th>num_genres_watched</th>\n",
       "      <th>num_movies_watched</th>\n",
       "      <th>best_season</th>\n",
       "      <th>best_movie</th>\n",
       "    </tr>\n",
       "  </thead>\n",
       "  <tbody>\n",
       "    <tr>\n",
       "      <th>0</th>\n",
       "      <td>544dcbc510</td>\n",
       "      <td>Fantasy</td>\n",
       "      <td>1864.500000</td>\n",
       "      <td>Evening</td>\n",
       "      <td>1</td>\n",
       "      <td>18645.000000</td>\n",
       "      <td>0.000000</td>\n",
       "      <td>5</td>\n",
       "      <td>2</td>\n",
       "      <td>1</td>\n",
       "      <td>Twilight</td>\n",
       "    </tr>\n",
       "    <tr>\n",
       "      <th>1</th>\n",
       "      <td>7cbcc791bf</td>\n",
       "      <td>Thriller</td>\n",
       "      <td>4218.666667</td>\n",
       "      <td>Afternoon</td>\n",
       "      <td>0</td>\n",
       "      <td>8437.333333</td>\n",
       "      <td>5239.796306</td>\n",
       "      <td>8</td>\n",
       "      <td>2</td>\n",
       "      <td>1</td>\n",
       "      <td>London Has Fallen</td>\n",
       "    </tr>\n",
       "    <tr>\n",
       "      <th>2</th>\n",
       "      <td>ebf43c36b6</td>\n",
       "      <td>Action</td>\n",
       "      <td>1883.533333</td>\n",
       "      <td>Afternoon</td>\n",
       "      <td>0</td>\n",
       "      <td>9417.666667</td>\n",
       "      <td>3443.353937</td>\n",
       "      <td>11</td>\n",
       "      <td>12</td>\n",
       "      <td>1</td>\n",
       "      <td>Free Birds</td>\n",
       "    </tr>\n",
       "    <tr>\n",
       "      <th>3</th>\n",
       "      <td>a57c992287</td>\n",
       "      <td>Drama</td>\n",
       "      <td>4033.130435</td>\n",
       "      <td>Afternoon</td>\n",
       "      <td>0</td>\n",
       "      <td>7730.166667</td>\n",
       "      <td>16275.708446</td>\n",
       "      <td>16</td>\n",
       "      <td>8</td>\n",
       "      <td>1</td>\n",
       "      <td>Hunt for the Wilderpeople</td>\n",
       "    </tr>\n",
       "    <tr>\n",
       "      <th>4</th>\n",
       "      <td>c5bf4f3f57</td>\n",
       "      <td>Action</td>\n",
       "      <td>2185.285714</td>\n",
       "      <td>Afternoon</td>\n",
       "      <td>0</td>\n",
       "      <td>3824.250000</td>\n",
       "      <td>2823.386663</td>\n",
       "      <td>6</td>\n",
       "      <td>5</td>\n",
       "      <td>1</td>\n",
       "      <td>Dirty Grandpa</td>\n",
       "    </tr>\n",
       "  </tbody>\n",
       "</table>\n",
       "</div>"
      ],
      "text/plain": [
       "      user_id favourite_genre  avg_click_duration time_of_day  vintage  \\\n",
       "0  544dcbc510         Fantasy         1864.500000     Evening        1   \n",
       "1  7cbcc791bf        Thriller         4218.666667   Afternoon        0   \n",
       "2  ebf43c36b6          Action         1883.533333   Afternoon        0   \n",
       "3  a57c992287           Drama         4033.130435   Afternoon        0   \n",
       "4  c5bf4f3f57          Action         2185.285714   Afternoon        0   \n",
       "\n",
       "   avg_day_duration  std_day_duration  num_genres_watched  num_movies_watched  \\\n",
       "0      18645.000000          0.000000                   5                   2   \n",
       "1       8437.333333       5239.796306                   8                   2   \n",
       "2       9417.666667       3443.353937                  11                  12   \n",
       "3       7730.166667      16275.708446                  16                   8   \n",
       "4       3824.250000       2823.386663                   6                   5   \n",
       "\n",
       "   best_season                 best_movie  \n",
       "0            1                   Twilight  \n",
       "1            1          London Has Fallen  \n",
       "2            1                 Free Birds  \n",
       "3            1  Hunt for the Wilderpeople  \n",
       "4            1              Dirty Grandpa  "
      ]
     },
     "metadata": {},
     "output_type": "display_data"
    }
   ],
   "source": [
    "# Group by 'user_id' and 'title', then calculate the time spent in each movie for each user\n",
    "time_per_film = df.groupby(['user_id','title'], as_index = False).aggregate({'duration':'sum'})\n",
    "\n",
    "# Find the movie with the maximum total duration for each user\n",
    "most_time_per_user = time_per_film.loc[time_per_film.groupby('user_id')['duration'].idxmax()]\n",
    "most_time_per_user.columns = ['user_id', 'best_movie', 'duration']\n",
    "\n",
    "df_processed = pd.merge(df_processed, most_time_per_user[['user_id', 'best_movie']], on='user_id', how='left')\n",
    "\n",
    "# Display the updated DataFrame\n",
    "display(df_processed.head())"
   ]
  },
  {
   "cell_type": "markdown",
   "id": "4d36e167",
   "metadata": {},
   "source": [
    "6. **Average time spent during Christmas**: how much time the user spent on the platform during Christmas holidays, on average"
   ]
  },
  {
   "cell_type": "code",
   "execution_count": 18,
   "id": "31772290",
   "metadata": {},
   "outputs": [
    {
     "data": {
      "text/html": [
       "<div>\n",
       "<style scoped>\n",
       "    .dataframe tbody tr th:only-of-type {\n",
       "        vertical-align: middle;\n",
       "    }\n",
       "\n",
       "    .dataframe tbody tr th {\n",
       "        vertical-align: top;\n",
       "    }\n",
       "\n",
       "    .dataframe thead th {\n",
       "        text-align: right;\n",
       "    }\n",
       "</style>\n",
       "<table border=\"1\" class=\"dataframe\">\n",
       "  <thead>\n",
       "    <tr style=\"text-align: right;\">\n",
       "      <th></th>\n",
       "      <th>user_id</th>\n",
       "      <th>favourite_genre</th>\n",
       "      <th>avg_click_duration</th>\n",
       "      <th>time_of_day</th>\n",
       "      <th>vintage</th>\n",
       "      <th>avg_day_duration</th>\n",
       "      <th>std_day_duration</th>\n",
       "      <th>num_genres_watched</th>\n",
       "      <th>num_movies_watched</th>\n",
       "      <th>best_season</th>\n",
       "      <th>best_movie</th>\n",
       "      <th>avg_holidays_duration</th>\n",
       "    </tr>\n",
       "  </thead>\n",
       "  <tbody>\n",
       "    <tr>\n",
       "      <th>0</th>\n",
       "      <td>544dcbc510</td>\n",
       "      <td>Fantasy</td>\n",
       "      <td>1864.500000</td>\n",
       "      <td>Evening</td>\n",
       "      <td>1</td>\n",
       "      <td>18645.000000</td>\n",
       "      <td>0.000000</td>\n",
       "      <td>5</td>\n",
       "      <td>2</td>\n",
       "      <td>1</td>\n",
       "      <td>Twilight</td>\n",
       "      <td>0.0</td>\n",
       "    </tr>\n",
       "    <tr>\n",
       "      <th>1</th>\n",
       "      <td>7cbcc791bf</td>\n",
       "      <td>Thriller</td>\n",
       "      <td>4218.666667</td>\n",
       "      <td>Afternoon</td>\n",
       "      <td>0</td>\n",
       "      <td>8437.333333</td>\n",
       "      <td>5239.796306</td>\n",
       "      <td>8</td>\n",
       "      <td>2</td>\n",
       "      <td>1</td>\n",
       "      <td>London Has Fallen</td>\n",
       "      <td>0.0</td>\n",
       "    </tr>\n",
       "    <tr>\n",
       "      <th>2</th>\n",
       "      <td>ebf43c36b6</td>\n",
       "      <td>Action</td>\n",
       "      <td>1883.533333</td>\n",
       "      <td>Afternoon</td>\n",
       "      <td>0</td>\n",
       "      <td>9417.666667</td>\n",
       "      <td>3443.353937</td>\n",
       "      <td>11</td>\n",
       "      <td>12</td>\n",
       "      <td>1</td>\n",
       "      <td>Free Birds</td>\n",
       "      <td>0.0</td>\n",
       "    </tr>\n",
       "    <tr>\n",
       "      <th>3</th>\n",
       "      <td>a57c992287</td>\n",
       "      <td>Drama</td>\n",
       "      <td>4033.130435</td>\n",
       "      <td>Afternoon</td>\n",
       "      <td>0</td>\n",
       "      <td>7730.166667</td>\n",
       "      <td>16275.708446</td>\n",
       "      <td>16</td>\n",
       "      <td>8</td>\n",
       "      <td>1</td>\n",
       "      <td>Hunt for the Wilderpeople</td>\n",
       "      <td>0.0</td>\n",
       "    </tr>\n",
       "    <tr>\n",
       "      <th>4</th>\n",
       "      <td>c5bf4f3f57</td>\n",
       "      <td>Action</td>\n",
       "      <td>2185.285714</td>\n",
       "      <td>Afternoon</td>\n",
       "      <td>0</td>\n",
       "      <td>3824.250000</td>\n",
       "      <td>2823.386663</td>\n",
       "      <td>6</td>\n",
       "      <td>5</td>\n",
       "      <td>1</td>\n",
       "      <td>Dirty Grandpa</td>\n",
       "      <td>0.0</td>\n",
       "    </tr>\n",
       "  </tbody>\n",
       "</table>\n",
       "</div>"
      ],
      "text/plain": [
       "      user_id favourite_genre  avg_click_duration time_of_day  vintage  \\\n",
       "0  544dcbc510         Fantasy         1864.500000     Evening        1   \n",
       "1  7cbcc791bf        Thriller         4218.666667   Afternoon        0   \n",
       "2  ebf43c36b6          Action         1883.533333   Afternoon        0   \n",
       "3  a57c992287           Drama         4033.130435   Afternoon        0   \n",
       "4  c5bf4f3f57          Action         2185.285714   Afternoon        0   \n",
       "\n",
       "   avg_day_duration  std_day_duration  num_genres_watched  num_movies_watched  \\\n",
       "0      18645.000000          0.000000                   5                   2   \n",
       "1       8437.333333       5239.796306                   8                   2   \n",
       "2       9417.666667       3443.353937                  11                  12   \n",
       "3       7730.166667      16275.708446                  16                   8   \n",
       "4       3824.250000       2823.386663                   6                   5   \n",
       "\n",
       "   best_season                 best_movie  avg_holidays_duration  \n",
       "0            1                   Twilight                    0.0  \n",
       "1            1          London Has Fallen                    0.0  \n",
       "2            1                 Free Birds                    0.0  \n",
       "3            1  Hunt for the Wilderpeople                    0.0  \n",
       "4            1              Dirty Grandpa                    0.0  "
      ]
     },
     "metadata": {},
     "output_type": "display_data"
    }
   ],
   "source": [
    "# Group by 'user_id' and date (excluding time), then calculate the total time spent on each day by each user\n",
    "user_hol_stats = df.groupby(['user_id', 'date'], as_index = False).aggregate({'duration':'sum'})\n",
    "\n",
    "# Select days corresponding to christmas holidays and compute a mean of the time spent on each of them\n",
    "xmas_holidays = np.arange(24,32)\n",
    "user_hol_stats['date'] = pd.to_datetime(user_hol_stats['date'])\n",
    "hol_duration = user_hol_stats[(user_hol_stats.date.dt.month == 12) & (user_hol_stats.date.dt.day.isin(xmas_holidays))].groupby('user_id', as_index = False).aggregate({'duration':'mean'})\n",
    "hol_duration.columns = ['user_id', 'avg_holidays_duration']\n",
    "\n",
    "df_processed = pd.merge(df_processed, hol_duration[['user_id', 'avg_holidays_duration']], on='user_id', how='left')\n",
    "# Replace NaN values (data relative to users with all interactions of duration 0) with 0\n",
    "df_processed['avg_holidays_duration'].fillna(value = 0, inplace = True)\n",
    "\n",
    "# Display the updated DataFrame\n",
    "display(df_processed.head())"
   ]
  },
  {
   "cell_type": "markdown",
   "id": "f29e8da0",
   "metadata": {},
   "source": [
    "7. **Weekends lover**: if a user spent more time watching movies during weekends, on average"
   ]
  },
  {
   "cell_type": "code",
   "execution_count": 19,
   "id": "ab907a44",
   "metadata": {},
   "outputs": [],
   "source": [
    "# weekends vs weekdays\n",
    "def agg_weekends(g):\n",
    "    weekends_count = g.duration[g.datetime.dt.dayofweek >= 5].mean()\n",
    "    weekdays_count = g.duration[g.datetime.dt.dayofweek < 5].mean()\n",
    "    return pd.Series({'weekends_user': 1 if weekends_count >= weekdays_count else 0}) "
   ]
  },
  {
   "cell_type": "code",
   "execution_count": 20,
   "id": "1fa9972f",
   "metadata": {},
   "outputs": [
    {
     "data": {
      "text/html": [
       "<div>\n",
       "<style scoped>\n",
       "    .dataframe tbody tr th:only-of-type {\n",
       "        vertical-align: middle;\n",
       "    }\n",
       "\n",
       "    .dataframe tbody tr th {\n",
       "        vertical-align: top;\n",
       "    }\n",
       "\n",
       "    .dataframe thead th {\n",
       "        text-align: right;\n",
       "    }\n",
       "</style>\n",
       "<table border=\"1\" class=\"dataframe\">\n",
       "  <thead>\n",
       "    <tr style=\"text-align: right;\">\n",
       "      <th></th>\n",
       "      <th>user_id</th>\n",
       "      <th>favourite_genre</th>\n",
       "      <th>avg_click_duration</th>\n",
       "      <th>time_of_day</th>\n",
       "      <th>vintage</th>\n",
       "      <th>avg_day_duration</th>\n",
       "      <th>std_day_duration</th>\n",
       "      <th>num_genres_watched</th>\n",
       "      <th>num_movies_watched</th>\n",
       "      <th>best_season</th>\n",
       "      <th>best_movie</th>\n",
       "      <th>avg_holidays_duration</th>\n",
       "      <th>weekends_user</th>\n",
       "    </tr>\n",
       "  </thead>\n",
       "  <tbody>\n",
       "    <tr>\n",
       "      <th>0</th>\n",
       "      <td>544dcbc510</td>\n",
       "      <td>Fantasy</td>\n",
       "      <td>1864.500000</td>\n",
       "      <td>Evening</td>\n",
       "      <td>1</td>\n",
       "      <td>18645.000000</td>\n",
       "      <td>0.000000</td>\n",
       "      <td>5</td>\n",
       "      <td>2</td>\n",
       "      <td>1</td>\n",
       "      <td>Twilight</td>\n",
       "      <td>0.0</td>\n",
       "      <td>0</td>\n",
       "    </tr>\n",
       "    <tr>\n",
       "      <th>1</th>\n",
       "      <td>7cbcc791bf</td>\n",
       "      <td>Thriller</td>\n",
       "      <td>4218.666667</td>\n",
       "      <td>Afternoon</td>\n",
       "      <td>0</td>\n",
       "      <td>8437.333333</td>\n",
       "      <td>5239.796306</td>\n",
       "      <td>8</td>\n",
       "      <td>2</td>\n",
       "      <td>1</td>\n",
       "      <td>London Has Fallen</td>\n",
       "      <td>0.0</td>\n",
       "      <td>1</td>\n",
       "    </tr>\n",
       "    <tr>\n",
       "      <th>2</th>\n",
       "      <td>ebf43c36b6</td>\n",
       "      <td>Action</td>\n",
       "      <td>1883.533333</td>\n",
       "      <td>Afternoon</td>\n",
       "      <td>0</td>\n",
       "      <td>9417.666667</td>\n",
       "      <td>3443.353937</td>\n",
       "      <td>11</td>\n",
       "      <td>12</td>\n",
       "      <td>1</td>\n",
       "      <td>Free Birds</td>\n",
       "      <td>0.0</td>\n",
       "      <td>1</td>\n",
       "    </tr>\n",
       "    <tr>\n",
       "      <th>3</th>\n",
       "      <td>a57c992287</td>\n",
       "      <td>Drama</td>\n",
       "      <td>4033.130435</td>\n",
       "      <td>Afternoon</td>\n",
       "      <td>0</td>\n",
       "      <td>7730.166667</td>\n",
       "      <td>16275.708446</td>\n",
       "      <td>16</td>\n",
       "      <td>8</td>\n",
       "      <td>1</td>\n",
       "      <td>Hunt for the Wilderpeople</td>\n",
       "      <td>0.0</td>\n",
       "      <td>0</td>\n",
       "    </tr>\n",
       "    <tr>\n",
       "      <th>4</th>\n",
       "      <td>c5bf4f3f57</td>\n",
       "      <td>Action</td>\n",
       "      <td>2185.285714</td>\n",
       "      <td>Afternoon</td>\n",
       "      <td>0</td>\n",
       "      <td>3824.250000</td>\n",
       "      <td>2823.386663</td>\n",
       "      <td>6</td>\n",
       "      <td>5</td>\n",
       "      <td>1</td>\n",
       "      <td>Dirty Grandpa</td>\n",
       "      <td>0.0</td>\n",
       "      <td>1</td>\n",
       "    </tr>\n",
       "  </tbody>\n",
       "</table>\n",
       "</div>"
      ],
      "text/plain": [
       "      user_id favourite_genre  avg_click_duration time_of_day  vintage  \\\n",
       "0  544dcbc510         Fantasy         1864.500000     Evening        1   \n",
       "1  7cbcc791bf        Thriller         4218.666667   Afternoon        0   \n",
       "2  ebf43c36b6          Action         1883.533333   Afternoon        0   \n",
       "3  a57c992287           Drama         4033.130435   Afternoon        0   \n",
       "4  c5bf4f3f57          Action         2185.285714   Afternoon        0   \n",
       "\n",
       "   avg_day_duration  std_day_duration  num_genres_watched  num_movies_watched  \\\n",
       "0      18645.000000          0.000000                   5                   2   \n",
       "1       8437.333333       5239.796306                   8                   2   \n",
       "2       9417.666667       3443.353937                  11                  12   \n",
       "3       7730.166667      16275.708446                  16                   8   \n",
       "4       3824.250000       2823.386663                   6                   5   \n",
       "\n",
       "   best_season                 best_movie  avg_holidays_duration  \\\n",
       "0            1                   Twilight                    0.0   \n",
       "1            1          London Has Fallen                    0.0   \n",
       "2            1                 Free Birds                    0.0   \n",
       "3            1  Hunt for the Wilderpeople                    0.0   \n",
       "4            1              Dirty Grandpa                    0.0   \n",
       "\n",
       "   weekends_user  \n",
       "0              0  \n",
       "1              1  \n",
       "2              1  \n",
       "3              0  \n",
       "4              1  "
      ]
     },
     "metadata": {},
     "output_type": "display_data"
    }
   ],
   "source": [
    "df_processed = df_processed.merge(df.groupby(['user_id'], as_index = False).apply(agg_weekends), left_on = 'user_id', right_on = 'user_id', how = 'left')\n",
    "display(df_processed.head())"
   ]
  },
  {
   "cell_type": "markdown",
   "id": "c99c6ce6",
   "metadata": {},
   "source": [
    "8. **Average session duration**: how much time the user spent in a watching session on average (a session is composed by a group of consecutive interactions; so consecutive movies watched by a user)"
   ]
  },
  {
   "cell_type": "code",
   "execution_count": 21,
   "id": "d29c6a8d",
   "metadata": {},
   "outputs": [
    {
     "data": {
      "text/html": [
       "<div>\n",
       "<style scoped>\n",
       "    .dataframe tbody tr th:only-of-type {\n",
       "        vertical-align: middle;\n",
       "    }\n",
       "\n",
       "    .dataframe tbody tr th {\n",
       "        vertical-align: top;\n",
       "    }\n",
       "\n",
       "    .dataframe thead th {\n",
       "        text-align: right;\n",
       "    }\n",
       "</style>\n",
       "<table border=\"1\" class=\"dataframe\">\n",
       "  <thead>\n",
       "    <tr style=\"text-align: right;\">\n",
       "      <th></th>\n",
       "      <th>user_id</th>\n",
       "      <th>favourite_genre</th>\n",
       "      <th>avg_click_duration</th>\n",
       "      <th>time_of_day</th>\n",
       "      <th>vintage</th>\n",
       "      <th>avg_day_duration</th>\n",
       "      <th>std_day_duration</th>\n",
       "      <th>num_genres_watched</th>\n",
       "      <th>num_movies_watched</th>\n",
       "      <th>best_season</th>\n",
       "      <th>best_movie</th>\n",
       "      <th>avg_holidays_duration</th>\n",
       "      <th>weekends_user</th>\n",
       "      <th>avg_session_duration</th>\n",
       "    </tr>\n",
       "  </thead>\n",
       "  <tbody>\n",
       "    <tr>\n",
       "      <th>0</th>\n",
       "      <td>544dcbc510</td>\n",
       "      <td>Fantasy</td>\n",
       "      <td>1864.500000</td>\n",
       "      <td>Evening</td>\n",
       "      <td>1</td>\n",
       "      <td>18645.000000</td>\n",
       "      <td>0.000000</td>\n",
       "      <td>5</td>\n",
       "      <td>2</td>\n",
       "      <td>1</td>\n",
       "      <td>Twilight</td>\n",
       "      <td>0.0</td>\n",
       "      <td>0</td>\n",
       "      <td>1864.500000</td>\n",
       "    </tr>\n",
       "    <tr>\n",
       "      <th>1</th>\n",
       "      <td>7cbcc791bf</td>\n",
       "      <td>Thriller</td>\n",
       "      <td>4218.666667</td>\n",
       "      <td>Afternoon</td>\n",
       "      <td>0</td>\n",
       "      <td>8437.333333</td>\n",
       "      <td>5239.796306</td>\n",
       "      <td>8</td>\n",
       "      <td>2</td>\n",
       "      <td>1</td>\n",
       "      <td>London Has Fallen</td>\n",
       "      <td>0.0</td>\n",
       "      <td>1</td>\n",
       "      <td>4218.666667</td>\n",
       "    </tr>\n",
       "    <tr>\n",
       "      <th>2</th>\n",
       "      <td>ebf43c36b6</td>\n",
       "      <td>Action</td>\n",
       "      <td>1883.533333</td>\n",
       "      <td>Afternoon</td>\n",
       "      <td>0</td>\n",
       "      <td>9417.666667</td>\n",
       "      <td>3443.353937</td>\n",
       "      <td>11</td>\n",
       "      <td>12</td>\n",
       "      <td>1</td>\n",
       "      <td>Free Birds</td>\n",
       "      <td>0.0</td>\n",
       "      <td>1</td>\n",
       "      <td>1883.533333</td>\n",
       "    </tr>\n",
       "    <tr>\n",
       "      <th>3</th>\n",
       "      <td>a57c992287</td>\n",
       "      <td>Drama</td>\n",
       "      <td>4033.130435</td>\n",
       "      <td>Afternoon</td>\n",
       "      <td>0</td>\n",
       "      <td>7730.166667</td>\n",
       "      <td>16275.708446</td>\n",
       "      <td>16</td>\n",
       "      <td>8</td>\n",
       "      <td>1</td>\n",
       "      <td>Hunt for the Wilderpeople</td>\n",
       "      <td>0.0</td>\n",
       "      <td>0</td>\n",
       "      <td>4033.130435</td>\n",
       "    </tr>\n",
       "    <tr>\n",
       "      <th>4</th>\n",
       "      <td>c5bf4f3f57</td>\n",
       "      <td>Action</td>\n",
       "      <td>2185.285714</td>\n",
       "      <td>Afternoon</td>\n",
       "      <td>0</td>\n",
       "      <td>3824.250000</td>\n",
       "      <td>2823.386663</td>\n",
       "      <td>6</td>\n",
       "      <td>5</td>\n",
       "      <td>1</td>\n",
       "      <td>Dirty Grandpa</td>\n",
       "      <td>0.0</td>\n",
       "      <td>1</td>\n",
       "      <td>2185.285714</td>\n",
       "    </tr>\n",
       "  </tbody>\n",
       "</table>\n",
       "</div>"
      ],
      "text/plain": [
       "      user_id favourite_genre  avg_click_duration time_of_day  vintage  \\\n",
       "0  544dcbc510         Fantasy         1864.500000     Evening        1   \n",
       "1  7cbcc791bf        Thriller         4218.666667   Afternoon        0   \n",
       "2  ebf43c36b6          Action         1883.533333   Afternoon        0   \n",
       "3  a57c992287           Drama         4033.130435   Afternoon        0   \n",
       "4  c5bf4f3f57          Action         2185.285714   Afternoon        0   \n",
       "\n",
       "   avg_day_duration  std_day_duration  num_genres_watched  num_movies_watched  \\\n",
       "0      18645.000000          0.000000                   5                   2   \n",
       "1       8437.333333       5239.796306                   8                   2   \n",
       "2       9417.666667       3443.353937                  11                  12   \n",
       "3       7730.166667      16275.708446                  16                   8   \n",
       "4       3824.250000       2823.386663                   6                   5   \n",
       "\n",
       "   best_season                 best_movie  avg_holidays_duration  \\\n",
       "0            1                   Twilight                    0.0   \n",
       "1            1          London Has Fallen                    0.0   \n",
       "2            1                 Free Birds                    0.0   \n",
       "3            1  Hunt for the Wilderpeople                    0.0   \n",
       "4            1              Dirty Grandpa                    0.0   \n",
       "\n",
       "   weekends_user  avg_session_duration  \n",
       "0              0           1864.500000  \n",
       "1              1           4218.666667  \n",
       "2              1           1883.533333  \n",
       "3              0           4033.130435  \n",
       "4              1           2185.285714  "
      ]
     },
     "metadata": {},
     "output_type": "display_data"
    }
   ],
   "source": [
    "# Calculate the time difference between consecutive interactions for each user\n",
    "df['time_diff'] = df.sort_values(by=['user_id', 'datetime']).groupby('user_id')['datetime'].diff()\n",
    "\n",
    "# Identify the start of a new session based on the time difference and the duration of each interaction\n",
    "df['new_session'] = (df['time_diff'] >= pd.to_timedelta(df['duration'], unit = 's') + pd.Timedelta(milliseconds=200)) | df['time_diff'].isna()\n",
    "\n",
    "# Assign a session ID to each interaction\n",
    "df['session_id'] = df['new_session'].cumsum()\n",
    "\n",
    "# Calculate the duration for each session\n",
    "session_durations = df.groupby(['user_id', 'session_id'], as_index = False).aggregate({'duration':'sum'})\n",
    "\n",
    "# Calculate the average duration of a session for each user\n",
    "avg_session_duration = session_durations.groupby('user_id', as_index = False).aggregate({'duration':'mean'})\n",
    "avg_session_duration.columns = ['user_id', 'avg_session_duration']\n",
    "\n",
    "df_processed = pd.merge(df_processed, avg_session_duration[['user_id', 'avg_session_duration']], on='user_id', how='left')\n",
    "\n",
    "# Display the updated DataFrame\n",
    "display(df_processed.head())"
   ]
  },
  {
   "cell_type": "markdown",
   "id": "7af67c73",
   "metadata": {},
   "source": [
    "9. **Standard Deviation of session duration**: how much the time spent in a session by the user is variable"
   ]
  },
  {
   "cell_type": "code",
   "execution_count": 22,
   "id": "6a485b3a",
   "metadata": {},
   "outputs": [
    {
     "data": {
      "text/html": [
       "<div>\n",
       "<style scoped>\n",
       "    .dataframe tbody tr th:only-of-type {\n",
       "        vertical-align: middle;\n",
       "    }\n",
       "\n",
       "    .dataframe tbody tr th {\n",
       "        vertical-align: top;\n",
       "    }\n",
       "\n",
       "    .dataframe thead th {\n",
       "        text-align: right;\n",
       "    }\n",
       "</style>\n",
       "<table border=\"1\" class=\"dataframe\">\n",
       "  <thead>\n",
       "    <tr style=\"text-align: right;\">\n",
       "      <th></th>\n",
       "      <th>user_id</th>\n",
       "      <th>favourite_genre</th>\n",
       "      <th>avg_click_duration</th>\n",
       "      <th>time_of_day</th>\n",
       "      <th>vintage</th>\n",
       "      <th>avg_day_duration</th>\n",
       "      <th>std_day_duration</th>\n",
       "      <th>num_genres_watched</th>\n",
       "      <th>num_movies_watched</th>\n",
       "      <th>best_season</th>\n",
       "      <th>best_movie</th>\n",
       "      <th>avg_holidays_duration</th>\n",
       "      <th>weekends_user</th>\n",
       "      <th>avg_session_duration</th>\n",
       "      <th>std_session_duration</th>\n",
       "    </tr>\n",
       "  </thead>\n",
       "  <tbody>\n",
       "    <tr>\n",
       "      <th>0</th>\n",
       "      <td>544dcbc510</td>\n",
       "      <td>Fantasy</td>\n",
       "      <td>1864.500000</td>\n",
       "      <td>Evening</td>\n",
       "      <td>1</td>\n",
       "      <td>18645.000000</td>\n",
       "      <td>0.000000</td>\n",
       "      <td>5</td>\n",
       "      <td>2</td>\n",
       "      <td>1</td>\n",
       "      <td>Twilight</td>\n",
       "      <td>0.0</td>\n",
       "      <td>0</td>\n",
       "      <td>1864.500000</td>\n",
       "      <td>4003.357348</td>\n",
       "    </tr>\n",
       "    <tr>\n",
       "      <th>1</th>\n",
       "      <td>7cbcc791bf</td>\n",
       "      <td>Thriller</td>\n",
       "      <td>4218.666667</td>\n",
       "      <td>Afternoon</td>\n",
       "      <td>0</td>\n",
       "      <td>8437.333333</td>\n",
       "      <td>5239.796306</td>\n",
       "      <td>8</td>\n",
       "      <td>2</td>\n",
       "      <td>1</td>\n",
       "      <td>London Has Fallen</td>\n",
       "      <td>0.0</td>\n",
       "      <td>1</td>\n",
       "      <td>4218.666667</td>\n",
       "      <td>4144.341234</td>\n",
       "    </tr>\n",
       "    <tr>\n",
       "      <th>2</th>\n",
       "      <td>ebf43c36b6</td>\n",
       "      <td>Action</td>\n",
       "      <td>1883.533333</td>\n",
       "      <td>Afternoon</td>\n",
       "      <td>0</td>\n",
       "      <td>9417.666667</td>\n",
       "      <td>3443.353937</td>\n",
       "      <td>11</td>\n",
       "      <td>12</td>\n",
       "      <td>1</td>\n",
       "      <td>Free Birds</td>\n",
       "      <td>0.0</td>\n",
       "      <td>1</td>\n",
       "      <td>1883.533333</td>\n",
       "      <td>2521.517595</td>\n",
       "    </tr>\n",
       "    <tr>\n",
       "      <th>3</th>\n",
       "      <td>a57c992287</td>\n",
       "      <td>Drama</td>\n",
       "      <td>4033.130435</td>\n",
       "      <td>Afternoon</td>\n",
       "      <td>0</td>\n",
       "      <td>7730.166667</td>\n",
       "      <td>16275.708446</td>\n",
       "      <td>16</td>\n",
       "      <td>8</td>\n",
       "      <td>1</td>\n",
       "      <td>Hunt for the Wilderpeople</td>\n",
       "      <td>0.0</td>\n",
       "      <td>0</td>\n",
       "      <td>4033.130435</td>\n",
       "      <td>11674.595369</td>\n",
       "    </tr>\n",
       "    <tr>\n",
       "      <th>4</th>\n",
       "      <td>c5bf4f3f57</td>\n",
       "      <td>Action</td>\n",
       "      <td>2185.285714</td>\n",
       "      <td>Afternoon</td>\n",
       "      <td>0</td>\n",
       "      <td>3824.250000</td>\n",
       "      <td>2823.386663</td>\n",
       "      <td>6</td>\n",
       "      <td>5</td>\n",
       "      <td>1</td>\n",
       "      <td>Dirty Grandpa</td>\n",
       "      <td>0.0</td>\n",
       "      <td>1</td>\n",
       "      <td>2185.285714</td>\n",
       "      <td>2266.678533</td>\n",
       "    </tr>\n",
       "  </tbody>\n",
       "</table>\n",
       "</div>"
      ],
      "text/plain": [
       "      user_id favourite_genre  avg_click_duration time_of_day  vintage  \\\n",
       "0  544dcbc510         Fantasy         1864.500000     Evening        1   \n",
       "1  7cbcc791bf        Thriller         4218.666667   Afternoon        0   \n",
       "2  ebf43c36b6          Action         1883.533333   Afternoon        0   \n",
       "3  a57c992287           Drama         4033.130435   Afternoon        0   \n",
       "4  c5bf4f3f57          Action         2185.285714   Afternoon        0   \n",
       "\n",
       "   avg_day_duration  std_day_duration  num_genres_watched  num_movies_watched  \\\n",
       "0      18645.000000          0.000000                   5                   2   \n",
       "1       8437.333333       5239.796306                   8                   2   \n",
       "2       9417.666667       3443.353937                  11                  12   \n",
       "3       7730.166667      16275.708446                  16                   8   \n",
       "4       3824.250000       2823.386663                   6                   5   \n",
       "\n",
       "   best_season                 best_movie  avg_holidays_duration  \\\n",
       "0            1                   Twilight                    0.0   \n",
       "1            1          London Has Fallen                    0.0   \n",
       "2            1                 Free Birds                    0.0   \n",
       "3            1  Hunt for the Wilderpeople                    0.0   \n",
       "4            1              Dirty Grandpa                    0.0   \n",
       "\n",
       "   weekends_user  avg_session_duration  std_session_duration  \n",
       "0              0           1864.500000           4003.357348  \n",
       "1              1           4218.666667           4144.341234  \n",
       "2              1           1883.533333           2521.517595  \n",
       "3              0           4033.130435          11674.595369  \n",
       "4              1           2185.285714           2266.678533  "
      ]
     },
     "metadata": {},
     "output_type": "display_data"
    }
   ],
   "source": [
    "# Leveraging what has been done with the previous feature,\n",
    "# calculate the standard deviation of duration of a session for each user\n",
    "std_session_duration = session_durations.groupby('user_id', as_index = False).aggregate({'duration':'std'}).fillna(0)\n",
    "std_session_duration.columns = ['user_id', 'std_session_duration']\n",
    "\n",
    "df_processed = pd.merge(df_processed, std_session_duration[['user_id', 'std_session_duration']], on='user_id', how='left')\n",
    "\n",
    "# Display the updated DataFrame\n",
    "display(df_processed.head())"
   ]
  },
  {
   "cell_type": "markdown",
   "id": "e4e5202e",
   "metadata": {},
   "source": [
    "10. **Favourite day of week**: the day of week the user spent the most time in"
   ]
  },
  {
   "cell_type": "code",
   "execution_count": 23,
   "id": "b92a8fba",
   "metadata": {
    "scrolled": true
   },
   "outputs": [
    {
     "data": {
      "text/html": [
       "<div>\n",
       "<style scoped>\n",
       "    .dataframe tbody tr th:only-of-type {\n",
       "        vertical-align: middle;\n",
       "    }\n",
       "\n",
       "    .dataframe tbody tr th {\n",
       "        vertical-align: top;\n",
       "    }\n",
       "\n",
       "    .dataframe thead th {\n",
       "        text-align: right;\n",
       "    }\n",
       "</style>\n",
       "<table border=\"1\" class=\"dataframe\">\n",
       "  <thead>\n",
       "    <tr style=\"text-align: right;\">\n",
       "      <th></th>\n",
       "      <th>user_id</th>\n",
       "      <th>favourite_genre</th>\n",
       "      <th>avg_click_duration</th>\n",
       "      <th>time_of_day</th>\n",
       "      <th>vintage</th>\n",
       "      <th>avg_day_duration</th>\n",
       "      <th>std_day_duration</th>\n",
       "      <th>num_genres_watched</th>\n",
       "      <th>num_movies_watched</th>\n",
       "      <th>best_season</th>\n",
       "      <th>best_movie</th>\n",
       "      <th>avg_holidays_duration</th>\n",
       "      <th>weekends_user</th>\n",
       "      <th>avg_session_duration</th>\n",
       "      <th>std_session_duration</th>\n",
       "      <th>best_day</th>\n",
       "    </tr>\n",
       "  </thead>\n",
       "  <tbody>\n",
       "    <tr>\n",
       "      <th>0</th>\n",
       "      <td>544dcbc510</td>\n",
       "      <td>Fantasy</td>\n",
       "      <td>1864.500000</td>\n",
       "      <td>Evening</td>\n",
       "      <td>1</td>\n",
       "      <td>18645.000000</td>\n",
       "      <td>0.000000</td>\n",
       "      <td>5</td>\n",
       "      <td>2</td>\n",
       "      <td>1</td>\n",
       "      <td>Twilight</td>\n",
       "      <td>0.0</td>\n",
       "      <td>0</td>\n",
       "      <td>1864.500000</td>\n",
       "      <td>4003.357348</td>\n",
       "      <td>Sunday</td>\n",
       "    </tr>\n",
       "    <tr>\n",
       "      <th>1</th>\n",
       "      <td>7cbcc791bf</td>\n",
       "      <td>Thriller</td>\n",
       "      <td>4218.666667</td>\n",
       "      <td>Afternoon</td>\n",
       "      <td>0</td>\n",
       "      <td>8437.333333</td>\n",
       "      <td>5239.796306</td>\n",
       "      <td>8</td>\n",
       "      <td>2</td>\n",
       "      <td>1</td>\n",
       "      <td>London Has Fallen</td>\n",
       "      <td>0.0</td>\n",
       "      <td>1</td>\n",
       "      <td>4218.666667</td>\n",
       "      <td>4144.341234</td>\n",
       "      <td>Sunday</td>\n",
       "    </tr>\n",
       "    <tr>\n",
       "      <th>2</th>\n",
       "      <td>ebf43c36b6</td>\n",
       "      <td>Action</td>\n",
       "      <td>1883.533333</td>\n",
       "      <td>Afternoon</td>\n",
       "      <td>0</td>\n",
       "      <td>9417.666667</td>\n",
       "      <td>3443.353937</td>\n",
       "      <td>11</td>\n",
       "      <td>12</td>\n",
       "      <td>1</td>\n",
       "      <td>Free Birds</td>\n",
       "      <td>0.0</td>\n",
       "      <td>1</td>\n",
       "      <td>1883.533333</td>\n",
       "      <td>2521.517595</td>\n",
       "      <td>Sunday</td>\n",
       "    </tr>\n",
       "    <tr>\n",
       "      <th>3</th>\n",
       "      <td>a57c992287</td>\n",
       "      <td>Drama</td>\n",
       "      <td>4033.130435</td>\n",
       "      <td>Afternoon</td>\n",
       "      <td>0</td>\n",
       "      <td>7730.166667</td>\n",
       "      <td>16275.708446</td>\n",
       "      <td>16</td>\n",
       "      <td>8</td>\n",
       "      <td>1</td>\n",
       "      <td>Hunt for the Wilderpeople</td>\n",
       "      <td>0.0</td>\n",
       "      <td>0</td>\n",
       "      <td>4033.130435</td>\n",
       "      <td>11674.595369</td>\n",
       "      <td>Sunday</td>\n",
       "    </tr>\n",
       "    <tr>\n",
       "      <th>4</th>\n",
       "      <td>c5bf4f3f57</td>\n",
       "      <td>Action</td>\n",
       "      <td>2185.285714</td>\n",
       "      <td>Afternoon</td>\n",
       "      <td>0</td>\n",
       "      <td>3824.250000</td>\n",
       "      <td>2823.386663</td>\n",
       "      <td>6</td>\n",
       "      <td>5</td>\n",
       "      <td>1</td>\n",
       "      <td>Dirty Grandpa</td>\n",
       "      <td>0.0</td>\n",
       "      <td>1</td>\n",
       "      <td>2185.285714</td>\n",
       "      <td>2266.678533</td>\n",
       "      <td>Sunday</td>\n",
       "    </tr>\n",
       "  </tbody>\n",
       "</table>\n",
       "</div>"
      ],
      "text/plain": [
       "      user_id favourite_genre  avg_click_duration time_of_day  vintage  \\\n",
       "0  544dcbc510         Fantasy         1864.500000     Evening        1   \n",
       "1  7cbcc791bf        Thriller         4218.666667   Afternoon        0   \n",
       "2  ebf43c36b6          Action         1883.533333   Afternoon        0   \n",
       "3  a57c992287           Drama         4033.130435   Afternoon        0   \n",
       "4  c5bf4f3f57          Action         2185.285714   Afternoon        0   \n",
       "\n",
       "   avg_day_duration  std_day_duration  num_genres_watched  num_movies_watched  \\\n",
       "0      18645.000000          0.000000                   5                   2   \n",
       "1       8437.333333       5239.796306                   8                   2   \n",
       "2       9417.666667       3443.353937                  11                  12   \n",
       "3       7730.166667      16275.708446                  16                   8   \n",
       "4       3824.250000       2823.386663                   6                   5   \n",
       "\n",
       "   best_season                 best_movie  avg_holidays_duration  \\\n",
       "0            1                   Twilight                    0.0   \n",
       "1            1          London Has Fallen                    0.0   \n",
       "2            1                 Free Birds                    0.0   \n",
       "3            1  Hunt for the Wilderpeople                    0.0   \n",
       "4            1              Dirty Grandpa                    0.0   \n",
       "\n",
       "   weekends_user  avg_session_duration  std_session_duration best_day  \n",
       "0              0           1864.500000           4003.357348   Sunday  \n",
       "1              1           4218.666667           4144.341234   Sunday  \n",
       "2              1           1883.533333           2521.517595   Sunday  \n",
       "3              0           4033.130435          11674.595369   Sunday  \n",
       "4              1           2185.285714           2266.678533   Sunday  "
      ]
     },
     "metadata": {},
     "output_type": "display_data"
    }
   ],
   "source": [
    "# Extract the day of week from the 'datetime' column\n",
    "df['day_of_week'] = df['datetime'].dt.dayofweek\n",
    "\n",
    "# sum the duration of each interaction for each user and each day of week\n",
    "duration_per_day = df.groupby(['user_id', 'day_of_week'], as_index = False).aggregate({'duration':'sum'})\n",
    "# exctract the day with the maximum duration for each user, then rename the columns\n",
    "max_activity_day = duration_per_day.groupby('user_id', as_index = False)['day_of_week'].max()  \n",
    "max_activity_day.columns = ['user_id','best_day']\n",
    "\n",
    "# convert the integers representing days of weeks to strings\n",
    "days = {0:'Monday', 1:'Tuesday', 2:'Wednesday', 3:'Thursday', 4:'Friday', 5:'Saturday', 6:'Sunday'}\n",
    "max_activity_day['best_day'] = max_activity_day['best_day'].map(days)\n",
    "\n",
    "df_processed = pd.merge(df_processed, max_activity_day, on='user_id', how='left')\n",
    "\n",
    "# Display the updated DataFrame\n",
    "display(df_processed.head())"
   ]
  },
  {
   "cell_type": "markdown",
   "id": "5799cfca",
   "metadata": {},
   "source": [
    "The dataset obtained by this operation of *feature engineering* follows:"
   ]
  },
  {
   "cell_type": "code",
   "execution_count": 24,
   "id": "084c2b65",
   "metadata": {
    "scrolled": true
   },
   "outputs": [
    {
     "data": {
      "text/html": [
       "<div>\n",
       "<style scoped>\n",
       "    .dataframe tbody tr th:only-of-type {\n",
       "        vertical-align: middle;\n",
       "    }\n",
       "\n",
       "    .dataframe tbody tr th {\n",
       "        vertical-align: top;\n",
       "    }\n",
       "\n",
       "    .dataframe thead th {\n",
       "        text-align: right;\n",
       "    }\n",
       "</style>\n",
       "<table border=\"1\" class=\"dataframe\">\n",
       "  <thead>\n",
       "    <tr style=\"text-align: right;\">\n",
       "      <th></th>\n",
       "      <th>favourite_genre</th>\n",
       "      <th>avg_click_duration</th>\n",
       "      <th>time_of_day</th>\n",
       "      <th>vintage</th>\n",
       "      <th>avg_day_duration</th>\n",
       "      <th>std_day_duration</th>\n",
       "      <th>num_genres_watched</th>\n",
       "      <th>num_movies_watched</th>\n",
       "      <th>best_season</th>\n",
       "      <th>best_movie</th>\n",
       "      <th>avg_holidays_duration</th>\n",
       "      <th>weekends_user</th>\n",
       "      <th>avg_session_duration</th>\n",
       "      <th>std_session_duration</th>\n",
       "      <th>best_day</th>\n",
       "    </tr>\n",
       "  </thead>\n",
       "  <tbody>\n",
       "    <tr>\n",
       "      <th>0</th>\n",
       "      <td>Fantasy</td>\n",
       "      <td>1864.500000</td>\n",
       "      <td>Evening</td>\n",
       "      <td>1</td>\n",
       "      <td>18645.000000</td>\n",
       "      <td>0.000000</td>\n",
       "      <td>5</td>\n",
       "      <td>2</td>\n",
       "      <td>1</td>\n",
       "      <td>Twilight</td>\n",
       "      <td>0.0</td>\n",
       "      <td>0</td>\n",
       "      <td>1864.500000</td>\n",
       "      <td>4003.357348</td>\n",
       "      <td>Sunday</td>\n",
       "    </tr>\n",
       "    <tr>\n",
       "      <th>1</th>\n",
       "      <td>Thriller</td>\n",
       "      <td>4218.666667</td>\n",
       "      <td>Afternoon</td>\n",
       "      <td>0</td>\n",
       "      <td>8437.333333</td>\n",
       "      <td>5239.796306</td>\n",
       "      <td>8</td>\n",
       "      <td>2</td>\n",
       "      <td>1</td>\n",
       "      <td>London Has Fallen</td>\n",
       "      <td>0.0</td>\n",
       "      <td>1</td>\n",
       "      <td>4218.666667</td>\n",
       "      <td>4144.341234</td>\n",
       "      <td>Sunday</td>\n",
       "    </tr>\n",
       "    <tr>\n",
       "      <th>2</th>\n",
       "      <td>Action</td>\n",
       "      <td>1883.533333</td>\n",
       "      <td>Afternoon</td>\n",
       "      <td>0</td>\n",
       "      <td>9417.666667</td>\n",
       "      <td>3443.353937</td>\n",
       "      <td>11</td>\n",
       "      <td>12</td>\n",
       "      <td>1</td>\n",
       "      <td>Free Birds</td>\n",
       "      <td>0.0</td>\n",
       "      <td>1</td>\n",
       "      <td>1883.533333</td>\n",
       "      <td>2521.517595</td>\n",
       "      <td>Sunday</td>\n",
       "    </tr>\n",
       "    <tr>\n",
       "      <th>3</th>\n",
       "      <td>Drama</td>\n",
       "      <td>4033.130435</td>\n",
       "      <td>Afternoon</td>\n",
       "      <td>0</td>\n",
       "      <td>7730.166667</td>\n",
       "      <td>16275.708446</td>\n",
       "      <td>16</td>\n",
       "      <td>8</td>\n",
       "      <td>1</td>\n",
       "      <td>Hunt for the Wilderpeople</td>\n",
       "      <td>0.0</td>\n",
       "      <td>0</td>\n",
       "      <td>4033.130435</td>\n",
       "      <td>11674.595369</td>\n",
       "      <td>Sunday</td>\n",
       "    </tr>\n",
       "    <tr>\n",
       "      <th>4</th>\n",
       "      <td>Action</td>\n",
       "      <td>2185.285714</td>\n",
       "      <td>Afternoon</td>\n",
       "      <td>0</td>\n",
       "      <td>3824.250000</td>\n",
       "      <td>2823.386663</td>\n",
       "      <td>6</td>\n",
       "      <td>5</td>\n",
       "      <td>1</td>\n",
       "      <td>Dirty Grandpa</td>\n",
       "      <td>0.0</td>\n",
       "      <td>1</td>\n",
       "      <td>2185.285714</td>\n",
       "      <td>2266.678533</td>\n",
       "      <td>Sunday</td>\n",
       "    </tr>\n",
       "  </tbody>\n",
       "</table>\n",
       "</div>"
      ],
      "text/plain": [
       "  favourite_genre  avg_click_duration time_of_day  vintage  avg_day_duration  \\\n",
       "0         Fantasy         1864.500000     Evening        1      18645.000000   \n",
       "1        Thriller         4218.666667   Afternoon        0       8437.333333   \n",
       "2          Action         1883.533333   Afternoon        0       9417.666667   \n",
       "3           Drama         4033.130435   Afternoon        0       7730.166667   \n",
       "4          Action         2185.285714   Afternoon        0       3824.250000   \n",
       "\n",
       "   std_day_duration  num_genres_watched  num_movies_watched  best_season  \\\n",
       "0          0.000000                   5                   2            1   \n",
       "1       5239.796306                   8                   2            1   \n",
       "2       3443.353937                  11                  12            1   \n",
       "3      16275.708446                  16                   8            1   \n",
       "4       2823.386663                   6                   5            1   \n",
       "\n",
       "                  best_movie  avg_holidays_duration  weekends_user  \\\n",
       "0                   Twilight                    0.0              0   \n",
       "1          London Has Fallen                    0.0              1   \n",
       "2                 Free Birds                    0.0              1   \n",
       "3  Hunt for the Wilderpeople                    0.0              0   \n",
       "4              Dirty Grandpa                    0.0              1   \n",
       "\n",
       "   avg_session_duration  std_session_duration best_day  \n",
       "0           1864.500000           4003.357348   Sunday  \n",
       "1           4218.666667           4144.341234   Sunday  \n",
       "2           1883.533333           2521.517595   Sunday  \n",
       "3           4033.130435          11674.595369   Sunday  \n",
       "4           2185.285714           2266.678533   Sunday  "
      ]
     },
     "metadata": {},
     "output_type": "display_data"
    }
   ],
   "source": [
    "# Lastly, drop \"user_id\" column or it will be used in further analyses\n",
    "df_processed.drop(['user_id'], axis = 1, inplace = True)\n",
    "display(df_processed.head())"
   ]
  },
  {
   "cell_type": "markdown",
   "id": "036ca6b6",
   "metadata": {},
   "source": [
    "### 2.2: Choose your features (variables)!"
   ]
  },
  {
   "cell_type": "markdown",
   "id": "cd29b964",
   "metadata": {},
   "source": [
    "**Normalization** of variables is a common practice when working with data. It rescales all variables in the same range, keeping untouched the difference between values belonging to the same variable. This makes easier to compare them and it's crucial in *machine learning models* and *dimensionality reduction*: a variable with a wider range would intrinsecally influence the result of a prediction (or be relevant when reducing the dataset) more than the other variables, but this doesn’t necessarily mean it is more important.  \n",
    "There are two main ways of normalizing data:\n",
    "- **Standardization**: it consists of subtracting the mean and dividing by the standard deviation measured on the original variable. The result is a variable with mean equal to 0 and standard deviation equal to 1. It's better to use it when the model assumes that the variable follows a Gaussian distribution.\n",
    "- **Min-Max Normalization**: it consists of subtracting the minimum value and dividing by the difference between the maximum and the minimum value. The result is a variable which range is \\[0,1\\]. It's better to use it when the model doesn't make assumptions on the variable distribution.\n",
    "\n",
    "As it was decided to apply *PCA* to reduce the dimensionality of the dataset, it is necessary to standardize the numerical variables. The function *StandardScaler()* from the *scikit-learn* library is used to do so."
   ]
  },
  {
   "cell_type": "code",
   "execution_count": 25,
   "id": "f098c144",
   "metadata": {},
   "outputs": [
    {
     "data": {
      "text/html": [
       "<div>\n",
       "<style scoped>\n",
       "    .dataframe tbody tr th:only-of-type {\n",
       "        vertical-align: middle;\n",
       "    }\n",
       "\n",
       "    .dataframe tbody tr th {\n",
       "        vertical-align: top;\n",
       "    }\n",
       "\n",
       "    .dataframe thead th {\n",
       "        text-align: right;\n",
       "    }\n",
       "</style>\n",
       "<table border=\"1\" class=\"dataframe\">\n",
       "  <thead>\n",
       "    <tr style=\"text-align: right;\">\n",
       "      <th></th>\n",
       "      <th>avg_click_duration</th>\n",
       "      <th>avg_day_duration</th>\n",
       "      <th>std_day_duration</th>\n",
       "      <th>num_genres_watched</th>\n",
       "      <th>num_movies_watched</th>\n",
       "      <th>avg_holidays_duration</th>\n",
       "      <th>avg_session_duration</th>\n",
       "      <th>std_session_duration</th>\n",
       "    </tr>\n",
       "  </thead>\n",
       "  <tbody>\n",
       "    <tr>\n",
       "      <th>0</th>\n",
       "      <td>-0.320178</td>\n",
       "      <td>-0.281185</td>\n",
       "      <td>-0.358856</td>\n",
       "      <td>-0.056458</td>\n",
       "      <td>-0.147953</td>\n",
       "      <td>-0.090406</td>\n",
       "      <td>-0.320189</td>\n",
       "      <td>-0.334279</td>\n",
       "    </tr>\n",
       "    <tr>\n",
       "      <th>1</th>\n",
       "      <td>-0.308522</td>\n",
       "      <td>-0.324435</td>\n",
       "      <td>-0.325941</td>\n",
       "      <td>0.794375</td>\n",
       "      <td>-0.147953</td>\n",
       "      <td>-0.090406</td>\n",
       "      <td>-0.308533</td>\n",
       "      <td>-0.333396</td>\n",
       "    </tr>\n",
       "    <tr>\n",
       "      <th>2</th>\n",
       "      <td>-0.320084</td>\n",
       "      <td>-0.320282</td>\n",
       "      <td>-0.337226</td>\n",
       "      <td>1.645208</td>\n",
       "      <td>2.644099</td>\n",
       "      <td>-0.090406</td>\n",
       "      <td>-0.320095</td>\n",
       "      <td>-0.343561</td>\n",
       "    </tr>\n",
       "    <tr>\n",
       "      <th>3</th>\n",
       "      <td>-0.309440</td>\n",
       "      <td>-0.327432</td>\n",
       "      <td>-0.256616</td>\n",
       "      <td>3.063263</td>\n",
       "      <td>1.527278</td>\n",
       "      <td>-0.090406</td>\n",
       "      <td>-0.309452</td>\n",
       "      <td>-0.286229</td>\n",
       "    </tr>\n",
       "    <tr>\n",
       "      <th>4</th>\n",
       "      <td>-0.318590</td>\n",
       "      <td>-0.343981</td>\n",
       "      <td>-0.341120</td>\n",
       "      <td>0.227153</td>\n",
       "      <td>0.689662</td>\n",
       "      <td>-0.090406</td>\n",
       "      <td>-0.318601</td>\n",
       "      <td>-0.345157</td>\n",
       "    </tr>\n",
       "  </tbody>\n",
       "</table>\n",
       "</div>"
      ],
      "text/plain": [
       "   avg_click_duration  avg_day_duration  std_day_duration  num_genres_watched  \\\n",
       "0           -0.320178         -0.281185         -0.358856           -0.056458   \n",
       "1           -0.308522         -0.324435         -0.325941            0.794375   \n",
       "2           -0.320084         -0.320282         -0.337226            1.645208   \n",
       "3           -0.309440         -0.327432         -0.256616            3.063263   \n",
       "4           -0.318590         -0.343981         -0.341120            0.227153   \n",
       "\n",
       "   num_movies_watched  avg_holidays_duration  avg_session_duration  \\\n",
       "0           -0.147953              -0.090406             -0.320189   \n",
       "1           -0.147953              -0.090406             -0.308533   \n",
       "2            2.644099              -0.090406             -0.320095   \n",
       "3            1.527278              -0.090406             -0.309452   \n",
       "4            0.689662              -0.090406             -0.318601   \n",
       "\n",
       "   std_session_duration  \n",
       "0             -0.334279  \n",
       "1             -0.333396  \n",
       "2             -0.343561  \n",
       "3             -0.286229  \n",
       "4             -0.345157  "
      ]
     },
     "metadata": {},
     "output_type": "display_data"
    }
   ],
   "source": [
    "# Define a StandardScaler object\n",
    "scaler = StandardScaler()\n",
    "\n",
    "# Store all numerical columns names in a list\n",
    "numeric_columns = ['avg_click_duration', 'avg_day_duration', 'std_day_duration', 'num_genres_watched', 'num_movies_watched', 'avg_holidays_duration', 'avg_session_duration', 'std_session_duration']\n",
    "\n",
    "# Normalize all numerical features with the MinMaxScaler defined previously\n",
    "norm_features = pd.DataFrame(scaler.fit_transform(df_processed[numeric_columns]), columns = numeric_columns)\n",
    "\n",
    "# Display the normalized numerical features\n",
    "display(norm_features.head())"
   ]
  },
  {
   "cell_type": "markdown",
   "id": "b378ca38",
   "metadata": {},
   "source": [
    "Another common practice when working with data is performing a **Dimensionality Reduction** of the dataset.  \n",
    "There are many methods to perform it, all of them with their pros and cons, but with a common objective: reduce the number of features which compose the dataset. This is important because it provides lighter (in terms of storage) and less complex data, which means:\n",
    "- Less storage needed.\n",
    "- Less computational time needed.\n",
    "- Less misleading and redundant features, improving the accuracy of several machine learning models.\n",
    "- Easier to visualize data (not always).  \n",
    "\n",
    "But all of this benefits obviously come with some costs, such as:\n",
    "- Loss of information, due to the reduced number of features.\n",
    "- Less interpretability of the transformed features.\n",
    "\n",
    "As said before, there are several methods to perform dimensionality reduction on a dataset. They all differ in assumptions and types of variables which they can be applied on (categorical or numerical).  \n",
    "Here follows a list of the most popular dimensionality reduction methods:\n",
    "- **PCA (Principal Components Analysis)**: given a dataset with only numerical variables, it makes possible to generate a new dataset composed by an arbitrary number of features (less than or equal to the original one) named *principal components*. They are linar combinations of the original features and they are built such that they are pairwise incorrelated. Each principal component is correlated to several original features and tries to summarize their overall variance. Usually, the number of principal components to keep is chosen with respect to the total variance they explain (near 90-95% is preferred). It requires standardized data, otherwise those features whose range is wider would dominate over the others.\n",
    "- **MCA (Multiple Correspondence Analysis)**: given a dataset with only categorical variables, it makes possible to generate a new dataset composed by an arbitrary number of numerical features (less than or equal to the overall number of categories). The process is **similar to PCA**, but it takes as input the **one-hot encoded** dataset: it converts categorical variables into numerical ones, but at the same time it increases the number of features. This can be a problem when the overall number of categories is too high, because there would be necessary a high number of features to explain an acceptable amount of variance. Last not least, it's a generalization of **CA (Correspondence Analysis)**.\n",
    "- **FAMD (Factor Analysis of Mixed Data)**: given a dataset with both categorical and numerical variables, it makes possible to generate a new dataset composed by an arbitrary number of numerical features (less than or equal to the original number of features + overall number of categories). It is a **generalization of PCA and MCA**, because it acts as PCA on numerical features and as MCA on categorical features. It carries both the pros and cons of the two methods, including the **one-hot encoding** of the categorical variables.  "
   ]
  },
  {
   "cell_type": "markdown",
   "id": "88541264",
   "metadata": {},
   "source": [
    "The feature *best_movie* has got way too much categories (nearly 5000): since the following **chi-squared test** asserts that it's highly associated to the *favourite_genre* feature, it was decided to drop it."
   ]
  },
  {
   "cell_type": "code",
   "execution_count": 26,
   "id": "9fb2fc8c",
   "metadata": {},
   "outputs": [
    {
     "name": "stdout",
     "output_type": "stream",
     "text": [
      "The p-value of the chi-squared test of independence is: 0.0. This means that the two features are associated.\n"
     ]
    }
   ],
   "source": [
    "cont_table = pd.crosstab(df_processed.best_movie, df_processed.favourite_genre).to_numpy()\n",
    "print('The p-value of the chi-squared test of independence is: '+ str(chi2_contingency(cont_table).pvalue) + '. This means that the two features are associated.')"
   ]
  },
  {
   "cell_type": "markdown",
   "id": "bdd04084",
   "metadata": {},
   "source": [
    "Among the previously explained methods, in the beginning it was chosen to perform the **FAMD** because of the presence of both categorical and numerical features in the dataset. It automatically performs **one-hot encoding** of categorical variables, so it firstly increases the dimensions of the dataframe: since there are too many categories overall, the reduced dataset would have had more features than the original number (even though some of the categorical variables are re-categorized in part 2.1).  \n",
    "Given that, applying **MCA** on categorical variables and **PCA** on numerical variables was worth a try. Unfortunately **MCA** automatically performs **one-hot encoding** of categorical variables too, leading to the same problem that **FAMD** thrown.  \n",
    "Applying **PCA** on the whole dataset after performing **label encoding** of categorical variables was out of the question, since the high number of categories led to awkward results (one feature that explains 99% of overall variance).  \n",
    "As last resort, it was decided to apply **PCA** on numerical variables only and then perform **label encoding** on categorical variables, to make possible to use them later in cluster analysis."
   ]
  },
  {
   "cell_type": "markdown",
   "id": "7098f7ab",
   "metadata": {},
   "source": [
    "First of all, let's take a look at the correlation matrix of the numerical features, to spot any possible redundant feature:"
   ]
  },
  {
   "cell_type": "code",
   "execution_count": 27,
   "id": "2cd28997",
   "metadata": {
    "scrolled": false
   },
   "outputs": [
    {
     "data": {
      "image/png": "[encoded data removed]",
      "text/plain": [
       "<Figure size 800x800 with 2 Axes>"
      ]
     },
     "metadata": {},
     "output_type": "display_data"
    }
   ],
   "source": [
    "# Plot the correlation matrix of the normalized numeric features\n",
    "pear_corr = norm_features.corr()\n",
    "\n",
    "fig, ax = plt.subplots(figsize = (8,8))\n",
    "\n",
    "im = ax.matshow(pear_corr, cmap=plt.get_cmap('coolwarm'))\n",
    "ax.set_xticks(range(pear_corr.shape[1]), pear_corr.columns, fontsize=7, rotation = -45, ha='left', rotation_mode='anchor')\n",
    "ax.set_yticks(range(pear_corr.shape[1]), pear_corr.columns, fontsize=7)\n",
    "ax.set_title('Correlation Matrix', fontsize = 14)\n",
    "ax.tick_params(bottom = True, labelbottom = True, top = False, labeltop = False)\n",
    "\n",
    "fig.colorbar(im, ax=ax, orientation = 'vertical', fraction = 0.05);"
   ]
  },
  {
   "cell_type": "markdown",
   "id": "0c9ab826",
   "metadata": {},
   "source": [
    "It is clear that there is a strong correlation between the average time spent a day, the average time spent in a session and the average time spent for every click. There is also a quite high correlation between the number of movies and genres watched. This tells that they *may* be redundant features."
   ]
  },
  {
   "cell_type": "code",
   "execution_count": 28,
   "id": "087ec957",
   "metadata": {},
   "outputs": [
    {
     "name": "stdout",
     "output_type": "stream",
     "text": [
      "Explained variance by the selected principal components: 0.942\n"
     ]
    },
    {
     "data": {
      "text/plain": [
       "array([[ 0.48825418,  0.50226747,  0.33693736, -0.01577573, -0.01621542,\n",
       "         0.01227256,  0.48825581,  0.39591954],\n",
       "       [-0.10216222, -0.05554778,  0.2343083 ,  0.67031362,  0.66045955,\n",
       "         0.07169607, -0.10215324,  0.17456852],\n",
       "       [ 0.31767657,  0.21407124, -0.60719731,  0.20519043,  0.25396653,\n",
       "         0.06833132,  0.31767391, -0.52189897],\n",
       "       [-0.02088353, -0.01600105,  0.02047375, -0.06152747, -0.06550117,\n",
       "         0.99500646, -0.02088214,  0.01840446]])"
      ]
     },
     "metadata": {},
     "output_type": "display_data"
    },
    {
     "data": {
      "text/html": [
       "<div>\n",
       "<style scoped>\n",
       "    .dataframe tbody tr th:only-of-type {\n",
       "        vertical-align: middle;\n",
       "    }\n",
       "\n",
       "    .dataframe tbody tr th {\n",
       "        vertical-align: top;\n",
       "    }\n",
       "\n",
       "    .dataframe thead th {\n",
       "        text-align: right;\n",
       "    }\n",
       "</style>\n",
       "<table border=\"1\" class=\"dataframe\">\n",
       "  <thead>\n",
       "    <tr style=\"text-align: right;\">\n",
       "      <th></th>\n",
       "      <th>favourite_genre</th>\n",
       "      <th>time_of_day</th>\n",
       "      <th>vintage</th>\n",
       "      <th>best_season</th>\n",
       "      <th>weekends_user</th>\n",
       "      <th>best_day</th>\n",
       "      <th>PC1</th>\n",
       "      <th>PC2</th>\n",
       "      <th>PC3</th>\n",
       "      <th>PC4</th>\n",
       "    </tr>\n",
       "  </thead>\n",
       "  <tbody>\n",
       "    <tr>\n",
       "      <th>0</th>\n",
       "      <td>6</td>\n",
       "      <td>1</td>\n",
       "      <td>1</td>\n",
       "      <td>0</td>\n",
       "      <td>0</td>\n",
       "      <td>3</td>\n",
       "      <td>-0.704972</td>\n",
       "      <td>-0.203443</td>\n",
       "      <td>0.073396</td>\n",
       "      <td>-0.072417</td>\n",
       "    </tr>\n",
       "    <tr>\n",
       "      <th>1</th>\n",
       "      <td>14</td>\n",
       "      <td>0</td>\n",
       "      <td>0</td>\n",
       "      <td>0</td>\n",
       "      <td>1</td>\n",
       "      <td>3</td>\n",
       "      <td>-0.717295</td>\n",
       "      <td>0.374769</td>\n",
       "      <td>0.225679</td>\n",
       "      <td>-0.123871</td>\n",
       "    </tr>\n",
       "    <tr>\n",
       "      <th>2</th>\n",
       "      <td>0</td>\n",
       "      <td>0</td>\n",
       "      <td>0</td>\n",
       "      <td>0</td>\n",
       "      <td>1</td>\n",
       "      <td>3</td>\n",
       "      <td>-0.793023</td>\n",
       "      <td>2.786844</td>\n",
       "      <td>1.115050</td>\n",
       "      <td>-0.359105</td>\n",
       "    </tr>\n",
       "    <tr>\n",
       "      <th>3</th>\n",
       "      <td>5</td>\n",
       "      <td>0</td>\n",
       "      <td>0</td>\n",
       "      <td>0</td>\n",
       "      <td>0</td>\n",
       "      <td>3</td>\n",
       "      <td>-0.740623</td>\n",
       "      <td>3.026889</td>\n",
       "      <td>1.048751</td>\n",
       "      <td>-0.370826</td>\n",
       "    </tr>\n",
       "    <tr>\n",
       "      <th>4</th>\n",
       "      <td>0</td>\n",
       "      <td>0</td>\n",
       "      <td>0</td>\n",
       "      <td>0</td>\n",
       "      <td>1</td>\n",
       "      <td>3</td>\n",
       "      <td>-0.751349</td>\n",
       "      <td>0.545297</td>\n",
       "      <td>0.326791</td>\n",
       "      <td>-0.143630</td>\n",
       "    </tr>\n",
       "  </tbody>\n",
       "</table>\n",
       "</div>"
      ],
      "text/plain": [
       "   favourite_genre  time_of_day  vintage  best_season  weekends_user  \\\n",
       "0                6            1        1            0              0   \n",
       "1               14            0        0            0              1   \n",
       "2                0            0        0            0              1   \n",
       "3                5            0        0            0              0   \n",
       "4                0            0        0            0              1   \n",
       "\n",
       "   best_day       PC1       PC2       PC3       PC4  \n",
       "0         3 -0.704972 -0.203443  0.073396 -0.072417  \n",
       "1         3 -0.717295  0.374769  0.225679 -0.123871  \n",
       "2         3 -0.793023  2.786844  1.115050 -0.359105  \n",
       "3         3 -0.740623  3.026889  1.048751 -0.370826  \n",
       "4         3 -0.751349  0.545297  0.326791 -0.143630  "
      ]
     },
     "metadata": {},
     "output_type": "display_data"
    }
   ],
   "source": [
    "# PCA ON NUMERICAL VARIABLES ONLY\n",
    "# Create a new dataframe including only categorical columns.\n",
    "# Since the feature 'best_movie' causes some problems due to its high number of categories (nearly 5000)\n",
    "# and it's associated with the 'favourite_genre', it is possible to drop it.\n",
    "numeric_columns.append('best_movie')\n",
    "df_normalized = df_processed.drop(numeric_columns, axis = 1)\n",
    "numeric_columns.remove('best_movie')\n",
    "\n",
    "# Define a LabelEconder object and use it to encode all the categorical variables\n",
    "encoder = LabelEncoder()\n",
    "for col in df_normalized.columns:\n",
    "    df_normalized[col] = encoder.fit_transform(df_normalized[col])\n",
    "\n",
    "# Now it is possible to apply PCA to reduce the number of features of the dataset\n",
    "pca = PCA(n_components = 4)\n",
    "pca_reducer = pca.fit(norm_features)\n",
    "reduced_data = pd.DataFrame(pca_reducer.transform(norm_features), columns = ['PC1', 'PC2', 'PC3', 'PC4'])\n",
    "\n",
    "# By performing a brief analysis of the percentage of explained variance by the components, \n",
    "# It has been chosen to keep 4 of them, retaining 94.1% of total variance\n",
    "print('Explained variance by the selected principal components:', round(pca_reducer.explained_variance_ratio_.sum(),3))\n",
    "\n",
    "# Display feature importance for each component:\n",
    "# for each component it prints an array of dimension equal to the number of original features,\n",
    "# where each value represents the \"contribution\" of feature in the component\n",
    "display(pca.components_)\n",
    "\n",
    "# Concatenate the dataset with the previously normalized features\n",
    "df_normalized = pd.concat([df_normalized, reduced_data], axis = 1)\n",
    "\n",
    "# Display the reduced dataset\n",
    "display(df_normalized.head())"
   ]
  },
  {
   "cell_type": "markdown",
   "id": "10b73b84",
   "metadata": {},
   "source": [
    "### 2.3: Clustering!"
   ]
  },
  {
   "cell_type": "markdown",
   "id": "e702fbb8",
   "metadata": {},
   "source": [
    "The next phase concerns **clustering** of users based on their similarity. As it is an *NP-HARD* problem there are various algorithms and heuristics to do so, each one with its pros and cons. One of the most popular clustering technique is **K-Means**: it's an iterative algorithm which partitions the datapoints into an arbitrary number *K* of clusters. It's a **centroid-based algorithm**, which means that each datapoint belongs to the cluster whose centroid is the most near (usually in terms of *euclidean* distance). Each centroid is the mean of the datapoints belonging to the respective cluster. The algorithm consists in the iteration of the following steps:\n",
    "- Assignment step: the distance between each datapoint and each centroid is computed. Every datapoint is assigned to the cluster corresponding to the closest centroid. It can be seen as the Map-phase in a MapReduce paradigm.\n",
    "- Update step: the centroids are updated with the mean of the datapoints belonging to the respective cluster. It can be seen as the Reduce-phase in a MapReduce paradigm\n",
    "\n",
    "These steps mathematically guarantee that the **WCSS (within-clusters sum of squared distances)** decreases at each iteration. Nevertheless, it doesn't achieve to reach the global optimum, giving only a **local optimum solution** (in fact, it stops when the change of WCSS is under a given threshold). This is caused mainly by the choice of initial centroids, which is a set of randomly sampled datapoints, and by its *greedy* approach.  \n",
    "However, it is still one of the most popular clustering algorithms because of its simplicity of use. Here follows an implementation of it made *from scratch* using the *PySpark* library, which makes possible to parallelize it in a **MapReduce** paradigm:"
   ]
  },
  {
   "cell_type": "code",
   "execution_count": 29,
   "id": "ab27b353",
   "metadata": {},
   "outputs": [],
   "source": [
    "# Random initialization of centroids - KMeans\n",
    "def init_centroids(dframe, K, use_seed, seed):\n",
    "    # Sample K random points from the dataframe, use a fixed seed whenever the user wants to\n",
    "    if use_seed == True:\n",
    "        sampled = dframe.rdd.takeSample(False, K, seed)\n",
    "    else:\n",
    "        sampled = dframe.rdd.takeSample(False, K)\n",
    "    return sampled\n",
    "\n",
    "def assign(value, centroids_broadcast):\n",
    "    # This is the Map phase of the algorithm. \n",
    "    # Here, the distance between each point and each centroid is computed.\n",
    "    # Each point is assigned to the cluster corresponding to the closest centroid.\n",
    "    # The output is a pair where the index of the cluster is the key, and the value is\n",
    "    # another tuple containing the point, the squared distance from its centroid \n",
    "    # and the value \"1\" (which will be used to count the cardinality of the respective cluster).\n",
    "    min_dist = float('inf')\n",
    "    centr = centroids_broadcast.value\n",
    "    nearest_centroid = 0\n",
    "    # Calculate the distance between the point and each centroid, select the closest one\n",
    "    for i in range(len(centr)):\n",
    "        euc_distance = np.linalg.norm(np.subtract(centr[i],value), 2)\n",
    "        if euc_distance < min_dist:\n",
    "            min_dist = euc_distance\n",
    "            nearest_centroid = i\n",
    "    return (nearest_centroid, (value,min_dist**2,1))\n",
    "\n",
    "def summation(value_a, value_b):\n",
    "    # This is the Reduce phase of the algorithm. \n",
    "    # Here, the sum of the values with the same keys is computed.\n",
    "    # So, it adds up points belonging to the same cluster, their distance from the centroid, and the last value used to count them.\n",
    "    # The output is a RDD composed of K rows, where each row is a tuple which contains the respective key (cluser)\n",
    "    # and another tuple containing the sum of all points belonging to the respective cluster,\n",
    "    # the sum of their squared distance from the centroid and their count.\n",
    "    return (np.add(value_a[0],value_b[0]), np.add(value_a[1],value_b[1]), np.add(value_a[2],value_b[2]))\n",
    "\n",
    "def average(value):\n",
    "    # In this phase the points belonging to the reduced dataframe are divided by the respective count.\n",
    "    # The output is a RDD composed of K rows, where each row is a tuple which contains the respective key (cluser)\n",
    "    # and the associated centroid.\n",
    "    return np.divide(value[0],value[2])\n",
    "\n",
    "def evaluate_stop(lossval, niter, threshold, progress):\n",
    "    # Checks if the relative variation of the loss values is below an arbitrary threshold.\n",
    "    # If it's so, the algorithm stops prematurely.\n",
    "    if niter in [1,2]:\n",
    "        return False\n",
    "    elif abs((lossval[-1] - lossval[-2])/lossval[-2]) <= threshold:\n",
    "        #print('Stopped due to convergence')\n",
    "        progress.container.close()\n",
    "        return True\n",
    "    return False"
   ]
  },
  {
   "cell_type": "code",
   "execution_count": 30,
   "id": "11d51868",
   "metadata": {},
   "outputs": [],
   "source": [
    "# Custom KMeans algorithm coded with PySpark - leverages functions defined in the previous cell\n",
    "def custom_KM(dataframe, n_centroids, max_iter = 50, threshold = 1e-5, use_seed = False, seed = 81):\n",
    "    \n",
    "    start_time = time.time()\n",
    "    \n",
    "    # Initialization of random centroids\n",
    "    sparkdf = spark.createDataFrame(dataframe).coalesce(1)\n",
    "    centroids = init_centroids(dframe = sparkdf, K = n_centroids, use_seed = use_seed, seed = seed)\n",
    "    # Centroids are broadcasted, which means that they are cached and made available to each node\n",
    "    centroids_broadcast = sc.broadcast(centroids)\n",
    "    \n",
    "    # Setup of the partitioned dataframe. As it will used multiple times, '.persist()' is added to store \n",
    "    # its partitions in the respective nodes\n",
    "    sparkdf = spark.createDataFrame(dataframe).persist()\n",
    "    loss = []\n",
    "    \n",
    "    # Main Loop\n",
    "    tqdm_iterator = tqdm(range(1,max_iter+1), desc = 'Executing K-Means', leave=False, position = 1)\n",
    "    for i in tqdm_iterator:\n",
    "        # Map Phase - description inside custom function code\n",
    "        assignment_rdd = sparkdf.rdd.map(lambda x: assign(x, centroids_broadcast))\n",
    "    \n",
    "        # Reduce phase - description inside custom function code\n",
    "        update_rdd = assignment_rdd.reduceByKey(summation)\n",
    "        # The loss (sum of squared distances between its point and the respective cluster) \n",
    "        # is stored inside a list to record its history.\n",
    "        loss.append(sum([ind[1][1] for ind in update_rdd.collect()]))\n",
    "    \n",
    "        # Compute and update the centroids (the reduce phase is divided in two steps)\n",
    "        centroids_rdd = update_rdd.mapValues(average)\n",
    "        centroids = [ind[1] for ind in centroids_rdd.collect()]\n",
    "    \n",
    "        # Check if the arresting condition holds\n",
    "        stop = evaluate_stop(loss, i, threshold, tqdm_iterator)\n",
    "    \n",
    "        if (stop == False and i < max_iter):\n",
    "            # Broadcast the new centroids\n",
    "            centroids_broadcast = sc.broadcast(centroids)\n",
    "            continue\n",
    "        else:\n",
    "            # Stop\n",
    "            tqdm_iterator.container.close()\n",
    "            break\n",
    "    \n",
    "    end_time = time.time()\n",
    "    # Return a list containing the cluster which each point belongs,\n",
    "    # the final centroids and the history of loss values\n",
    "    return assignment_rdd.keys().map(lambda x: (x, )).toDF().toPandas(), centroids_broadcast.value, loss, end_time-start_time"
   ]
  },
  {
   "cell_type": "markdown",
   "id": "9e3bcf52",
   "metadata": {},
   "source": [
    "Let's compare the algorithm made *from scratch* with more popular implementations, such as the one provided by the *scikit-learn* library. The objective will be to find the **optimal number of clusters** by running the algorithms with different number of centroids on the previously reduced dataset and compare the obtained results:"
   ]
  },
  {
   "cell_type": "code",
   "execution_count": 34,
   "id": "5d1f19b4",
   "metadata": {},
   "outputs": [
    {
     "data": {
      "application/vnd.jupyter.widget-view+json": {
       "model_id": "70f87f40f1c942bdad6c515c09d9e6b3",
       "version_major": 2,
       "version_minor": 0
      },
      "text/plain": [
       "  0%|          | 0/19 [00:00<?, ?it/s]"
      ]
     },
     "metadata": {},
     "output_type": "display_data"
    },
    {
     "data": {
      "application/vnd.jupyter.widget-view+json": {
       "model_id": "",
       "version_major": 2,
       "version_minor": 0
      },
      "text/plain": [
       "Executing K-Means:   0%|          | 0/20 [00:00<?, ?it/s]"
      ]
     },
     "metadata": {},
     "output_type": "display_data"
    },
    {
     "data": {
      "application/vnd.jupyter.widget-view+json": {
       "model_id": "",
       "version_major": 2,
       "version_minor": 0
      },
      "text/plain": [
       "Executing K-Means:   0%|          | 0/20 [00:00<?, ?it/s]"
      ]
     },
     "metadata": {},
     "output_type": "display_data"
    },
    {
     "data": {
      "application/vnd.jupyter.widget-view+json": {
       "model_id": "",
       "version_major": 2,
       "version_minor": 0
      },
      "text/plain": [
       "Executing K-Means:   0%|          | 0/20 [00:00<?, ?it/s]"
      ]
     },
     "metadata": {},
     "output_type": "display_data"
    },
    {
     "data": {
      "application/vnd.jupyter.widget-view+json": {
       "model_id": "",
       "version_major": 2,
       "version_minor": 0
      },
      "text/plain": [
       "Executing K-Means:   0%|          | 0/20 [00:00<?, ?it/s]"
      ]
     },
     "metadata": {},
     "output_type": "display_data"
    },
    {
     "data": {
      "application/vnd.jupyter.widget-view+json": {
       "model_id": "",
       "version_major": 2,
       "version_minor": 0
      },
      "text/plain": [
       "Executing K-Means:   0%|          | 0/20 [00:00<?, ?it/s]"
      ]
     },
     "metadata": {},
     "output_type": "display_data"
    },
    {
     "data": {
      "application/vnd.jupyter.widget-view+json": {
       "model_id": "",
       "version_major": 2,
       "version_minor": 0
      },
      "text/plain": [
       "Executing K-Means:   0%|          | 0/20 [00:00<?, ?it/s]"
      ]
     },
     "metadata": {},
     "output_type": "display_data"
    },
    {
     "data": {
      "application/vnd.jupyter.widget-view+json": {
       "model_id": "",
       "version_major": 2,
       "version_minor": 0
      },
      "text/plain": [
       "Executing K-Means:   0%|          | 0/20 [00:00<?, ?it/s]"
      ]
     },
     "metadata": {},
     "output_type": "display_data"
    },
    {
     "data": {
      "application/vnd.jupyter.widget-view+json": {
       "model_id": "",
       "version_major": 2,
       "version_minor": 0
      },
      "text/plain": [
       "Executing K-Means:   0%|          | 0/20 [00:00<?, ?it/s]"
      ]
     },
     "metadata": {},
     "output_type": "display_data"
    },
    {
     "data": {
      "application/vnd.jupyter.widget-view+json": {
       "model_id": "",
       "version_major": 2,
       "version_minor": 0
      },
      "text/plain": [
       "Executing K-Means:   0%|          | 0/20 [00:00<?, ?it/s]"
      ]
     },
     "metadata": {},
     "output_type": "display_data"
    },
    {
     "data": {
      "application/vnd.jupyter.widget-view+json": {
       "model_id": "",
       "version_major": 2,
       "version_minor": 0
      },
      "text/plain": [
       "Executing K-Means:   0%|          | 0/20 [00:00<?, ?it/s]"
      ]
     },
     "metadata": {},
     "output_type": "display_data"
    },
    {
     "data": {
      "application/vnd.jupyter.widget-view+json": {
       "model_id": "",
       "version_major": 2,
       "version_minor": 0
      },
      "text/plain": [
       "Executing K-Means:   0%|          | 0/20 [00:00<?, ?it/s]"
      ]
     },
     "metadata": {},
     "output_type": "display_data"
    },
    {
     "data": {
      "application/vnd.jupyter.widget-view+json": {
       "model_id": "",
       "version_major": 2,
       "version_minor": 0
      },
      "text/plain": [
       "Executing K-Means:   0%|          | 0/20 [00:00<?, ?it/s]"
      ]
     },
     "metadata": {},
     "output_type": "display_data"
    },
    {
     "data": {
      "application/vnd.jupyter.widget-view+json": {
       "model_id": "",
       "version_major": 2,
       "version_minor": 0
      },
      "text/plain": [
       "Executing K-Means:   0%|          | 0/20 [00:00<?, ?it/s]"
      ]
     },
     "metadata": {},
     "output_type": "display_data"
    },
    {
     "data": {
      "application/vnd.jupyter.widget-view+json": {
       "model_id": "",
       "version_major": 2,
       "version_minor": 0
      },
      "text/plain": [
       "Executing K-Means:   0%|          | 0/20 [00:00<?, ?it/s]"
      ]
     },
     "metadata": {},
     "output_type": "display_data"
    },
    {
     "data": {
      "application/vnd.jupyter.widget-view+json": {
       "model_id": "",
       "version_major": 2,
       "version_minor": 0
      },
      "text/plain": [
       "Executing K-Means:   0%|          | 0/20 [00:00<?, ?it/s]"
      ]
     },
     "metadata": {},
     "output_type": "display_data"
    },
    {
     "data": {
      "application/vnd.jupyter.widget-view+json": {
       "model_id": "",
       "version_major": 2,
       "version_minor": 0
      },
      "text/plain": [
       "Executing K-Means:   0%|          | 0/20 [00:00<?, ?it/s]"
      ]
     },
     "metadata": {},
     "output_type": "display_data"
    },
    {
     "data": {
      "application/vnd.jupyter.widget-view+json": {
       "model_id": "",
       "version_major": 2,
       "version_minor": 0
      },
      "text/plain": [
       "Executing K-Means:   0%|          | 0/20 [00:00<?, ?it/s]"
      ]
     },
     "metadata": {},
     "output_type": "display_data"
    },
    {
     "data": {
      "application/vnd.jupyter.widget-view+json": {
       "model_id": "",
       "version_major": 2,
       "version_minor": 0
      },
      "text/plain": [
       "Executing K-Means:   0%|          | 0/20 [00:00<?, ?it/s]"
      ]
     },
     "metadata": {},
     "output_type": "display_data"
    },
    {
     "data": {
      "application/vnd.jupyter.widget-view+json": {
       "model_id": "",
       "version_major": 2,
       "version_minor": 0
      },
      "text/plain": [
       "Executing K-Means:   0%|          | 0/20 [00:00<?, ?it/s]"
      ]
     },
     "metadata": {},
     "output_type": "display_data"
    }
   ],
   "source": [
    "# Evaluate elbow rule and silouhette score. Compare scikit-learn KMeans and custom KMeans\n",
    "\n",
    "seed = 81\n",
    "\n",
    "# Calculate and store inertia and silhouette score for values of K under 20\n",
    "sk_inertia = {}\n",
    "custom_inertia = {}\n",
    "sk_silhouette = {}\n",
    "custom_silhouette = {}\n",
    "for k in tqdm(range(2, 21)):\n",
    "    # sklearn\n",
    "    model = KMeans(n_clusters=k, random_state = seed)\n",
    "    model.fit(df_normalized)\n",
    "    sk_inertia[k] = model.inertia_\n",
    "    # Calculating the silhouette score is computationally expensive, so it's calculated on a sample\n",
    "    sk_silhouette[k] = silhouette_score(df_normalized, model.labels_, sample_size = 15000)\n",
    "    \n",
    "    # custom\n",
    "    labels, final_centroids, lossvals = custom_KM(df_normalized, k, threshold = 1e-6, max_iter = 20, use_seed = True, seed = seed)\n",
    "    custom_inertia[k] = lossvals[-1]\n",
    "    # Calculating the silhouette score is computationally expensive, so it's calculated on a sample\n",
    "    custom_silhouette[k] = silhouette_score(df_normalized, labels.to_numpy().reshape(1,-1)[0], sample_size = 15000)"
   ]
  },
  {
   "cell_type": "code",
   "execution_count": 31,
   "id": "69443ac3",
   "metadata": {},
   "outputs": [],
   "source": [
    "########## DISCLAIMER ###########\n",
    "# AS THE CALCULATION OF INERTIA AND SILHOUETTE SCORES IS TIME CONSUMING\n",
    "# IT WAS DECIDED TO CALCULATE THEM ONE TIME USING A SPECIFIC SEED.\n",
    "# THEY ARE STORED IN THE FOLLOWING DICTIONARIES.\n",
    "# YOU CAN CHECK AND VALIDATE THESE RESULTS BY RUNNING THE ABOVE CELL OF CODE.\n",
    "sk_inertia = {2: 1719663.1460856795, 3: 1464404.8599544838, 4: 1273668.8853571685, 5: 1196742.178300465, 6: 1130113.0540012359, 7: 1072819.0559942673, 8: 1004361.321374144, 9: 954040.2130303633, 10: 899638.4345154508, 11: 871051.8460308583, 12: 836588.5272853695, 13: 807332.1165580997, 14: 789085.8838258544, 15: 763497.9743056188, 16: 740370.0937862765, 17: 716170.6376838645, 18: 701575.0824365811, 19: 672578.4570949073, 20: 662674.7762142003}\n",
    "custom_inertia = {2: 1719663.1460856826, 3: 1464404.859954491, 4: 1273686.7463168907, 5: 1215664.4924631817, 6: 1148188.2878440118, 7: 1097853.1525699173, 8: 1055747.1341754126, 9: 1013245.1496887062, 10: 937660.1083846409, 11: 920962.4716699143, 12: 892476.3877775363, 13: 904014.4337022597, 14: 804699.9419826429, 15: 812202.3316903338, 16: 755334.0797664123, 17: 740462.1161471253, 18: 720018.7025276246, 19: 690919.050333221, 20: 685993.717658695}\n",
    "sk_silhouette = {2: 0.48287788808345583, 3: 0.27319645430748773, 4: 0.2782266600721305, 5: 0.2510922358070114, 6: 0.24992628100756833, 7: 0.19998410289576646, 8: 0.20122862520218332, 9: 0.17565101822267598, 10: 0.1780544013989457, 11: 0.17686991029937502, 12: 0.17645010854682672, 13: 0.17581940282265618, 14: 0.1783014628657113, 15: 0.1658268280205674, 16: 0.1781356007807677, 17: 0.18165829295648403, 18: 0.17317822523910853, 19: 0.1802163848182883, 20: 0.17744624486760524}\n",
    "custom_silhouette = {2: 0.4841125371950478, 3: 0.26954812076567397, 4: 0.27792623315955245, 5: 0.23041017164072833, 6: 0.23761992595217496, 7: 0.20483426965190443, 8: 0.1967415808980472, 9: 0.16793413946905011, 10: 0.21663256123442176, 11: 0.17269214674943742, 12: 0.15836497446466227, 13: 0.1585992000190614, 14: 0.17005077258971862, 15: 0.15170548763314914, 16: 0.17302717177355603, 17: 0.17390054460739598, 18: 0.17437278281497579, 19: 0.17423827413701384, 20: 0.17712018483891084}"
   ]
  },
  {
   "cell_type": "code",
   "execution_count": 32,
   "id": "e1612be8",
   "metadata": {},
   "outputs": [
    {
     "data": {
      "image/png": "[encoded data removed]",
      "text/plain": [
       "<Figure size 1500x1500 with 4 Axes>"
      ]
     },
     "metadata": {},
     "output_type": "display_data"
    }
   ],
   "source": [
    "# Plot results (Scree plots with inertia and silhouette score)\n",
    "mpl.rcParams['grid.linestyle'] = \"-\" # Set grid parameter\n",
    "fig, axes = plt.subplots(nrows = 2, ncols = 2, figsize = (15,15)) # Set number of plots\n",
    "\n",
    "# set ticks labels (number of clusters)\n",
    "xticklabels = list(sk_inertia.keys())\n",
    "xticklabels.sort()\n",
    "\n",
    "# Inertia from sklearn\n",
    "axes[0][0].plot(xticklabels, list(sk_inertia.values()), marker = 'o', linewidth=2, color='blue')\n",
    "axes[0][0].axvline(x = 4, color = 'red', linestyle = 'dashed')\n",
    "axes[0][0].set_xlabel('Number of clusters')\n",
    "axes[0][0].set_ylabel('Inertia')\n",
    "axes[0][0].set_xticks(xticklabels, xticklabels)\n",
    "axes[0][0].set_title('Scree-plot of Inertia\\nScikit-Learn K-Means')\n",
    "axes[0][0].grid(True)\n",
    "\n",
    "# Inertia from custom algorithm\n",
    "axes[0][1].plot(xticklabels, list(custom_inertia.values()), marker = 'o', linewidth=2, color='blue')\n",
    "axes[0][1].axvline(x = 4, color = 'red', linestyle = 'dashed')\n",
    "axes[0][1].set_xlabel('Number of clusters')\n",
    "axes[0][1].set_ylabel('Inertia')\n",
    "axes[0][1].set_xticks(xticklabels, xticklabels)\n",
    "axes[0][1].set_title('Scree-plot of Inertia\\nCustom K-Means')\n",
    "axes[0][1].grid(True)\n",
    "\n",
    "# Silhouette Score from sklearn\n",
    "axes[1][0].plot(xticklabels, list(sk_silhouette.values()), marker = 'o', linewidth=2, color='darkgreen')\n",
    "axes[1][0].axvline(x = 2, color = 'red', linestyle = 'dashed')\n",
    "axes[1][0].set_xlabel('Number of clusters')\n",
    "axes[1][0].set_ylabel('Silhouette')\n",
    "axes[1][0].set_xticks(xticklabels, xticklabels)\n",
    "axes[1][0].set_title('Scree-plot of Silhouette Score\\nScikit-Learn K-Means')\n",
    "axes[1][0].grid(True)\n",
    "\n",
    "# Silhouette Score from custom algorithm\n",
    "axes[1][1].plot(xticklabels, list(custom_silhouette.values()), marker = 'o', linewidth=2, color='darkgreen')\n",
    "axes[1][1].axvline(x = 2, color = 'red', linestyle = 'dashed')\n",
    "axes[1][1].set_xlabel('Number of clusters')\n",
    "axes[1][1].set_ylabel('Silhouette')\n",
    "axes[1][1].set_xticks(xticklabels, xticklabels)\n",
    "axes[1][1].set_title('Scree-plot of Silhouette Score\\nCustom K-Means')\n",
    "axes[1][1].grid(True)\n",
    "\n",
    "opt_k = 4"
   ]
  },
  {
   "cell_type": "markdown",
   "id": "34214fea",
   "metadata": {},
   "source": [
    "**Inertia** (or WCSS) and **Silhouette Score** were computed for each given number of clusters.  \n",
    "The most popular rules to choose the optimal number of centroids are the *Elbow rule* and the maximization of *Silhouette Score*. The former asserts that the optimal number of centroids is in correspondence of the *elbow* of a scree plot of the **Inertia**, while the latter asserts that it is in correspondence of the maximum **Silhouette Score**.   \n",
    "Taking account of the *Elbow rule* it can be observed that, in the first two plots, the suggested optimal number of clusters is 4. On the other hand, the *Silhouette Score* indicates in both cases that the optimal number of clusters is 2: it is counter-intuitive, because it leads to a way too high inertia.  \n",
    "Given that, it could be stated that the **optimal number of clusters is 4** without any doubts.   \n",
    "Last not least, the optimal number of clusters suggested by *scikit-learn* matches the one indicated by the algorithm made *from scratch* in all cases: this is an index of goodness of it."
   ]
  },
  {
   "cell_type": "code",
   "execution_count": 57,
   "id": "1cceb4d6",
   "metadata": {},
   "outputs": [
    {
     "data": {
      "application/vnd.jupyter.widget-view+json": {
       "model_id": "",
       "version_major": 2,
       "version_minor": 0
      },
      "text/plain": [
       "Executing K-Means:   0%|          | 0/50 [00:00<?, ?it/s]"
      ]
     },
     "metadata": {},
     "output_type": "display_data"
    }
   ],
   "source": [
    "# Let's run the custom algorithm on the reduced dataset once again, considering the optimal number of clusters\n",
    "labels, final_centroids, lossvals, time_elapsed = custom_KM(df_normalized, opt_k, threshold = 1e-6, max_iter = 50, use_seed = False)"
   ]
  },
  {
   "cell_type": "code",
   "execution_count": 58,
   "id": "4fc3f857",
   "metadata": {},
   "outputs": [
    {
     "name": "stdout",
     "output_type": "stream",
     "text": [
      "The number of maximum iterations was 50. It stopped after 59.56 seconds. The history of WCSS values is the following:\n",
      "[2916216.15 1622334.07 1402603.37 1392851.59 1392058.8  1391730.03\n",
      " 1391257.43 1390703.25 1390482.26 1390203.84 1389813.3  1389063.73\n",
      " 1387789.65 1385959.02 1384329.77 1383418.69 1382561.81 1381687.15\n",
      " 1380699.26 1376710.89 1372798.32 1354056.37 1309568.29 1289203.33\n",
      " 1280678.4  1276671.57 1274761.83 1274030.93 1273774.6  1273698.76\n",
      " 1273680.9  1273670.61 1273669.4 ]\n"
     ]
    }
   ],
   "source": [
    "print('The number of maximum iterations was 50. It stopped after '+ str(round(time_elapsed,2))+' seconds. The history of WCSS values is the following:')\n",
    "print(np.around(lossvals,2))"
   ]
  },
  {
   "cell_type": "markdown",
   "id": "72713b8a",
   "metadata": {},
   "source": [
    "There are many variants of the KMeans algorithm. One of the most popular is the **KMeans++**, which implements a new method for selecting the initial centroids: the first centroid is randomly sampled from the dataset, while the other centroids are sampled with probability proportional to the distance from the closest centroid (among the ones already selected).  \n",
    "It was demonstrated several times that this algorithm manages to achieve better results than the classical KMeans in almost all cases: in most cases it returns a solution with **less WCSS**, but in some cases it reaches the same local optimum in **much less iterations**.  \n",
    "As the steps of the algorithm after the initialization remain the same, the **KMeans++** can be implemented *from scratch* in *PySpark* using a **MapReduce** paradigm:"
   ]
  },
  {
   "cell_type": "code",
   "execution_count": 33,
   "id": "335868e5",
   "metadata": {},
   "outputs": [],
   "source": [
    "# Initialization of centroids - KMeans++\n",
    "def map_init(value, centroids_broadcast):\n",
    "    # The minimum squared distance from the already selected centroids is computed for each datapoint\n",
    "    min_dist = float('inf')\n",
    "    centr = centroids_broadcast.value\n",
    "    for i in range(len(centr)):\n",
    "        # Calculate distance and store it, if it's the minimum\n",
    "        euc_distance = np.linalg.norm(np.subtract(centr[i],value), 2)\n",
    "        if euc_distance < min_dist:\n",
    "            min_dist = euc_distance\n",
    "    return (value, min_dist**2)\n",
    "\n",
    "def init_centroids_pp(dframe, K, use_seed, seed):\n",
    "    # Sample one random point from the dataframe, use a fixed seed whenever the user wants to\n",
    "    if use_seed:\n",
    "        sampled = dframe.rdd.takeSample(False, 1, seed)\n",
    "    else:\n",
    "        sampled = dframe.rdd.takeSample(False, 1)\n",
    "    # The first centroid is broadcasted\n",
    "    centroids_broadcast = sc.broadcast(sampled)\n",
    "    \n",
    "    # Iterate K-1 times to sample the remaining centroids\n",
    "    for i in tqdm(range(K-1), 'Sampling Centroids', leave=False, position = 1):\n",
    "        # Map phase - description inside custom function code\n",
    "        distances = dframe.rdd.map(lambda x: map_init(x,centroids_broadcast))\n",
    "    \n",
    "        # Reduce phase - calculate the total sum of squared distances\n",
    "        total_squared_distance = distances.map(lambda x: x[1]).reduce(lambda x, y: x + y)\n",
    "    \n",
    "        # Map phase - normalize the distances to get the probabilities of being sampled\n",
    "        normalized_distances = distances.map(lambda x: (x[0], x[1] / total_squared_distance))\n",
    "    \n",
    "        # Use numpy to sample the index of the new centroid based on the normalized distance\n",
    "        # use a fixed seed whenever the user wants to\n",
    "        probabilities = normalized_distances.map(lambda x: x[1]).collect()\n",
    "        if use_seed:\n",
    "            np.random.seed(seed+i)\n",
    "            new_centroid_index = np.random.choice(np.arange(len(probabilities)), size=1, replace=False, p=probabilities)\n",
    "        else:\n",
    "            new_centroid_index = np.random.choice(np.arange(len(probabilities)), size=1, replace=False, p=probabilities)\n",
    "        new_centroid = normalized_distances.take(new_centroid_index.item(0))[-1][0]\n",
    "    \n",
    "        # Filter out the selected centroid from the original dataframe, to prevent it from being sampled again\n",
    "        filter_condition = ~(reduce(lambda acc, col: acc & (dframe[col] == new_centroid[col]), dframe.columns, lit(True)))\n",
    "        dframe = dframe.filter(filter_condition)\n",
    "    \n",
    "        # Add the new centroid to the list of centroids and broadcast them\n",
    "        sampled.append(new_centroid)\n",
    "        centroids_broadcast = sc.broadcast(sampled)\n",
    "    \n",
    "    return centroids_broadcast.value"
   ]
  },
  {
   "cell_type": "code",
   "execution_count": 34,
   "id": "4bce959c",
   "metadata": {},
   "outputs": [],
   "source": [
    "# Custom KMeans++ algorithm coded with PySpark - leverages functions defined in the previous cell\n",
    "# and some functions already used in KMeans\n",
    "def custom_KM_pp(dataframe, n_centroids, max_iter = 50, threshold = 1e-5, use_seed = False, seed = 81):\n",
    "    \n",
    "    start_time = time.time()\n",
    "    \n",
    "    # Initialization of centroids, sampling proportionally to minimum squared distance from already selected centroids\n",
    "    centroids = init_centroids_pp(spark.createDataFrame(dataframe).coalesce(1), K = n_centroids, use_seed = use_seed, seed = seed)\n",
    "    # The centroids are broadcasted\n",
    "    centroids_broadcast = sc.broadcast(centroids)\n",
    "    \n",
    "    # Setup of the partitioned dataframe. As it will used multiple times, '.persist()' is added to store \n",
    "    # its partitions in the respective nodes\n",
    "    sparkdf = spark.createDataFrame(dataframe).persist()\n",
    "    loss = []\n",
    "    \n",
    "    # Main Loop\n",
    "    tqdm_iterator = tqdm(range(1,max_iter+1), desc = 'Executing K-Means', leave=False, position = 1)\n",
    "    for i in tqdm_iterator:\n",
    "        # Map Phase - description inside custom function code\n",
    "        assignment_rdd = sparkdf.rdd.map(lambda x: assign(x, centroids_broadcast))\n",
    "    \n",
    "        # Reduce phase - description inside custom function code\n",
    "        update_rdd = assignment_rdd.reduceByKey(summation)\n",
    "        # The loss (sum of squared distances between its point and the respective cluster) \n",
    "        # is stored inside a list to record its history.\n",
    "        loss.append(sum([ind[1][1] for ind in update_rdd.collect()]))\n",
    "    \n",
    "        # Compute and update the centroids (the reduce phase is divided in two steps)\n",
    "        centroids_rdd = update_rdd.mapValues(average)\n",
    "        centroids = [ind[1] for ind in centroids_rdd.collect()]\n",
    "    \n",
    "        # Check if the arresting condition holds\n",
    "        stop = evaluate_stop(loss, i, threshold, tqdm_iterator)\n",
    "    \n",
    "        if (stop == False and i < max_iter):\n",
    "            # Broadcast the new centroids\n",
    "            centroids_broadcast = sc.broadcast(centroids)\n",
    "            continue\n",
    "        else:\n",
    "            # Stop\n",
    "            tqdm_iterator.container.close()\n",
    "            break\n",
    "    \n",
    "    end_time = time.time()\n",
    "    # Return a list containing the cluster which each point belongs,\n",
    "    # the final centroids and the history of loss values\n",
    "    return assignment_rdd.keys().map(lambda x: (x, )).toDF().toPandas(), centroids_broadcast.value, loss, end_time-start_time"
   ]
  },
  {
   "cell_type": "markdown",
   "id": "64e1a2b8",
   "metadata": {},
   "source": [
    "Let's test and compare it against the classic **KMeans**:"
   ]
  },
  {
   "cell_type": "code",
   "execution_count": 55,
   "id": "0f226f9a",
   "metadata": {},
   "outputs": [
    {
     "data": {
      "application/vnd.jupyter.widget-view+json": {
       "model_id": "",
       "version_major": 2,
       "version_minor": 0
      },
      "text/plain": [
       "Sampling Centroids:   0%|          | 0/3 [00:00<?, ?it/s]"
      ]
     },
     "metadata": {},
     "output_type": "display_data"
    },
    {
     "data": {
      "application/vnd.jupyter.widget-view+json": {
       "model_id": "",
       "version_major": 2,
       "version_minor": 0
      },
      "text/plain": [
       "Executing K-Means:   0%|          | 0/50 [00:00<?, ?it/s]"
      ]
     },
     "metadata": {},
     "output_type": "display_data"
    }
   ],
   "source": [
    "# Run KMeans++ with 'opt_k' and explain differences\n",
    "labels_pp, final_centroids_pp, lossvals_pp, time_elapsed_pp = custom_KM_pp(df_normalized, opt_k, threshold = 1e-6, max_iter = 50, use_seed = False)"
   ]
  },
  {
   "cell_type": "code",
   "execution_count": 56,
   "id": "de3270bf",
   "metadata": {},
   "outputs": [
    {
     "name": "stdout",
     "output_type": "stream",
     "text": [
      "The number of maximum iterations was 50. It stopped after 65.76 seconds. The history of WCSS values is the following:\n",
      "[2058142.91 1452217.53 1386193.65 1327356.8  1295561.05 1283609.53\n",
      " 1278097.05 1275364.76 1274232.78 1273833.51 1273716.91 1273683.31\n",
      " 1273671.1  1273669.3  1273668.89]\n"
     ]
    }
   ],
   "source": [
    "print('The number of maximum iterations was 50. It stopped after '+ str(round(time_elapsed_pp,2))+' seconds. The history of WCSS values is the following:')\n",
    "print(np.around(lossvals_pp,2)) # Same local optima but it found it in much less iterations"
   ]
  },
  {
   "cell_type": "markdown",
   "id": "7d6a27ab",
   "metadata": {},
   "source": [
    "As expected, the **KMeans++** provided the same result in less iterations (but it took more time because of the initialization, which I think isn't really optimized at its best in this implementation). Taking account of its solution, the final dataset would be:"
   ]
  },
  {
   "cell_type": "code",
   "execution_count": 35,
   "id": "44553cc6",
   "metadata": {},
   "outputs": [
    {
     "data": {
      "text/html": [
       "<div>\n",
       "<style scoped>\n",
       "    .dataframe tbody tr th:only-of-type {\n",
       "        vertical-align: middle;\n",
       "    }\n",
       "\n",
       "    .dataframe tbody tr th {\n",
       "        vertical-align: top;\n",
       "    }\n",
       "\n",
       "    .dataframe thead th {\n",
       "        text-align: right;\n",
       "    }\n",
       "</style>\n",
       "<table border=\"1\" class=\"dataframe\">\n",
       "  <thead>\n",
       "    <tr style=\"text-align: right;\">\n",
       "      <th></th>\n",
       "      <th>favourite_genre</th>\n",
       "      <th>time_of_day</th>\n",
       "      <th>vintage</th>\n",
       "      <th>best_season</th>\n",
       "      <th>weekends_user</th>\n",
       "      <th>best_day</th>\n",
       "      <th>PC1</th>\n",
       "      <th>PC2</th>\n",
       "      <th>PC3</th>\n",
       "      <th>PC4</th>\n",
       "      <th>cluster</th>\n",
       "    </tr>\n",
       "  </thead>\n",
       "  <tbody>\n",
       "    <tr>\n",
       "      <th>0</th>\n",
       "      <td>6</td>\n",
       "      <td>1</td>\n",
       "      <td>1</td>\n",
       "      <td>0</td>\n",
       "      <td>0</td>\n",
       "      <td>3</td>\n",
       "      <td>-0.704972</td>\n",
       "      <td>-0.203443</td>\n",
       "      <td>0.073396</td>\n",
       "      <td>-0.072417</td>\n",
       "      <td>3</td>\n",
       "    </tr>\n",
       "    <tr>\n",
       "      <th>1</th>\n",
       "      <td>14</td>\n",
       "      <td>0</td>\n",
       "      <td>0</td>\n",
       "      <td>0</td>\n",
       "      <td>1</td>\n",
       "      <td>3</td>\n",
       "      <td>-0.717295</td>\n",
       "      <td>0.374769</td>\n",
       "      <td>0.225679</td>\n",
       "      <td>-0.123871</td>\n",
       "      <td>0</td>\n",
       "    </tr>\n",
       "    <tr>\n",
       "      <th>2</th>\n",
       "      <td>0</td>\n",
       "      <td>0</td>\n",
       "      <td>0</td>\n",
       "      <td>0</td>\n",
       "      <td>1</td>\n",
       "      <td>3</td>\n",
       "      <td>-0.793023</td>\n",
       "      <td>2.786844</td>\n",
       "      <td>1.115050</td>\n",
       "      <td>-0.359105</td>\n",
       "      <td>2</td>\n",
       "    </tr>\n",
       "    <tr>\n",
       "      <th>3</th>\n",
       "      <td>5</td>\n",
       "      <td>0</td>\n",
       "      <td>0</td>\n",
       "      <td>0</td>\n",
       "      <td>0</td>\n",
       "      <td>3</td>\n",
       "      <td>-0.740623</td>\n",
       "      <td>3.026889</td>\n",
       "      <td>1.048751</td>\n",
       "      <td>-0.370826</td>\n",
       "      <td>3</td>\n",
       "    </tr>\n",
       "    <tr>\n",
       "      <th>4</th>\n",
       "      <td>0</td>\n",
       "      <td>0</td>\n",
       "      <td>0</td>\n",
       "      <td>0</td>\n",
       "      <td>1</td>\n",
       "      <td>3</td>\n",
       "      <td>-0.751349</td>\n",
       "      <td>0.545297</td>\n",
       "      <td>0.326791</td>\n",
       "      <td>-0.143630</td>\n",
       "      <td>2</td>\n",
       "    </tr>\n",
       "  </tbody>\n",
       "</table>\n",
       "</div>"
      ],
      "text/plain": [
       "   favourite_genre  time_of_day  vintage  best_season  weekends_user  \\\n",
       "0                6            1        1            0              0   \n",
       "1               14            0        0            0              1   \n",
       "2                0            0        0            0              1   \n",
       "3                5            0        0            0              0   \n",
       "4                0            0        0            0              1   \n",
       "\n",
       "   best_day       PC1       PC2       PC3       PC4  cluster  \n",
       "0         3 -0.704972 -0.203443  0.073396 -0.072417        3  \n",
       "1         3 -0.717295  0.374769  0.225679 -0.123871        0  \n",
       "2         3 -0.793023  2.786844  1.115050 -0.359105        2  \n",
       "3         3 -0.740623  3.026889  1.048751 -0.370826        3  \n",
       "4         3 -0.751349  0.545297  0.326791 -0.143630        2  "
      ]
     },
     "metadata": {},
     "output_type": "display_data"
    }
   ],
   "source": [
    "########## DISCLAIMER ########### \n",
    "# KMEANS++ WAS RUN WITHOUT SEED AND THE RESULT HANDED IN CSV FORMAT\n",
    "# TO ANOTHER GROUP MEMBER IN ORDER TO MAKE HIM ABLE TO DO PART 2.4.\n",
    "# TO AVOID DISCREPANCIES, THE SAME DATASET WILL BE IMPORTED FROM A CSV FILE.\n",
    "clustered_df = pd.read_csv('final_dataset.csv')\n",
    "display(clustered_df.head())"
   ]
  },
  {
   "cell_type": "markdown",
   "id": "c997584f",
   "metadata": {},
   "source": [
    "It was asked ChatGPT to recommend other clustering algorithms based on a sample of the dataset. It suggested the following algorithms:\n",
    "- **K-Modes**: an extension of K-Means for categorical data. It works with categorical data by defining modes (most frequent categories) for each cluster.\n",
    "- **K-Prototype**: an extension of K-Means that can handle both numerical and categorical data. It combines K-Means for numerical data and K-Modes for categorical data.\n",
    "\n",
    "It was decided to use the **K-Prototype** algorithm, because it seems to be more suitable to the dataset to analyze. It's provided by the *kmodes* library:"
   ]
  },
  {
   "cell_type": "code",
   "execution_count": 36,
   "id": "c8f1ad6e",
   "metadata": {},
   "outputs": [],
   "source": [
    "# Store names of categorical features and set their type as 'object'\n",
    "categorical_columns = ['favourite_genre', 'time_of_day', 'vintage', 'best_season', 'weekends_user', 'best_day']\n",
    "df_normalized_prot = df_normalized\n",
    "df_normalized_prot[categorical_columns] = df_normalized[categorical_columns].astype(str)\n",
    "\n",
    "# Fit K-Prototypes\n",
    "kproto = KPrototypes(n_clusters=opt_k, init='Cao', n_jobs = -1, n_init = 1, max_iter = 50)\n",
    "clusters = kproto.fit_predict(df_normalized_prot, categorical=[0,1,2,3,4,5])"
   ]
  },
  {
   "cell_type": "code",
   "execution_count": 37,
   "metadata": {},
   "outputs": [
    {
     "data": {
      "text/plain": [
       "617720.5977188741"
      ]
     },
     "metadata": {},
     "output_type": "display_data"
    }
   ],
   "source": [
    "display(kproto.cost_)"
   ]
  },
  {
   "cell_type": "markdown",
   "metadata": {},
   "source": [
    "As it can be seen, the final inertia of the **K-Prototype** algorithm is much lower than the one found with the solution returned by the **KMeans** and **KMeans++** algorithms. This is indeed a better solution, whose is found because the algorithm itslef is designed to handle both numerical and categorical data. Here follows also the first few lines of the dataset clustered with this algorithm:"
   ]
  },
  {
   "cell_type": "code",
   "execution_count": 46,
   "id": "bf7c4753",
   "metadata": {},
   "outputs": [
    {
     "data": {
      "text/html": [
       "<div>\n",
       "<style scoped>\n",
       "    .dataframe tbody tr th:only-of-type {\n",
       "        vertical-align: middle;\n",
       "    }\n",
       "\n",
       "    .dataframe tbody tr th {\n",
       "        vertical-align: top;\n",
       "    }\n",
       "\n",
       "    .dataframe thead th {\n",
       "        text-align: right;\n",
       "    }\n",
       "</style>\n",
       "<table border=\"1\" class=\"dataframe\">\n",
       "  <thead>\n",
       "    <tr style=\"text-align: right;\">\n",
       "      <th></th>\n",
       "      <th>favourite_genre</th>\n",
       "      <th>time_of_day</th>\n",
       "      <th>vintage</th>\n",
       "      <th>best_season</th>\n",
       "      <th>weekends_user</th>\n",
       "      <th>best_day</th>\n",
       "      <th>PC1</th>\n",
       "      <th>PC2</th>\n",
       "      <th>PC3</th>\n",
       "      <th>PC4</th>\n",
       "      <th>cluster</th>\n",
       "    </tr>\n",
       "  </thead>\n",
       "  <tbody>\n",
       "    <tr>\n",
       "      <th>0</th>\n",
       "      <td>6</td>\n",
       "      <td>1</td>\n",
       "      <td>1</td>\n",
       "      <td>0</td>\n",
       "      <td>0</td>\n",
       "      <td>3</td>\n",
       "      <td>-0.704972</td>\n",
       "      <td>-0.203443</td>\n",
       "      <td>0.073396</td>\n",
       "      <td>-0.072417</td>\n",
       "      <td>0</td>\n",
       "    </tr>\n",
       "    <tr>\n",
       "      <th>1</th>\n",
       "      <td>14</td>\n",
       "      <td>0</td>\n",
       "      <td>0</td>\n",
       "      <td>0</td>\n",
       "      <td>1</td>\n",
       "      <td>3</td>\n",
       "      <td>-0.717295</td>\n",
       "      <td>0.374769</td>\n",
       "      <td>0.225679</td>\n",
       "      <td>-0.123871</td>\n",
       "      <td>0</td>\n",
       "    </tr>\n",
       "    <tr>\n",
       "      <th>2</th>\n",
       "      <td>0</td>\n",
       "      <td>0</td>\n",
       "      <td>0</td>\n",
       "      <td>0</td>\n",
       "      <td>1</td>\n",
       "      <td>3</td>\n",
       "      <td>-0.793023</td>\n",
       "      <td>2.786844</td>\n",
       "      <td>1.115050</td>\n",
       "      <td>-0.359105</td>\n",
       "      <td>3</td>\n",
       "    </tr>\n",
       "    <tr>\n",
       "      <th>3</th>\n",
       "      <td>5</td>\n",
       "      <td>0</td>\n",
       "      <td>0</td>\n",
       "      <td>0</td>\n",
       "      <td>0</td>\n",
       "      <td>3</td>\n",
       "      <td>-0.740623</td>\n",
       "      <td>3.026889</td>\n",
       "      <td>1.048751</td>\n",
       "      <td>-0.370826</td>\n",
       "      <td>3</td>\n",
       "    </tr>\n",
       "    <tr>\n",
       "      <th>4</th>\n",
       "      <td>0</td>\n",
       "      <td>0</td>\n",
       "      <td>0</td>\n",
       "      <td>0</td>\n",
       "      <td>1</td>\n",
       "      <td>3</td>\n",
       "      <td>-0.751349</td>\n",
       "      <td>0.545297</td>\n",
       "      <td>0.326791</td>\n",
       "      <td>-0.143630</td>\n",
       "      <td>0</td>\n",
       "    </tr>\n",
       "  </tbody>\n",
       "</table>\n",
       "</div>"
      ],
      "text/plain": [
       "  favourite_genre time_of_day vintage best_season weekends_user best_day  \\\n",
       "0               6           1       1           0             0        3   \n",
       "1              14           0       0           0             1        3   \n",
       "2               0           0       0           0             1        3   \n",
       "3               5           0       0           0             0        3   \n",
       "4               0           0       0           0             1        3   \n",
       "\n",
       "        PC1       PC2       PC3       PC4  cluster  \n",
       "0 -0.704972 -0.203443  0.073396 -0.072417        0  \n",
       "1 -0.717295  0.374769  0.225679 -0.123871        0  \n",
       "2 -0.793023  2.786844  1.115050 -0.359105        3  \n",
       "3 -0.740623  3.026889  1.048751 -0.370826        3  \n",
       "4 -0.751349  0.545297  0.326791 -0.143630        0  "
      ]
     },
     "metadata": {},
     "output_type": "display_data"
    }
   ],
   "source": [
    "# Create a new dataframe with the 'cluster' column\n",
    "clustered_df_prot = pd.concat([df_normalized_prot, pd.DataFrame(data = clusters, columns = ['cluster'])], axis = 1)\n",
    "display(clustered_df_prot.head())"
   ]
  },
  {
   "cell_type": "markdown",
   "id": "b62a59ce",
   "metadata": {},
   "source": [
    "## 2.4 Analysing your results!"
   ]
  },
  {
   "cell_type": "markdown",
   "id": "777b6a53",
   "metadata": {},
   "source": [
    "Cluster Characterization:\n",
    "\n",
    "    Time_of_day:\n",
    "        Afternoon Cluster (0): Customers who engage during the afternoon.\n",
    "        Evening Cluster (1): Customers who engage during the evening.\n",
    "        Morning Cluster (2): Customers who engage during the morning hours.\n",
    "        Night Cluster (3): Customers who engage at night.\n",
    "\n",
    "    Best_season:\n",
    "        Spring Cluster (0): Customers who prefer the spring season.\n",
    "        Summer Cluster (1): Customers who prefer the summer season.\n",
    "        Autumn Cluster (2): Customers who prefer the autumn season.\n",
    "        Winter Cluster (3): Customers who prefer the winter season."
   ]
  },
  {
   "cell_type": "code",
   "execution_count": 48,
   "id": "f3851247",
   "metadata": {},
   "outputs": [
    {
     "data": {
      "text/plain": [
       "'Time_of_day Pivot Table (Percentage):'"
      ]
     },
     "metadata": {},
     "output_type": "display_data"
    },
    {
     "data": {
      "text/html": [
       "<div>\n",
       "<style scoped>\n",
       "    .dataframe tbody tr th:only-of-type {\n",
       "        vertical-align: middle;\n",
       "    }\n",
       "\n",
       "    .dataframe tbody tr th {\n",
       "        vertical-align: top;\n",
       "    }\n",
       "\n",
       "    .dataframe thead th {\n",
       "        text-align: right;\n",
       "    }\n",
       "</style>\n",
       "<table border=\"1\" class=\"dataframe\">\n",
       "  <thead>\n",
       "    <tr style=\"text-align: right;\">\n",
       "      <th>cluster</th>\n",
       "      <th>0</th>\n",
       "      <th>1</th>\n",
       "      <th>2</th>\n",
       "      <th>3</th>\n",
       "    </tr>\n",
       "    <tr>\n",
       "      <th>time_of_day_category</th>\n",
       "      <th></th>\n",
       "      <th></th>\n",
       "      <th></th>\n",
       "      <th></th>\n",
       "    </tr>\n",
       "  </thead>\n",
       "  <tbody>\n",
       "    <tr>\n",
       "      <th>Afternoon Cluster</th>\n",
       "      <td>11.644262</td>\n",
       "      <td>12.078775</td>\n",
       "      <td>12.965070</td>\n",
       "      <td>12.676832</td>\n",
       "    </tr>\n",
       "    <tr>\n",
       "      <th>Evening Cluster</th>\n",
       "      <td>47.631977</td>\n",
       "      <td>49.978118</td>\n",
       "      <td>44.797776</td>\n",
       "      <td>47.492707</td>\n",
       "    </tr>\n",
       "    <tr>\n",
       "      <th>Morning Cluster</th>\n",
       "      <td>28.799074</td>\n",
       "      <td>28.227571</td>\n",
       "      <td>29.488751</td>\n",
       "      <td>28.810481</td>\n",
       "    </tr>\n",
       "    <tr>\n",
       "      <th>Night Cluster</th>\n",
       "      <td>11.924686</td>\n",
       "      <td>9.715536</td>\n",
       "      <td>12.748402</td>\n",
       "      <td>11.019981</td>\n",
       "    </tr>\n",
       "  </tbody>\n",
       "</table>\n",
       "</div>"
      ],
      "text/plain": [
       "cluster                       0          1          2          3\n",
       "time_of_day_category                                            \n",
       "Afternoon Cluster     11.644262  12.078775  12.965070  12.676832\n",
       "Evening Cluster       47.631977  49.978118  44.797776  47.492707\n",
       "Morning Cluster       28.799074  28.227571  29.488751  28.810481\n",
       "Night Cluster         11.924686   9.715536  12.748402  11.019981"
      ]
     },
     "metadata": {},
     "output_type": "display_data"
    },
    {
     "data": {
      "text/plain": [
       "'Best_season Pivot Table (Percentage):'"
      ]
     },
     "metadata": {},
     "output_type": "display_data"
    },
    {
     "data": {
      "text/html": [
       "<div>\n",
       "<style scoped>\n",
       "    .dataframe tbody tr th:only-of-type {\n",
       "        vertical-align: middle;\n",
       "    }\n",
       "\n",
       "    .dataframe tbody tr th {\n",
       "        vertical-align: top;\n",
       "    }\n",
       "\n",
       "    .dataframe thead th {\n",
       "        text-align: right;\n",
       "    }\n",
       "</style>\n",
       "<table border=\"1\" class=\"dataframe\">\n",
       "  <thead>\n",
       "    <tr style=\"text-align: right;\">\n",
       "      <th>cluster</th>\n",
       "      <th>0</th>\n",
       "      <th>1</th>\n",
       "      <th>2</th>\n",
       "      <th>3</th>\n",
       "    </tr>\n",
       "    <tr>\n",
       "      <th>best_season_category</th>\n",
       "      <th></th>\n",
       "      <th></th>\n",
       "      <th></th>\n",
       "      <th></th>\n",
       "    </tr>\n",
       "  </thead>\n",
       "  <tbody>\n",
       "    <tr>\n",
       "      <th>Autumn Cluster</th>\n",
       "      <td>23.555595</td>\n",
       "      <td>25.295405</td>\n",
       "      <td>22.977764</td>\n",
       "      <td>21.269335</td>\n",
       "    </tr>\n",
       "    <tr>\n",
       "      <th>Spring Cluster</th>\n",
       "      <td>28.678893</td>\n",
       "      <td>23.107221</td>\n",
       "      <td>23.824740</td>\n",
       "      <td>27.035284</td>\n",
       "    </tr>\n",
       "    <tr>\n",
       "      <th>Summer Cluster</th>\n",
       "      <td>31.189353</td>\n",
       "      <td>31.772429</td>\n",
       "      <td>35.754618</td>\n",
       "      <td>31.526944</td>\n",
       "    </tr>\n",
       "    <tr>\n",
       "      <th>Winter Cluster</th>\n",
       "      <td>16.576160</td>\n",
       "      <td>19.824945</td>\n",
       "      <td>17.442878</td>\n",
       "      <td>20.168437</td>\n",
       "    </tr>\n",
       "  </tbody>\n",
       "</table>\n",
       "</div>"
      ],
      "text/plain": [
       "cluster                       0          1          2          3\n",
       "best_season_category                                            \n",
       "Autumn Cluster        23.555595  25.295405  22.977764  21.269335\n",
       "Spring Cluster        28.678893  23.107221  23.824740  27.035284\n",
       "Summer Cluster        31.189353  31.772429  35.754618  31.526944\n",
       "Winter Cluster        16.576160  19.824945  17.442878  20.168437"
      ]
     },
     "metadata": {},
     "output_type": "display_data"
    }
   ],
   "source": [
    "# Categorize time_of_day\n",
    "time_of_day_categories = {\n",
    "    0: 'Morning Cluster',\n",
    "    1: 'Evening Cluster',\n",
    "    2: 'Afternoon Cluster',\n",
    "    3: 'Night Cluster'\n",
    "}\n",
    "\n",
    "df['time_of_day_category'] = df['time_of_day'].map(time_of_day_categories)\n",
    "\n",
    "# Categorize best_season\n",
    "best_season_categories = {\n",
    "    0: 'Spring Cluster',\n",
    "    1: 'Summer Cluster',\n",
    "    2: 'Autumn Cluster',\n",
    "    3: 'Winter Cluster'\n",
    "}\n",
    "\n",
    "df['best_season_category'] = df['best_season'].map(best_season_categories)\n",
    "\n",
    "# Pivot table for time_of_day\n",
    "time_of_day_pivot = pd.pivot_table(df, values='time_of_day', index='time_of_day_category', columns='cluster', aggfunc='count', fill_value=0)\n",
    "time_of_day_pivot_percentage = time_of_day_pivot.div(time_of_day_pivot.sum(axis=0), axis=1) * 100\n",
    "\n",
    "# Pivot table for best_season\n",
    "best_season_pivot = pd.pivot_table(df, values='best_season', index='best_season_category', columns='cluster', aggfunc='count', fill_value=0)\n",
    "best_season_pivot_percentage = best_season_pivot.div(best_season_pivot.sum(axis=0), axis=1) * 100\n",
    "\n",
    "# Print the results\n",
    "display(\"Time_of_day Pivot Table (Percentage):\")\n",
    "display(time_of_day_pivot_percentage)\n",
    "\n",
    "display(\"Best_season Pivot Table (Percentage):\")\n",
    "display(best_season_pivot_percentage)\n"
   ]
  },
  {
   "cell_type": "markdown",
   "id": "e0c57a1b",
   "metadata": {},
   "source": [
    "Pivot Table for Time of Day (Percentage):\n",
    "\n",
    "    Afternoon Cluster (2): I can see that this cluster has a fairly balanced distribution throughout the day, but there is a slight increase in engagement during the afternoon hours for all clusters.\n",
    "\n",
    "    Evening Cluster (1): It is evident that this cluster represents customers who are more active in the evening. Percentages range from 44.80% to 49.98%, indicating a strong preference for interaction during the evening hours.\n",
    "\n",
    "    Morning Cluster (0): This cluster shows a consistent engagement pattern during the morning hours, with percentages ranging from 28.23% to 29.49%. It seems that these customers prefer to interact in the morning.\n",
    "\n",
    "    Night Cluster (3): I notice a balanced distribution across different times of the day, with a slight inclination towards interaction at night. It suggests that this cluster is also active during the night.\n",
    "\n",
    "Pivot Table for Preferred Season (Percentage):\n",
    "\n",
    "    Autumn Cluster (2): The distribution here is quite balanced, with a slight inclination towards the autumn season. It seems that customers in this cluster have a slight preference for interaction during autumn.\n",
    "\n",
    "    Spring Cluster (0): This cluster indicates a clear preference for the spring season, with percentages ranging from 23.11% to 28.68%. Customers in this group seem to prefer spring.\n",
    "\n",
    "    Summer Cluster (1): The summer season stands out for this cluster, with percentages ranging from 31.19% to 35.75%. It is evident that these customers are more active during the summer.\n",
    "\n",
    "    Winter Cluster (3): This cluster shows a balanced distribution, with a slight preference for the winter season. It suggests that customers in this group might prefer to interact during the winter months.\n",
    "\n",
    "Algorithm Clustering Performance:\n",
    "\n",
    "From my perspective, the clustering algorithm seems to have achieved fairly good results. The identified clusters align with expectations based on the time of day and preferred seasons. The percentages in the pivot tables provide information about the strength of these preferences within each cluster."
   ]
  },
  {
   "cell_type": "markdown",
   "id": "4b775a4c",
   "metadata": {},
   "source": [
    "## 3. Bonus Question"
   ]
  },
  {
   "cell_type": "markdown",
   "id": "8cb43ece",
   "metadata": {},
   "source": [
    "DBSCAN for the analysis on the provided dataset."
   ]
  },
  {
   "cell_type": "code",
   "execution_count": null,
   "id": "a08ae0b8",
   "metadata": {},
   "outputs": [],
   "source": [
    "\n",
    "# Select relevant features for clustering\n",
    "features = df_normalized[['PC1', 'PC2', 'PC3', 'PC4']]\n",
    "\n",
    "# Apply DBSCAN\n",
    "dbscan = DBSCAN(eps=0.5, min_samples=5)  # You may need to adjust eps and min_samples\n",
    "df_normalized['dbscan_labels'] = dbscan.fit_predict(features)\n",
    "\n",
    "# Visualize the results\n",
    "plt.figure(figsize=(10, 6))\n",
    "sns.scatterplot(x='PC1', y='PC2', hue='dbscan_labels', data=df_normalized, palette='viridis', legend='full')\n",
    "plt.title('DBSCAN Clustering Results')\n",
    "plt.show()"
   ]
  },
  {
   "cell_type": "markdown",
   "id": "497577bc",
   "metadata": {},
   "source": [
    "ChatGPT:\n",
    "\n",
    "Certainly! Here are three density-based clustering algorithms:\n",
    "\n",
    "    DBSCAN (Density-Based Spatial Clustering of Applications with Noise):\n",
    "        DBSCAN is a widely used density-based clustering algorithm.\n",
    "        It defines clusters as continuous regions of high point density, separated by regions of lower point density.\n",
    "        It is effective in discovering clusters of arbitrary shapes and is less sensitive to outliers.\n",
    "\n",
    "    OPTICS (Ordering Points To Identify Clustering Structure):\n",
    "        OPTICS is an extension of DBSCAN that produces a reachability plot.\n",
    "        It allows for the identification of clusters with varying densities and provides a hierarchical view of the clusters.\n",
    "        It is particularly useful when dealing with datasets containing clusters of different shapes and sizes.\n",
    "\n",
    "    HDBSCAN (Hierarchical Density-Based Spatial Clustering of Applications with Noise):\n",
    "        HDBSCAN is an improvement over DBSCAN that produces a hierarchy of clusters.\n",
    "        It can automatically determine the number of clusters, making it more flexible.\n",
    "        It is robust to variations in cluster density and provides a detailed cluster hierarchy."
   ]
  },
  {
   "cell_type": "markdown",
   "metadata": {},
   "source": [
    "# 4. Command Line Question"
   ]
  },
  {
   "cell_type": "markdown",
   "metadata": {},
   "source": [
    "The executable script file and the output screen can be found in the repository under the name CommandLine.sh and CommandLine.png. Below I put the text of the file for easier reading and understanding."
   ]
  },
  {
   "cell_type": "markdown",
   "metadata": {},
   "source": [
    "```bash\n",
    "#!/bin/bash\n",
    "input_file=\"vodclickstream_uk_movies_03.csv\"\n",
    "\n",
    "# 1. What is the most-watched Netflix title?\n",
    "# group by the uniques titles and count the number of occurrences, saving them in a txt file\n",
    "awk -F ',' '{print $4}' $input_file | sort | uniq -c | sort -nr > title_count.txt\n",
    "# get the title from the txt file\n",
    "most_watched_title=$(head -n 1 title_count.txt | awk '{$1=\"\"; print $0}' | sed 's/^ *//')\n",
    "echo \"Most watched title: $most_watched_title\"\n",
    "\n",
    "# 2. The average time of subsequent clicks on Netflix.com\n",
    "# filtering the duration tha has to be >= 0.0 and saving the values in a new file\n",
    "awk -F ',' '{ if ($3 >= 0.0) print $0 }' $input_file > filtered_duration.csv\n",
    "# the sum of duration (column 3) and the average of them\n",
    "avg_duration=$(awk -F ',' '{print $3}' filtered_duration.csv | awk '{sum += $1} END {print sum/NR}')\n",
    "# convert the duration from seconds to minutes\n",
    "avg_min=$(awk -v avg_duration=\"$avg_duration\" 'BEGIN { avg_min = avg_duration / 60; printf \"%.2f\\n\", avg_min }')\n",
    "# print the result\n",
    "echo \"Average duration of subsequent clicks: $avg_min minutes\"\n",
    "\n",
    "# 3. ID of the user that has spent the most time on Netflix\n",
    "# group by the user_id and sum the duration time of each user, then sorting them and saving them in a txt file\n",
    "awk -F ',' 'NR>1 { sum[$NF] += $3 } END { for (i in sum) print i, sum[i] }' filtered_duration.csv | sort -k2,2nr > sorted_users.txt\n",
    "# get the user_id from the txt file\n",
    "high_time_user=$(head -n 1 sorted_users.txt | awk '{print $1}')\n",
    "echo \"The user that has spent the most time on Netflix: $high_time_user\"\n",
    "```"
   ]
  },
  {
   "cell_type": "markdown",
   "metadata": {},
   "source": [
    "1. To get the most watched Netflix title, we first grouped by each title in the dataset, then counted each time this appeared and saved the results in descending order in a new file, called ```title_count.txt```. At the end we extracted the first title of the file previusly created.\n",
    "2. The average time of subsequent clicks on Netflix, we interpreted it as the average of all the duration times in the column 'duration' of the dataset, since it represents how much time the user stayed on the title, so each value corresponds to one click. Sais this, we filtered the dataset taking into account only the durations that are not negative, then summed all the remaining and took the average. Finally we converted the result from seconds to minutes.\n",
    "3. The id of the user that has spent the most time on netflix has been extracted by first grouping the dataset by each user id, then summing the durations of each one and sorting them in descending order in a file, called ```sorted_users.txt```. At the end we extracted the first user in the file just created."
   ]
  },
  {
   "cell_type": "markdown",
   "metadata": {},
   "source": [
    "The following are the results"
   ]
  },
  {
   "cell_type": "markdown",
   "metadata": {},
   "source": [
    "![CommandLine](CommandLine.png)"
   ]
  },
  {
   "cell_type": "markdown",
   "metadata": {},
   "source": [
    "# 5. Algorithmic Question"
   ]
  },
  {
   "cell_type": "markdown",
   "metadata": {},
   "source": [
    "He was given an initial personal score of when he enrolled ***S***, which changes every time he takes an exam.\\\n",
    "Every of the exams he has to take is assigned a mark ***p***.\\\n",
    "Once he has chosen an exam, his score becomes equal to the mark **S = p**, and at the same time, the scoring system changes:\n",
    "- If he takes an \"easy\" exam (the score of the exam being less than his score), every other exam's mark is increased by\n",
    "the quantity **$S-p$**.\n",
    "- If he takes a \"hard\" exam (the score of the exam is greater than his score), every other exam's mark is decreased by\n",
    "the quantity **$p-S$**.\n",
    "- The exam score can't be negative, so if in any update a mark goes below zero it must be collapsed to zero.\n",
    "\n",
    "He wants to know which is the highest score possible he could get.\n"
   ]
  },
  {
   "cell_type": "code",
   "execution_count": 1,
   "metadata": {},
   "outputs": [],
   "source": [
    "import itertools"
   ]
  },
  {
   "cell_type": "code",
   "execution_count": 2,
   "metadata": {},
   "outputs": [],
   "source": [
    "def FedericosScore(S, marks, p):\n",
    "\n",
    "    copy_marks = marks.copy()                                             # T(n)\n",
    "\n",
    "    if len(copy_marks) == 1:   # base case                                # T(1)\n",
    "        return copy_marks[0]                                              \n",
    "\n",
    "    if p <= S: # easy exam                                                # T(1)\n",
    "        copy_marks.pop(0)                                                 # T(n)\n",
    "        copy_marks = [x+(S-p) if x+(S-p)>=0 else 0 for x in copy_marks]   # T(n) \n",
    "        S = p                                                             # T(1)\n",
    "\n",
    "    else: # hard exam                                                     # T(n)\n",
    "        copy_marks.pop(0)\n",
    "        copy_marks = [x-(p-S) if x-(p-S) >= 0 else 0 for x in copy_marks] #T(n) \n",
    "        S = p\n",
    "        \n",
    "    return FedericosScore(S, copy_marks, copy_marks[0])                   # T(n-1) \n"
   ]
  },
  {
   "cell_type": "code",
   "execution_count": 4,
   "metadata": {},
   "outputs": [
    {
     "name": "stdout",
     "output_type": "stream",
     "text": [
      "The highest score Federico can get is: 11 with this oder: [7, 1, 5]\n"
     ]
    }
   ],
   "source": [
    "# input 1\n",
    "S = 8\n",
    "marks = [5, 7, 1]\n",
    "\n",
    "permutations = [list(x) for x in itertools.permutations(marks, len(marks))] # all the possible permutations of the exams O(n!)\n",
    "\n",
    "scores = {}\n",
    "for permu in permutations:\n",
    "    scores[FedericosScore(S=S, marks=permu, p=permu[0])] = permu\n",
    "max_s = max(scores.keys())\n",
    "print(f'The highest score Federico can get is: {max_s} with this oder: {scores[max_s]}')"
   ]
  },
  {
   "cell_type": "code",
   "execution_count": 5,
   "metadata": {},
   "outputs": [
    {
     "name": "stdout",
     "output_type": "stream",
     "text": [
      "The highest score Federico can get is: 44 with this order: [27, 21, 32, 18, 24]\n"
     ]
    }
   ],
   "source": [
    "# input 2\n",
    "S = 25\n",
    "marks = [18, 24, 21, 32, 27]\n",
    "\n",
    "#FedericosScore(S, marks, marks[0])\n",
    "\n",
    "permutations = [list(x) for x in itertools.permutations(marks, len(marks))] # all the possible permutations of the exams \n",
    "\n",
    "scores = {}\n",
    "for permu in permutations:\n",
    "    scores[FedericosScore(S=S, marks=permu, p=permu[0])] = permu\n",
    "max_s = max(scores.keys())\n",
    "print(f'The highest score Federico can get is: {max_s} with this order: {scores[max_s]}')"
   ]
  },
  {
   "cell_type": "code",
   "execution_count": null,
   "metadata": {},
   "outputs": [],
   "source": [
    "# input 3\n",
    "S = 30\n",
    "marks = [13, 27, 41, 59, 28, 33, 39, 19, 52, 48, 55, 79]\n",
    "\n",
    "permutations = [list(x) for x in itertools.permutations(marks, len(marks))] # all the possible permutations of the exams \n",
    "\n",
    "# memory exceeded\n",
    "\n",
    "scores = {}\n",
    "for permu in permutations:\n",
    "    scores[FedericosScore(S=S, marks=permu, p=permu[0])] = permu\n",
    "max_s = max(scores.keys())\n",
    "print(f'The highest score Federico can get is: {max_s} with this order: {scores[max_s]}')"
   ]
  },
  {
   "cell_type": "markdown",
   "metadata": {},
   "source": [
    "The idea behind this initial solution is to have a function, ```FedrericosScore```, that takes in input:\n",
    "- ```S```: the initial score of the student\n",
    "- ```marks```: the list of the exams' marks\n",
    "- ```p```: the first exam's mark\n",
    "\n",
    "Then, since the student can choose the order of the esams he can take, we compute all the possible $n!$ permutations of the exams and give them in input, one by one, to the function.\\\n",
    "The result will be stored in a dictionary with keys the score and as vaulues the specific permutation that will make the student obstain that final score.\\\n",
    "Finally, we take the maximum score, out of the dictionary's keys, and its associated value; in this way the student will know in which order he has to take its exams in order to obtain the maximum score possible.\n",
    "\n",
    "time complexity of the function:\\\n",
    "Assuming $n$ is the lenght of the ```marks``` list\n",
    "- ```copy_marks``` has a time complexity of $T(n)$\n",
    "- ```if len(copy_marks) == 1``` has a constant time complexity $T(1)$\n",
    "- ```if p <= S:``` has a total time complexity of $T(n)$, since it has to pop the first element, shifting all the others, and in the list comprehension has to iterate on all the elements of the list.\n",
    "- ```else:``` has a total time complexity of $T(n)$ for the same reason above.\n",
    "- ```return FedericosScore``` has a time complexity of $T(n-1)$ in the worst case, since depends on the number of elements left in the list.\n",
    "\n",
    "The total running time $T(n)$ can be expressed as:\n",
    "\\begin{align*}\n",
    "T(n) =\n",
    "\\begin{cases} \n",
    "n+1 & \\text{ if $n = 1$} \\\\\n",
    "T(n-1)+5n+1 & \\text{ if $n>1$} \n",
    "\\end{cases}\n",
    "\\end{align*}\n",
    "Generalizing we'll have a $T(n-i)+(5 \\cdot i)n + i$, which at the end will result in $T(n) = 5n^2 - 3n + 2 \\implies O(n^2)$.  \n",
    "\n",
    "So the function has a quadratic time complexity of $O(n^2)$, then it has to be applied $n!$ times, for each one of the permutations of the list, so at the end the whole algorithm will have a complexity of $O(n^2 \\cdot n!)$\n",
    "\n",
    "This can't be sustainbable, since is highly memory-comsuming computing all the $n!$ permutations of a list as $n$ grows; for this reason this method doesn't work on the ```intput 3``` since has $n=12$ elements and all its permutations will be $479.001.600$. "
   ]
  },
  {
   "cell_type": "markdown",
   "metadata": {},
   "source": [
    "## Optimization"
   ]
  },
  {
   "cell_type": "code",
   "execution_count": 7,
   "metadata": {},
   "outputs": [],
   "source": [
    "def Federicos_score_opt(S, marks):\n",
    "\n",
    "    if len(marks) == 0:                                                                # T(1)     \n",
    "        return S                                                                       # T(1)     \n",
    "    \n",
    "    maxScore = 0  # keep track of the maximum score Federico can achieve               # T(1)\n",
    "    for i, mark in enumerate(marks):                                                   # T(n) \n",
    "        update_marks = marks[:i] + marks[i+1:] # don't consider the current exam       # T(n) \n",
    "        newScore = mark                                                                # T(1)\n",
    "        if mark <= S: # esasy exam                                                     # T(1)\n",
    "            update_marks = [x+(S-mark) if x+(S-mark)>=0 else 0 for x in update_marks]  # T(n)\n",
    "        else: # hard exam\n",
    "            update_marks = [x-(mark-S) if x-(mark-S)>=0 else 0 for x in update_marks]  # T(n)\n",
    "\n",
    "        # comparing the current maxScore with the result of the recursive call.\n",
    "        maxScore = max(maxScore, Federicos_score_opt(newScore, update_marks))          # T(n-1)\n",
    "    return maxScore                                                                    # T(1)"
   ]
  },
  {
   "cell_type": "code",
   "execution_count": 8,
   "metadata": {},
   "outputs": [
    {
     "name": "stdout",
     "output_type": "stream",
     "text": [
      "Output 1: 11\n"
     ]
    }
   ],
   "source": [
    "# input 1\n",
    "S_1 = 8\n",
    "p_1 = [5, 7, 1]\n",
    "result_1 = Federicos_score_opt(S_1, p_1)\n",
    "print(\"Output 1:\", result_1)"
   ]
  },
  {
   "cell_type": "code",
   "execution_count": 12,
   "metadata": {},
   "outputs": [
    {
     "name": "stdout",
     "output_type": "stream",
     "text": [
      "Output 2: 44\n"
     ]
    }
   ],
   "source": [
    "S_2 = 25\n",
    "p_2 = [18, 24, 21, 32, 27]\n",
    "result_2 = Federicos_score_opt(S_2, p_2)\n",
    "print(\"Output 2:\", result_2)"
   ]
  },
  {
   "cell_type": "code",
   "execution_count": 11,
   "metadata": {},
   "outputs": [
    {
     "name": "stdout",
     "output_type": "stream",
     "text": [
      "Output 3: 109\n"
     ]
    }
   ],
   "source": [
    "S_3 = 30\n",
    "p_3 = [13, 27, 41, 59, 28, 33, 39, 19, 52, 48, 55, 79]\n",
    "result_3 = Federicos_score_opt(S_3, p_3)\n",
    "print(\"Output 3:\", result_3)\n",
    "\n",
    "# took 16 mins"
   ]
  },
  {
   "cell_type": "markdown",
   "metadata": {},
   "source": [
    "In this solution we don't have to explicitally compute all the possible permutations of the exams, because the optimized function explores all possible combinations of the exams recursivly and eventually finds the combination that guarantees the highest score possible by exploring different paths for each exam in the list. \n",
    "\n",
    "Time complexity of the function:\\\n",
    "Assuming $n$ is the lenght of the ```marks``` list\n",
    "- ```if len(copy_marks) == 1``` has a constant time complexity $T(1)$\n",
    "- ```for i, mark in enumerate(marks)``` has a linear time of $T(n)$ because we iterate through all the exams\n",
    "- ```update_marks = marks[:i] + marks[i + 1:]``` has a linear time complexity $T(n)$ since we're performing a list slicing\n",
    "- ```if mark <= S``` loop has a total complexity of $T(n)$ since the list comprehension inside explores all the elements in the list\n",
    "- ```else``` loop has the complexity of $T(n)$ for the same reason above\n",
    "- ```maxScore = max(maxScore, Federicos_score_opt(newScore, update_marks))``` has a time complexity of $T(n-1)$ in the worst case, since depends on the number of elements left in the list.\n",
    "\n",
    "Since the recursive call of the function is inside the loop of complexity $O(n^2)$, this significantly contributes to the overall complexity of the function, that is $O(n^3)$.\\\n",
    "This is an improvement in respect to the previus algorithm, both on time complexity and memory complexity, since we're now able to actually see a result for the exam's list of the third input."
   ]
  },
  {
   "cell_type": "markdown",
   "metadata": {},
   "source": [
    "# ChatGPT optimization implementation "
   ]
  },
  {
   "cell_type": "code",
   "execution_count": 31,
   "metadata": {},
   "outputs": [],
   "source": [
    "def Federicos_score_chatGPT(S, marks, store={}):\n",
    "    if len(marks) == 0:\n",
    "        return S\n",
    "\n",
    "    if (S, tuple(marks)) in store:\n",
    "        return store[(S, tuple(marks))]\n",
    "\n",
    "    maxScore = 0\n",
    "    for i, mark in enumerate(marks):\n",
    "        update_marks = marks[:i] + marks[i + 1:]\n",
    "        newScore = mark\n",
    "        if mark <= S:\n",
    "            update_marks = [x + (S - mark) if x + (S - mark) >= 0 else 0 for x in update_marks]\n",
    "        else:\n",
    "            update_marks = [x - (mark - S) if x - (mark - S) >= 0 else 0 for x in update_marks]\n",
    "\n",
    "        maxScore = max(maxScore, Federicos_score_chatGPT(newScore, update_marks, store))\n",
    "\n",
    "    store[(S, tuple(marks))] = maxScore\n",
    "    return maxScore\n"
   ]
  },
  {
   "cell_type": "code",
   "execution_count": 32,
   "metadata": {},
   "outputs": [
    {
     "name": "stdout",
     "output_type": "stream",
     "text": [
      "Output 1: 11\n"
     ]
    }
   ],
   "source": [
    "# input 1\n",
    "S_1 = 8\n",
    "p_1 = [5, 7, 1]\n",
    "result_1 = Federicos_score_chatGPT(8, [5,7,1])\n",
    "print(\"Output 1:\", result_1)"
   ]
  },
  {
   "cell_type": "code",
   "execution_count": 29,
   "metadata": {},
   "outputs": [
    {
     "name": "stdout",
     "output_type": "stream",
     "text": [
      "Output 2: 44\n"
     ]
    }
   ],
   "source": [
    "S_2 = 25\n",
    "p_2 = [18, 24, 21, 32, 27]\n",
    "result_2 = Federicos_score_chatGPT(S_2, p_2)\n",
    "print(\"Output 2:\", result_2)"
   ]
  },
  {
   "cell_type": "code",
   "execution_count": 30,
   "metadata": {},
   "outputs": [
    {
     "name": "stdout",
     "output_type": "stream",
     "text": [
      "Output 3: 109\n"
     ]
    }
   ],
   "source": [
    "S_3 = 30\n",
    "p_3 = [13, 27, 41, 59, 28, 33, 39, 19, 52, 48, 55, 79]\n",
    "result_3 = Federicos_score_chatGPT(S_3, p_3)\n",
    "print(\"Output 3:\", result_3)\n",
    "\n",
    "# took 2.5 seconds"
   ]
  },
  {
   "cell_type": "markdown",
   "metadata": {},
   "source": [
    "Optimization Approach:\n",
    "\n",
    "- **Memoization**: Introduced a memoization dictionary (```store```) to store previously computed results for combinations of ```S``` and ```marks```. This prevents redundant calculations by checking if a specific combination has been encountered before. If so, it retrieves the result from memo instead of recomputing it.\n",
    "\n",
    "- **Avoidance of Recomputation**: By storing and retrieving results from the ```store``` dictionary, the function bypasses the need to recompute solutions for the same combination of ```S``` and ```marks```. This significantly reduces the number of recursive calls and computations required, leading to a more efficient algorithm overall.\n",
    "\n",
    "This optimization effectively reduces the time complexity of the algorithm from $O(n^3)$ to $O(n^2)$ by avoiding redundant computations through memoization."
   ]
  }
 ],
 "metadata": {
  "kernelspec": {
   "display_name": "Python 3 (ipykernel)",
   "language": "python",
   "name": "python3"
  },
  "language_info": {
   "codemirror_mode": {
    "name": "ipython",
    "version": 3
   },
   "file_extension": ".py",
   "mimetype": "text/x-python",
   "name": "python",
   "nbconvert_exporter": "python",
   "pygments_lexer": "ipython3",
   "version": "3.9.18"
  }
 },
 "nbformat": 4,
 "nbformat_minor": 2
}
